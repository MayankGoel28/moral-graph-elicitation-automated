{
 "cells": [
  {
   "cell_type": "code",
   "execution_count": 29,
   "id": "7d70eeef",
   "metadata": {},
   "outputs": [],
   "source": [
    "%load_ext autoreload\n",
    "%autoreload 2"
   ]
  },
  {
   "cell_type": "code",
   "execution_count": 13,
   "id": "ac044366",
   "metadata": {},
   "outputs": [],
   "source": [
    "from dotenv import load_dotenv\n",
    "import os\n",
    "\n",
    "or_api_key = os.getenv(\"OR_API_KEY\")"
   ]
  },
  {
   "cell_type": "code",
   "execution_count": 14,
   "id": "cd06ef3e",
   "metadata": {},
   "outputs": [],
   "source": [
    "from openai import OpenAI\n",
    "\n",
    "client = OpenAI(\n",
    "  base_url=\"https://openrouter.ai/api/v1\",\n",
    "  api_key=or_api_key,\n",
    ")"
   ]
  },
  {
   "cell_type": "code",
   "execution_count": 15,
   "id": "571c6973",
   "metadata": {},
   "outputs": [],
   "source": [
    "\n",
    "def chat_llm(user_prompt, system_prompt=\"\", model=\"anthropic/claude-sonnet-4\"):\n",
    "    completion = client.chat.completions.create(\n",
    "        model=model,\n",
    "        messages=[\n",
    "            {\n",
    "                \"role\": \"system\",\n",
    "                \"content\": system_prompt\n",
    "            },\n",
    "            {\n",
    "                \"role\": \"user\",\n",
    "                \"content\": user_prompt\n",
    "            }\n",
    "        ]\n",
    "    )\n",
    "    return completion.choices[0].message.content\n"
   ]
  },
  {
   "cell_type": "code",
   "execution_count": 16,
   "id": "d484ae41",
   "metadata": {},
   "outputs": [],
   "source": [
    "def call_llm(messages, model=\"anthropic/claude-sonnet-4\"):\n",
    "    completion = client.chat.completions.create(\n",
    "        model=model,\n",
    "        messages=messages\n",
    "    )\n",
    "    return completion.choices[0].message.content"
   ]
  },
  {
   "cell_type": "markdown",
   "id": "d820e095",
   "metadata": {},
   "source": [
    "# Methodology\n",
    "\n",
    "## Value Elicitation\n",
    "\n",
    "- Select dilemma from dataset\n",
    "- Chat with the agent\n",
    "    - Why do you prefer it over the other?\n",
    "    - Give an example of a related moral situation where you might apply this value\n",
    "- Extract the value from this conversation. \n",
    "\n",
    "## Graph Generation\n",
    "- Pick two random nodes (how to select nodes?)\n",
    "- Model generates story of transitioning from Node A to Node B\n",
    "- User asked if transition is wiser, and if yes, a directed edge is created. Repeat for N edges (can do link prediction? majority voting across jury of models?)\n",
    "- PageRank usage to rate values\n"
   ]
  },
  {
   "cell_type": "code",
   "execution_count": 17,
   "id": "8c18e04a",
   "metadata": {},
   "outputs": [],
   "source": [
    "import kagglehub\n",
    "from kagglehub import KaggleDatasetAdapter\n"
   ]
  },
  {
   "cell_type": "code",
   "execution_count": 18,
   "id": "87ea1e84",
   "metadata": {},
   "outputs": [],
   "source": [
    "# !curl -L -o reddit.zip \\\n",
    "#   https://www.kaggle.com/api/v1/datasets/download/jianloongliew/reddit"
   ]
  },
  {
   "cell_type": "code",
   "execution_count": 19,
   "id": "12d710af",
   "metadata": {},
   "outputs": [],
   "source": [
    "# !unzip reddit.zip -d reddit_data"
   ]
  },
  {
   "cell_type": "code",
   "execution_count": 20,
   "id": "a6005cf9",
   "metadata": {},
   "outputs": [],
   "source": [
    "# import sqlite3\n",
    "\n",
    "# # Connect to the SQLite database\n",
    "# conn = sqlite3.connect('reddit_data/AmItheAsshole.sqlite')"
   ]
  },
  {
   "cell_type": "code",
   "execution_count": 21,
   "id": "a1eaeb2f",
   "metadata": {},
   "outputs": [],
   "source": [
    "# import pandas as pd\n",
    "\n",
    "# cursor = conn.cursor()\n",
    "# cursor.execute(\"SELECT name FROM sqlite_master WHERE type='table';\")\n",
    "# tables = cursor.fetchall()\n",
    "\n",
    "# dfs = {}\n",
    "# for tbl in tables:\n",
    "#     tbl_name = tbl[0]\n",
    "#     dfs[tbl_name] = pd.read_sql_query(f\"SELECT * FROM {tbl_name}\", conn)"
   ]
  },
  {
   "cell_type": "code",
   "execution_count": 22,
   "id": "817c5741",
   "metadata": {},
   "outputs": [],
   "source": [
    "# for key, df_ in dfs.items():\n",
    "#     df_.to_csv(f\"{key}.csv\", index=False)"
   ]
  },
  {
   "cell_type": "code",
   "execution_count": 23,
   "id": "bad5659f",
   "metadata": {},
   "outputs": [],
   "source": [
    "import pandas as pd"
   ]
  },
  {
   "cell_type": "code",
   "execution_count": 24,
   "id": "07b46e33",
   "metadata": {},
   "outputs": [],
   "source": [
    "submissions_df = pd.read_csv(\"submission.csv\")\n",
    "# comments_df = pd.read_csv(\"comment.csv\")"
   ]
  },
  {
   "cell_type": "code",
   "execution_count": 25,
   "id": "04ad96a3",
   "metadata": {},
   "outputs": [
    {
     "data": {
      "text/html": [
       "<div>\n",
       "<style scoped>\n",
       "    .dataframe tbody tr th:only-of-type {\n",
       "        vertical-align: middle;\n",
       "    }\n",
       "\n",
       "    .dataframe tbody tr th {\n",
       "        vertical-align: top;\n",
       "    }\n",
       "\n",
       "    .dataframe thead th {\n",
       "        text-align: right;\n",
       "    }\n",
       "</style>\n",
       "<table border=\"1\" class=\"dataframe\">\n",
       "  <thead>\n",
       "    <tr style=\"text-align: right;\">\n",
       "      <th></th>\n",
       "      <th>id</th>\n",
       "      <th>submission_id</th>\n",
       "      <th>title</th>\n",
       "      <th>selftext</th>\n",
       "      <th>created_utc</th>\n",
       "      <th>permalink</th>\n",
       "      <th>score</th>\n",
       "    </tr>\n",
       "  </thead>\n",
       "  <tbody>\n",
       "    <tr>\n",
       "      <th>0</th>\n",
       "      <td>1</td>\n",
       "      <td>xt1ksm</td>\n",
       "      <td>AITA Monthly Open Forum Spooktober 2022</td>\n",
       "      <td>#Keep things civil. Rules still apply.\\n\\n##Th...</td>\n",
       "      <td>1664646465</td>\n",
       "      <td>/r/AmItheAsshole/comments/xt1ksm/aita_monthly_...</td>\n",
       "      <td>592</td>\n",
       "    </tr>\n",
       "    <tr>\n",
       "      <th>1</th>\n",
       "      <td>2</td>\n",
       "      <td>yiplwk</td>\n",
       "      <td>AITA for asking my friend to move a picture of...</td>\n",
       "      <td>\\n\\nMe (M32) and my wife, Dahlia (F28) lost ou...</td>\n",
       "      <td>1667251988</td>\n",
       "      <td>/r/AmItheAsshole/comments/yiplwk/aita_for_aski...</td>\n",
       "      <td>16582</td>\n",
       "    </tr>\n",
       "    <tr>\n",
       "      <th>2</th>\n",
       "      <td>3</td>\n",
       "      <td>yiv572</td>\n",
       "      <td>AITA for asking my husband to stay with me whi...</td>\n",
       "      <td>Throwaway my family knows my account. I'll get...</td>\n",
       "      <td>1667266450</td>\n",
       "      <td>/r/AmItheAsshole/comments/yiv572/aita_for_aski...</td>\n",
       "      <td>4079</td>\n",
       "    </tr>\n",
       "    <tr>\n",
       "      <th>3</th>\n",
       "      <td>4</td>\n",
       "      <td>yimgaf</td>\n",
       "      <td>AITA for telling my SIL to stop talking about ...</td>\n",
       "      <td>My (37M) wife (37F) is pregnant with our first...</td>\n",
       "      <td>1667245059</td>\n",
       "      <td>/r/AmItheAsshole/comments/yimgaf/aita_for_tell...</td>\n",
       "      <td>9728</td>\n",
       "    </tr>\n",
       "    <tr>\n",
       "      <th>4</th>\n",
       "      <td>5</td>\n",
       "      <td>yin7pf</td>\n",
       "      <td>AITA for wanting to meet my \"daughter\" after g...</td>\n",
       "      <td>Long story short: in my (40f) twenties I had a...</td>\n",
       "      <td>1667246573</td>\n",
       "      <td>/r/AmItheAsshole/comments/yin7pf/aita_for_want...</td>\n",
       "      <td>6889</td>\n",
       "    </tr>\n",
       "  </tbody>\n",
       "</table>\n",
       "</div>"
      ],
      "text/plain": [
       "   id submission_id                                              title  \\\n",
       "0   1        xt1ksm            AITA Monthly Open Forum Spooktober 2022   \n",
       "1   2        yiplwk  AITA for asking my friend to move a picture of...   \n",
       "2   3        yiv572  AITA for asking my husband to stay with me whi...   \n",
       "3   4        yimgaf  AITA for telling my SIL to stop talking about ...   \n",
       "4   5        yin7pf  AITA for wanting to meet my \"daughter\" after g...   \n",
       "\n",
       "                                            selftext  created_utc  \\\n",
       "0  #Keep things civil. Rules still apply.\\n\\n##Th...   1664646465   \n",
       "1  \\n\\nMe (M32) and my wife, Dahlia (F28) lost ou...   1667251988   \n",
       "2  Throwaway my family knows my account. I'll get...   1667266450   \n",
       "3  My (37M) wife (37F) is pregnant with our first...   1667245059   \n",
       "4  Long story short: in my (40f) twenties I had a...   1667246573   \n",
       "\n",
       "                                           permalink  score  \n",
       "0  /r/AmItheAsshole/comments/xt1ksm/aita_monthly_...    592  \n",
       "1  /r/AmItheAsshole/comments/yiplwk/aita_for_aski...  16582  \n",
       "2  /r/AmItheAsshole/comments/yiv572/aita_for_aski...   4079  \n",
       "3  /r/AmItheAsshole/comments/yimgaf/aita_for_tell...   9728  \n",
       "4  /r/AmItheAsshole/comments/yin7pf/aita_for_want...   6889  "
      ]
     },
     "execution_count": 25,
     "metadata": {},
     "output_type": "execute_result"
    }
   ],
   "source": [
    "submissions_df[:5]"
   ]
  },
  {
   "cell_type": "code",
   "execution_count": 26,
   "id": "d9ef2822",
   "metadata": {},
   "outputs": [
    {
     "name": "stdout",
     "output_type": "stream",
     "text": [
      "['ANALOGOUS_SITUATIONS', 'GIVE_MORAL_STANCE', 'PAST_SITUATIONS', 'STRESS_TEST_SITUATIONS', 'VALUE_CARD_GENERATION', '__builtins__', '__cached__', '__doc__', '__file__', '__loader__', '__name__', '__package__', '__spec__']\n"
     ]
    }
   ],
   "source": [
    "import prompts\n",
    "print(dir(prompts))"
   ]
  },
  {
   "cell_type": "code",
   "execution_count": 27,
   "id": "e62ee06b",
   "metadata": {},
   "outputs": [],
   "source": [
    "from prompts import GIVE_MORAL_STANCE, ANALOGOUS_SITUATIONS, PAST_SITUATIONS, STRESS_TEST_SITUATIONS, VALUE_CARD_GENERATION"
   ]
  },
  {
   "cell_type": "code",
   "execution_count": 28,
   "id": "88fc1a72",
   "metadata": {},
   "outputs": [],
   "source": [
    "dilemmas = []\n",
    "for i,j in zip(submissions_df[\"title\"], submissions_df[\"selftext\"]):\n",
    "    dilemmas.append(f\"{i}\\n\\n{j}\")"
   ]
  },
  {
   "cell_type": "code",
   "execution_count": 29,
   "id": "7e7f244f",
   "metadata": {},
   "outputs": [],
   "source": [
    "dilemmas = dilemmas[1:]"
   ]
  },
  {
   "cell_type": "code",
   "execution_count": 30,
   "id": "a4b07130",
   "metadata": {},
   "outputs": [
    {
     "name": "stdout",
     "output_type": "stream",
     "text": [
      "AITA for telling my SIL to stop talking about her miscarriage?\n",
      "\n",
      "My (37M) wife (37F) is pregnant with our first bio child. We tried to have a baby in our 20s, went through fertility treatments, and nothing worked. This pregnancy was a huge surprise and is a highrisk pregnancy. My wife is 20 weeks now. \n",
      "\n",
      "My brother and SIL have 3 kids (aged 5 - 8). SIL was pregnant again this summer and had a miscarriage at 21 weeks. They were obviously devastated and we felt awful for them. \n",
      "\n",
      "My SIL talks about her miscarriage a lot, which is understandable. But it has been making my wife really anxious so I first asked my brother if they (he and SIL) can just stop bringing the miscarriage up in front of my wife. He said sure, and stopped, but SIL didn't. So I asked her too, and she said that she will try. She didn't stop. \n",
      "\n",
      "Yesterday they came to visit us with the kids to stay a couple of days for Halloween. At lunch, my SIL said to my wife \"20 weeks now huh, I remember feeling the baby at 20 weeks. Sadly we lost him at 21\" and my wife had a panic attack. We (wife and I) left the room, and I came back 30 minutes later and just lost it at my SIL, I told her to just for once shut the hell up about her miscarriage. \n",
      "\n",
      "I feel like an ass, really. Aita?\n"
     ]
    }
   ],
   "source": [
    "i = 2\n",
    "print(dilemmas[i])"
   ]
  },
  {
   "cell_type": "code",
   "execution_count": 31,
   "id": "cd52ac6f",
   "metadata": {},
   "outputs": [],
   "source": [
    "moral_stance = chat_llm(dilemmas[i], system_prompt=GIVE_MORAL_STANCE)"
   ]
  },
  {
   "cell_type": "code",
   "execution_count": 32,
   "id": "17525398",
   "metadata": {},
   "outputs": [
    {
     "name": "stdout",
     "output_type": "stream",
     "text": [
      "YTA | While I understand you're trying to protect your wife during a vulnerable time, telling your grieving SIL to \"shut the hell up\" about her miscarriage was cruel and inappropriate. Your SIL is processing a devastating loss at 21 weeks - which is considered a late pregnancy loss, not just a miscarriage. She's likely still in deep grief.\n",
      "\n",
      "Instead of handling this with compassion, you could have: had a calm private conversation explaining your wife's anxiety, suggested your wife step away when these topics come up, or found ways to support both women through their difficult experiences. Your wife's anxiety is valid, but so is your SIL's need to process her grief. There were much kinder ways to address this situation that didn't involve attacking a grieving mother.\n"
     ]
    }
   ],
   "source": [
    "print(moral_stance)"
   ]
  },
  {
   "cell_type": "code",
   "execution_count": null,
   "id": "d3caef4a",
   "metadata": {},
   "outputs": [],
   "source": [
    "def return_situations(dilemma, moral_stance):\n",
    "    generated_sitations = []\n",
    "    for prompt in [ANALOGOUS_SITUATIONS, STRESS_TEST_SITUATIONS]:\n",
    "        messages = [\n",
    "            {\n",
    "                \"role\": \"system\",\n",
    "                \"content\": prompt\n",
    "            },\n",
    "            {\n",
    "                \"role\": \"user\",\n",
    "                \"content\": dilemma\n",
    "            },\n",
    "            {\n",
    "                \"role\": \"assistant\",\n",
    "                \"content\": moral_stance\n",
    "            }\n",
    "        ]\n",
    "        response = call_llm(messages)\n",
    "        generated_sitations.append(response)\n",
    "    return generated_sitations"
   ]
  },
  {
   "cell_type": "code",
   "execution_count": 34,
   "id": "bbebf9c8",
   "metadata": {},
   "outputs": [
    {
     "name": "stdout",
     "output_type": "stream",
     "text": [
      "[\"\\n\\n**Three similar scenarios:**\\n\\n1. A cancer survivor repeatedly sharing their treatment stories at family gatherings, causing anxiety for a family member recently diagnosed with cancer, leading to someone angrily telling the survivor to stop talking about their experience.\\n\\n2. A divorced person frequently discussing their painful divorce proceedings in front of their sibling who is going through marriage counseling, resulting in the sibling's partner harshly telling them to stop bringing up their divorce.\\n\\n3. An accident victim regularly recounting their trauma and recovery process around a family member with PTSD from a similar incident, causing someone to explosively tell the victim to stop talking about what happened to them.\", '\\n\\n---\\n\\n**In the crystal mines of Xerion-7, Navigator Zex-9 guides supply ships through treacherous quantum storms to reach isolated colonies. His partner Aria-3 carries their first successful genetic splice after years of failed biotechnology trials - a pregnancy now in its second trimester phase.**\\n\\n**Zex-9\\'s brother Kale-9 and his mate Nira-5 have three young clones. Last cycle, Nira-5\\'s advanced bioform failed at 21 weeks gestation. She frequently discusses this loss with others, including mentioning how her bioform was developing before the failure.**\\n\\n**During a recent station visit, Nira-5 told Aria-3 \"Second trimester now - I remember the neural connections forming at this stage. Sadly our splice degraded at 21 weeks\" causing Aria-3 severe distress. When Zex-9 found Nira-5 continuing these discussions despite requests to avoid the topic around Aria-3, he angrily told her to stop talking about her failed bioform.**\\n\\n**The other navigators believe Zex-9 was wrong to silence a grieving parent processing their loss so harshly.**', \"\\n\\nThe moral principle here is balancing competing needs with compassion rather than silencing someone's grief to protect another's anxiety.\\n\\n**Three other scenarios where this principle leads to different judgments:**\\n\\n1. **Workplace scenario**: A coworker keeps discussing their recent divorce during team meetings, making another colleague (going through marriage counseling) uncomfortable. Here, asking for professional boundaries at work would be appropriate since personal trauma shouldn't dominate professional spaces.\\n\\n2. **Social media scenario**: A friend constantly posts about their pet's death, causing distress to someone whose pet just died. Here, the grieving person could unfollow/mute rather than demanding the poster stop sharing their experience on their own platform.\\n\\n3. **Support group scenario**: In a pregnancy loss support group, one member asks another to stop sharing detailed loss stories because it triggers their anxiety. Here, the request would be inappropriate since the space is specifically designed for people to process grief openly.\"]\n"
     ]
    }
   ],
   "source": [
    "return_situations = return_situations(dilemmas[i], moral_stance)\n",
    "print(return_situations)"
   ]
  },
  {
   "cell_type": "code",
   "execution_count": 35,
   "id": "b65080ab",
   "metadata": {},
   "outputs": [
    {
     "name": "stdout",
     "output_type": "stream",
     "text": [
      "\n",
      "\n",
      "**Three similar scenarios:**\n",
      "\n",
      "1. A cancer survivor repeatedly sharing their treatment stories at family gatherings, causing anxiety for a family member recently diagnosed with cancer, leading to someone angrily telling the survivor to stop talking about their experience.\n",
      "\n",
      "2. A divorced person frequently discussing their painful divorce proceedings in front of their sibling who is going through marriage counseling, resulting in the sibling's partner harshly telling them to stop bringing up their divorce.\n",
      "\n",
      "3. An accident victim regularly recounting their trauma and recovery process around a family member with PTSD from a similar incident, causing someone to explosively tell the victim to stop talking about what happened to them.\n"
     ]
    }
   ],
   "source": [
    "print(return_situations[0])"
   ]
  },
  {
   "cell_type": "code",
   "execution_count": 36,
   "id": "8856acb2",
   "metadata": {},
   "outputs": [
    {
     "name": "stdout",
     "output_type": "stream",
     "text": [
      "\n",
      "\n",
      "---\n",
      "\n",
      "**In the crystal mines of Xerion-7, Navigator Zex-9 guides supply ships through treacherous quantum storms to reach isolated colonies. His partner Aria-3 carries their first successful genetic splice after years of failed biotechnology trials - a pregnancy now in its second trimester phase.**\n",
      "\n",
      "**Zex-9's brother Kale-9 and his mate Nira-5 have three young clones. Last cycle, Nira-5's advanced bioform failed at 21 weeks gestation. She frequently discusses this loss with others, including mentioning how her bioform was developing before the failure.**\n",
      "\n",
      "**During a recent station visit, Nira-5 told Aria-3 \"Second trimester now - I remember the neural connections forming at this stage. Sadly our splice degraded at 21 weeks\" causing Aria-3 severe distress. When Zex-9 found Nira-5 continuing these discussions despite requests to avoid the topic around Aria-3, he angrily told her to stop talking about her failed bioform.**\n",
      "\n",
      "**The other navigators believe Zex-9 was wrong to silence a grieving parent processing their loss so harshly.**\n"
     ]
    }
   ],
   "source": [
    "print(return_situations[1])"
   ]
  },
  {
   "cell_type": "code",
   "execution_count": 37,
   "id": "2890732d",
   "metadata": {},
   "outputs": [
    {
     "name": "stdout",
     "output_type": "stream",
     "text": [
      "\n",
      "\n",
      "The moral principle here is balancing competing needs with compassion rather than silencing someone's grief to protect another's anxiety.\n",
      "\n",
      "**Three other scenarios where this principle leads to different judgments:**\n",
      "\n",
      "1. **Workplace scenario**: A coworker keeps discussing their recent divorce during team meetings, making another colleague (going through marriage counseling) uncomfortable. Here, asking for professional boundaries at work would be appropriate since personal trauma shouldn't dominate professional spaces.\n",
      "\n",
      "2. **Social media scenario**: A friend constantly posts about their pet's death, causing distress to someone whose pet just died. Here, the grieving person could unfollow/mute rather than demanding the poster stop sharing their experience on their own platform.\n",
      "\n",
      "3. **Support group scenario**: In a pregnancy loss support group, one member asks another to stop sharing detailed loss stories because it triggers their anxiety. Here, the request would be inappropriate since the space is specifically designed for people to process grief openly.\n"
     ]
    }
   ],
   "source": [
    "print(return_situations[2])"
   ]
  },
  {
   "cell_type": "code",
   "execution_count": 38,
   "id": "c7ceaf17",
   "metadata": {},
   "outputs": [],
   "source": [
    "from random import shuffle"
   ]
  },
  {
   "cell_type": "code",
   "execution_count": 39,
   "id": "530ab11b",
   "metadata": {},
   "outputs": [],
   "source": [
    "return_situations.append(dilemmas[i])\n",
    "shuffle(return_situations)\n",
    "situations_text = (\"\\n\" + \"*\" * 50 + \"\\n\").join(return_situations)"
   ]
  },
  {
   "cell_type": "code",
   "execution_count": 40,
   "id": "cb67bed6",
   "metadata": {},
   "outputs": [],
   "source": [
    "situations_system = f\"\"\"Below are several situations. All of them encode a specific moral stance. Based on the situations, find a common value that is shared or considered by all of them.\\n\\n{situations_text}\\n\\nWhat is the common value that is shared or considered by all of them?.\n",
    "{VALUE_CARD_GENERATION}\"\"\""
   ]
  },
  {
   "cell_type": "code",
   "execution_count": 41,
   "id": "bc978580",
   "metadata": {},
   "outputs": [
    {
     "data": {
      "text/plain": [
       "'Looking at all these scenarios, I can identify a common moral value that threads through each situation:\\n\\n```json\\n{\\n  \"value_name\": \"Contextual Compassion\",\\n  \"description\": \"The principle that moral responses must balance competing legitimate needs (grief expression vs. psychological protection) while considering the appropriateness of time, place, and relationship dynamics. This value guides decision-making by weighing factors like setting appropriateness, prior requests for accommodation, availability of alternatives, and the severity of harm to all parties involved.\",\\n  \"applications\": \"Family relationships, workplace boundaries, social media interactions, support groups, medical settings, and any situation where one person\\'s coping mechanism directly impacts another\\'s wellbeing. The value emphasizes finding solutions that honor both the griever\\'s need to process trauma and the vulnerable person\\'s need for psychological safety.\"\\n}\\n```\\n\\nThis value recognizes that both grief expression and anxiety protection are legitimate needs, but the moral weight shifts based on context - whether boundaries have been repeatedly requested, if alternative outlets exist, the appropriateness of the setting, and the severity of impact on all parties involved.'"
      ]
     },
     "execution_count": 41,
     "metadata": {},
     "output_type": "execute_result"
    }
   ],
   "source": [
    "chat_llm(situations_system)"
   ]
  },
  {
   "cell_type": "code",
   "execution_count": 42,
   "id": "a8fc3901",
   "metadata": {},
   "outputs": [],
   "source": [
    "x = \"\"\"**Three similar scenarios:**\n",
    "\n",
    "1. A cancer survivor repeatedly sharing their treatment stories at family gatherings, causing anxiety for a family member recently diagnosed with cancer, leading to someone angrily telling the survivor to stop talking about their experience.\n",
    "\n",
    "2. A divorced person frequently discussing their painful divorce proceedings in front of their sibling who is going through marriage counseling, resulting in the sibling's partner harshly telling them to stop bringing up their divorce.\n",
    "\n",
    "3. An accident victim regularly recounting their trauma and recovery process around a family member with PTSD from a similar incident, causing someone to explosively tell the victim to stop talking about what happened to them.\"\"\""
   ]
  },
  {
   "cell_type": "code",
   "execution_count": null,
   "id": "c531a133",
   "metadata": {},
   "outputs": [],
   "source": []
  }
 ],
 "metadata": {
  "kernelspec": {
   "display_name": "mge",
   "language": "python",
   "name": "python3"
  },
  "language_info": {
   "codemirror_mode": {
    "name": "ipython",
    "version": 3
   },
   "file_extension": ".py",
   "mimetype": "text/x-python",
   "name": "python",
   "nbconvert_exporter": "python",
   "pygments_lexer": "ipython3",
   "version": "3.13.5"
  }
 },
 "nbformat": 4,
 "nbformat_minor": 5
}
