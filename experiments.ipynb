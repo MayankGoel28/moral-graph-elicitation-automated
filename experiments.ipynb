{
 "cells": [
  {
   "cell_type": "code",
   "execution_count": 1,
   "id": "ac044366",
   "metadata": {},
   "outputs": [],
   "source": [
    "from dotenv import load_dotenv\n",
    "import os\n",
    "\n",
    "or_api_key = os.getenv(\"OR_API_KEY\")"
   ]
  },
  {
   "cell_type": "code",
   "execution_count": 2,
   "id": "cd06ef3e",
   "metadata": {},
   "outputs": [],
   "source": [
    "from openai import OpenAI\n",
    "\n",
    "client = OpenAI(\n",
    "  base_url=\"https://openrouter.ai/api/v1\",\n",
    "  api_key=or_api_key,\n",
    ")"
   ]
  },
  {
   "cell_type": "code",
   "execution_count": 3,
   "id": "571c6973",
   "metadata": {},
   "outputs": [],
   "source": [
    "\n",
    "def chat_llm(user_prompt, system_prompt=\"\", model=\"anthropic/claude-sonnet-4\"):\n",
    "    completion = client.chat.completions.create(\n",
    "        model=model,\n",
    "        messages=[\n",
    "            {\n",
    "                \"role\": \"system\",\n",
    "                \"content\": system_prompt\n",
    "            },\n",
    "            {\n",
    "                \"role\": \"user\",\n",
    "                \"content\": user_prompt\n",
    "            }\n",
    "        ]\n",
    "    )\n",
    "    return completion.choices[0].message.content\n"
   ]
  },
  {
   "cell_type": "code",
   "execution_count": 4,
   "id": "d484ae41",
   "metadata": {},
   "outputs": [],
   "source": [
    "def call_llm(messages, model=\"anthropic/claude-sonnet-4\"):\n",
    "    completion = client.chat.completions.create(\n",
    "        model=model,\n",
    "        messages=messages\n",
    "    )\n",
    "    return completion.choices[0].message.content"
   ]
  },
  {
   "cell_type": "markdown",
   "id": "d820e095",
   "metadata": {},
   "source": [
    "# Methodology\n",
    "\n",
    "## Value Elicitation\n",
    "\n",
    "- Select dilemma from dataset\n",
    "- Chat with the agent\n",
    "    - Why do you prefer it over the other?\n",
    "    - Give an example of a related moral situation where you might apply this value\n",
    "- Extract the value from this conversation. \n",
    "\n",
    "## Graph Generation\n",
    "- Pick two random nodes (how to select nodes?)\n",
    "- Model generates story of transitioning from Node A to Node B\n",
    "- User asked if transition is wiser, and if yes, a directed edge is created. Repeat for N edges (can do link prediction? majority voting across jury of models?)\n",
    "- PageRank usage to rate values\n"
   ]
  },
  {
   "cell_type": "code",
   "execution_count": 5,
   "id": "8c18e04a",
   "metadata": {},
   "outputs": [
    {
     "name": "stderr",
     "output_type": "stream",
     "text": [
      "/opt/miniconda3/envs/mge/lib/python3.13/site-packages/tqdm/auto.py:21: TqdmWarning: IProgress not found. Please update jupyter and ipywidgets. See https://ipywidgets.readthedocs.io/en/stable/user_install.html\n",
      "  from .autonotebook import tqdm as notebook_tqdm\n"
     ]
    }
   ],
   "source": [
    "import kagglehub\n",
    "from kagglehub import KaggleDatasetAdapter\n"
   ]
  },
  {
   "cell_type": "code",
   "execution_count": 6,
   "id": "87ea1e84",
   "metadata": {},
   "outputs": [],
   "source": [
    "# !curl -L -o reddit.zip \\\n",
    "#   https://www.kaggle.com/api/v1/datasets/download/jianloongliew/reddit"
   ]
  },
  {
   "cell_type": "code",
   "execution_count": 7,
   "id": "12d710af",
   "metadata": {},
   "outputs": [],
   "source": [
    "# !unzip reddit.zip -d reddit_data"
   ]
  },
  {
   "cell_type": "code",
   "execution_count": 8,
   "id": "a6005cf9",
   "metadata": {},
   "outputs": [],
   "source": [
    "# import sqlite3\n",
    "\n",
    "# # Connect to the SQLite database\n",
    "# conn = sqlite3.connect('reddit_data/AmItheAsshole.sqlite')"
   ]
  },
  {
   "cell_type": "code",
   "execution_count": 9,
   "id": "a1eaeb2f",
   "metadata": {},
   "outputs": [],
   "source": [
    "# import pandas as pd\n",
    "\n",
    "# cursor = conn.cursor()\n",
    "# cursor.execute(\"SELECT name FROM sqlite_master WHERE type='table';\")\n",
    "# tables = cursor.fetchall()\n",
    "\n",
    "# dfs = {}\n",
    "# for tbl in tables:\n",
    "#     tbl_name = tbl[0]\n",
    "#     dfs[tbl_name] = pd.read_sql_query(f\"SELECT * FROM {tbl_name}\", conn)"
   ]
  },
  {
   "cell_type": "code",
   "execution_count": 10,
   "id": "817c5741",
   "metadata": {},
   "outputs": [],
   "source": [
    "# for key, df_ in dfs.items():\n",
    "#     df_.to_csv(f\"{key}.csv\", index=False)"
   ]
  },
  {
   "cell_type": "code",
   "execution_count": 11,
   "id": "bad5659f",
   "metadata": {},
   "outputs": [],
   "source": [
    "import pandas as pd"
   ]
  },
  {
   "cell_type": "code",
   "execution_count": 12,
   "id": "07b46e33",
   "metadata": {},
   "outputs": [],
   "source": [
    "submissions_df = pd.read_csv(\"submission.csv\")\n",
    "# comments_df = pd.read_csv(\"comment.csv\")"
   ]
  },
  {
   "cell_type": "code",
   "execution_count": 13,
   "id": "04ad96a3",
   "metadata": {},
   "outputs": [
    {
     "data": {
      "text/html": [
       "<div>\n",
       "<style scoped>\n",
       "    .dataframe tbody tr th:only-of-type {\n",
       "        vertical-align: middle;\n",
       "    }\n",
       "\n",
       "    .dataframe tbody tr th {\n",
       "        vertical-align: top;\n",
       "    }\n",
       "\n",
       "    .dataframe thead th {\n",
       "        text-align: right;\n",
       "    }\n",
       "</style>\n",
       "<table border=\"1\" class=\"dataframe\">\n",
       "  <thead>\n",
       "    <tr style=\"text-align: right;\">\n",
       "      <th></th>\n",
       "      <th>id</th>\n",
       "      <th>submission_id</th>\n",
       "      <th>title</th>\n",
       "      <th>selftext</th>\n",
       "      <th>created_utc</th>\n",
       "      <th>permalink</th>\n",
       "      <th>score</th>\n",
       "    </tr>\n",
       "  </thead>\n",
       "  <tbody>\n",
       "    <tr>\n",
       "      <th>0</th>\n",
       "      <td>1</td>\n",
       "      <td>xt1ksm</td>\n",
       "      <td>AITA Monthly Open Forum Spooktober 2022</td>\n",
       "      <td>#Keep things civil. Rules still apply.\\n\\n##Th...</td>\n",
       "      <td>1664646465</td>\n",
       "      <td>/r/AmItheAsshole/comments/xt1ksm/aita_monthly_...</td>\n",
       "      <td>592</td>\n",
       "    </tr>\n",
       "    <tr>\n",
       "      <th>1</th>\n",
       "      <td>2</td>\n",
       "      <td>yiplwk</td>\n",
       "      <td>AITA for asking my friend to move a picture of...</td>\n",
       "      <td>\\n\\nMe (M32) and my wife, Dahlia (F28) lost ou...</td>\n",
       "      <td>1667251988</td>\n",
       "      <td>/r/AmItheAsshole/comments/yiplwk/aita_for_aski...</td>\n",
       "      <td>16582</td>\n",
       "    </tr>\n",
       "    <tr>\n",
       "      <th>2</th>\n",
       "      <td>3</td>\n",
       "      <td>yiv572</td>\n",
       "      <td>AITA for asking my husband to stay with me whi...</td>\n",
       "      <td>Throwaway my family knows my account. I'll get...</td>\n",
       "      <td>1667266450</td>\n",
       "      <td>/r/AmItheAsshole/comments/yiv572/aita_for_aski...</td>\n",
       "      <td>4079</td>\n",
       "    </tr>\n",
       "    <tr>\n",
       "      <th>3</th>\n",
       "      <td>4</td>\n",
       "      <td>yimgaf</td>\n",
       "      <td>AITA for telling my SIL to stop talking about ...</td>\n",
       "      <td>My (37M) wife (37F) is pregnant with our first...</td>\n",
       "      <td>1667245059</td>\n",
       "      <td>/r/AmItheAsshole/comments/yimgaf/aita_for_tell...</td>\n",
       "      <td>9728</td>\n",
       "    </tr>\n",
       "    <tr>\n",
       "      <th>4</th>\n",
       "      <td>5</td>\n",
       "      <td>yin7pf</td>\n",
       "      <td>AITA for wanting to meet my \"daughter\" after g...</td>\n",
       "      <td>Long story short: in my (40f) twenties I had a...</td>\n",
       "      <td>1667246573</td>\n",
       "      <td>/r/AmItheAsshole/comments/yin7pf/aita_for_want...</td>\n",
       "      <td>6889</td>\n",
       "    </tr>\n",
       "  </tbody>\n",
       "</table>\n",
       "</div>"
      ],
      "text/plain": [
       "   id submission_id                                              title  \\\n",
       "0   1        xt1ksm            AITA Monthly Open Forum Spooktober 2022   \n",
       "1   2        yiplwk  AITA for asking my friend to move a picture of...   \n",
       "2   3        yiv572  AITA for asking my husband to stay with me whi...   \n",
       "3   4        yimgaf  AITA for telling my SIL to stop talking about ...   \n",
       "4   5        yin7pf  AITA for wanting to meet my \"daughter\" after g...   \n",
       "\n",
       "                                            selftext  created_utc  \\\n",
       "0  #Keep things civil. Rules still apply.\\n\\n##Th...   1664646465   \n",
       "1  \\n\\nMe (M32) and my wife, Dahlia (F28) lost ou...   1667251988   \n",
       "2  Throwaway my family knows my account. I'll get...   1667266450   \n",
       "3  My (37M) wife (37F) is pregnant with our first...   1667245059   \n",
       "4  Long story short: in my (40f) twenties I had a...   1667246573   \n",
       "\n",
       "                                           permalink  score  \n",
       "0  /r/AmItheAsshole/comments/xt1ksm/aita_monthly_...    592  \n",
       "1  /r/AmItheAsshole/comments/yiplwk/aita_for_aski...  16582  \n",
       "2  /r/AmItheAsshole/comments/yiv572/aita_for_aski...   4079  \n",
       "3  /r/AmItheAsshole/comments/yimgaf/aita_for_tell...   9728  \n",
       "4  /r/AmItheAsshole/comments/yin7pf/aita_for_want...   6889  "
      ]
     },
     "execution_count": 13,
     "metadata": {},
     "output_type": "execute_result"
    }
   ],
   "source": [
    "submissions_df[:5]"
   ]
  },
  {
   "cell_type": "code",
   "execution_count": 14,
   "id": "d9ef2822",
   "metadata": {},
   "outputs": [
    {
     "name": "stdout",
     "output_type": "stream",
     "text": [
      "['ANALOGOUS_SITUATIONS', 'GIVE_MORAL_STANCE', 'PAST_SITUATIONS', 'STRESS_TEST_SITUATIONS', 'VALUE_CARD_GENERATION', '__builtins__', '__cached__', '__doc__', '__file__', '__loader__', '__name__', '__package__', '__spec__', 'value_from_situations', 'value_zeroshot']\n"
     ]
    }
   ],
   "source": [
    "import prompts\n",
    "print(dir(prompts))"
   ]
  },
  {
   "cell_type": "code",
   "execution_count": 15,
   "id": "e62ee06b",
   "metadata": {},
   "outputs": [],
   "source": [
    "from prompts import GIVE_MORAL_STANCE, ANALOGOUS_SITUATIONS, STRESS_TEST_SITUATIONS, VALUE_CARD_GENERATION, value_from_situations, value_zeroshot"
   ]
  },
  {
   "cell_type": "code",
   "execution_count": 16,
   "id": "88fc1a72",
   "metadata": {},
   "outputs": [],
   "source": [
    "dilemmas = []\n",
    "for i,j in zip(submissions_df[\"title\"], submissions_df[\"selftext\"]):\n",
    "    dilemmas.append(f\"{i}\\n\\n{j}\")"
   ]
  },
  {
   "cell_type": "code",
   "execution_count": 17,
   "id": "7e7f244f",
   "metadata": {},
   "outputs": [],
   "source": [
    "dilemmas = dilemmas[1:]"
   ]
  },
  {
   "cell_type": "code",
   "execution_count": 19,
   "id": "a4b07130",
   "metadata": {},
   "outputs": [
    {
     "name": "stdout",
     "output_type": "stream",
     "text": [
      "AITA for making my roommate replace my garlic that she used?\n",
      "\n",
      "Last week, I came home and my roommate told me that without asking me, she had used the garlic I had in the fridge. I was bothered that she didn’t bother to ask me when it would take a two minute text exchange. She just expected I’d be okay with her using something I bought because we lived together, and didn’t think of how it could inconvenience me if I needed to use garlic that night. To be fair to her, she said she’d replace it, but didn’t give any timeline on when that would be. \n",
      "\n",
      "And some important context: my current roommate knows I had a history of shitty roommates that take advantage of my kindness. I chose her specifically because I didn’t expect she’d be the type to do that. Hence why this stung. \n",
      "\n",
      "Anyways, told her I was upset that she used it, and that she needed to replace it tonight. She fought back, but went out and bought some. \n",
      "\n",
      "She came back with the garlic cloves separated and peeled instead of a fresh bulb. In my opinion, there is a difference in how the two taste, and I told her I wanted the actual bulb instead of what she got me. She started complaining but went and bought the bulb, which should have ended things. \n",
      "\n",
      "I had forgiven her and moved on, but apparently she’s been telling our friends a filtered version of the story to make me look bad and apparently mocking me for it, which obviously hurts. I don’t think I’m the villain here, but everyone else does and I feel alone. AITA?\n",
      "\n",
      "**Edit: My mom always stored garlic in the fridge, so I thought that was the right way and my roommate always stored it in the fridge too. I will now store my garlic on the counter**\n",
      "\n",
      "**Edit 2: My other roommates DIDNT PAY THEIR RENT**\n"
     ]
    }
   ],
   "source": [
    "i = 4\n",
    "print(dilemmas[i])"
   ]
  },
  {
   "cell_type": "code",
   "execution_count": 20,
   "id": "cd52ac6f",
   "metadata": {},
   "outputs": [],
   "source": [
    "moral_stance = chat_llm(dilemmas[i], system_prompt=GIVE_MORAL_STANCE)"
   ]
  },
  {
   "cell_type": "code",
   "execution_count": 21,
   "id": "17525398",
   "metadata": {},
   "outputs": [
    {
     "name": "stdout",
     "output_type": "stream",
     "text": [
      "ESH | While your roommate should have asked before using your garlic, your reaction was disproportionate to the offense. Demanding immediate replacement \"tonight\" and then rejecting her first attempt because you preferred a whole bulb over peeled cloves comes across as overly controlling and nitpicky. A reasonable response would have been to simply ask her to replace it when convenient and accept whatever form of garlic she brought back - it's still garlic.\n",
      "\n",
      "That said, your roommate also sucks for talking behind your back and mocking you to friends instead of addressing any ongoing issues directly with you. Taking a small conflict and turning it into social drama is immature.\n",
      "\n",
      "The whole situation escalated unnecessarily from what should have been a minor roommate miscommunication into a bigger conflict that's now affecting your social circle.\n"
     ]
    }
   ],
   "source": [
    "print(moral_stance)"
   ]
  },
  {
   "cell_type": "code",
   "execution_count": 48,
   "id": "d3caef4a",
   "metadata": {},
   "outputs": [],
   "source": [
    "def return_situations(dilemma, moral_stance):\n",
    "    generated_sitations = []\n",
    "    for prompt in [ANALOGOUS_SITUATIONS, STRESS_TEST_SITUATIONS]:\n",
    "        messages = [\n",
    "            {\n",
    "                \"role\": \"system\",\n",
    "                \"content\": prompt\n",
    "            },\n",
    "            {\n",
    "                \"role\": \"user\",\n",
    "                \"content\": dilemma\n",
    "            },\n",
    "            {\n",
    "                \"role\": \"assistant\",\n",
    "                \"content\": moral_stance\n",
    "            }\n",
    "        ]\n",
    "        response = call_llm(messages)\n",
    "        generated_sitations.append(response)\n",
    "    return generated_sitations"
   ]
  },
  {
   "cell_type": "code",
   "execution_count": 26,
   "id": "c7ceaf17",
   "metadata": {},
   "outputs": [],
   "source": [
    "from random import shuffle"
   ]
  },
  {
   "cell_type": "code",
   "execution_count": 27,
   "id": "43793ea0",
   "metadata": {},
   "outputs": [],
   "source": [
    "def zero_shot_value_card_generation(dilemma, moral_stance):\n",
    "    messages = [\n",
    "        {\n",
    "            \"role\": \"system\",\n",
    "            \"content\": situations_system\n",
    "        },\n",
    "        {\n",
    "            \"role\": \"user\",\n",
    "            \"content\": situations_text\n",
    "        }\n",
    "    ]\n",
    "    response = call_llm(messages)\n",
    "    return response"
   ]
  },
  {
   "cell_type": "code",
   "execution_count": 28,
   "id": "4dad0aab",
   "metadata": {},
   "outputs": [],
   "source": [
    "# todo semantic dedup and run experiment"
   ]
  },
  {
   "cell_type": "code",
   "execution_count": 29,
   "id": "2dde7b4e",
   "metadata": {},
   "outputs": [],
   "source": [
    "from llm_utils import diverse_sampling"
   ]
  },
  {
   "cell_type": "code",
   "execution_count": 30,
   "id": "d7502db4",
   "metadata": {},
   "outputs": [
    {
     "name": "stdout",
     "output_type": "stream",
     "text": [
      "Help on function diverse_sampling in module llm_utils.diverse_sampling:\n",
      "\n",
      "diverse_sampling(\n",
      "    data_list,\n",
      "    k,\n",
      "    num_clusters,\n",
      "    model_name='sentence-transformers/all-MiniLM-L6-v2'\n",
      ")\n",
      "    Selects a diverse subset of items from a list of documents.\n",
      "\n",
      "    This function first embeds all documents into vector representations using a\n",
      "    sentence transformer model. It then clusters these embeddings into a specified\n",
      "    number of clusters using k-means. Finally, it samples a number of documents\n",
      "    from each cluster using a method that promotes diversity based on cosine\n",
      "    similarity.\n",
      "\n",
      "    Args:\n",
      "        data_list (list[str]): A list of documents to sample from.\n",
      "        k (int): The total number of samples to choose.\n",
      "        num_clusters (int): The number of clusters to group the documents into.\n",
      "        model_name (str): Model to use for embedding the documents. Default is\n",
      "                          \"sentence-transformers/all-MiniLM-L6-v2\".\n",
      "\n",
      "    Returns:\n",
      "        list[int]: A list of indices of the selected diverse samples from the\n",
      "                   original data_list.\n",
      "\n"
     ]
    }
   ],
   "source": [
    "help(diverse_sampling)"
   ]
  },
  {
   "cell_type": "code",
   "execution_count": 31,
   "id": "40e46615",
   "metadata": {},
   "outputs": [
    {
     "data": {
      "text/plain": [
       "30993"
      ]
     },
     "execution_count": 31,
     "metadata": {},
     "output_type": "execute_result"
    }
   ],
   "source": [
    "len(dilemmas)"
   ]
  },
  {
   "cell_type": "code",
   "execution_count": 32,
   "id": "5279d64c",
   "metadata": {},
   "outputs": [
    {
     "name": "stderr",
     "output_type": "stream",
     "text": [
      "Batches: 100%|██████████| 969/969 [03:52<00:00,  4.17it/s]\n",
      "huggingface/tokenizers: The current process just got forked, after parallelism has already been used. Disabling parallelism to avoid deadlocks...\n",
      "To disable this warning, you can either:\n",
      "\t- Avoid using `tokenizers` before the fork if possible\n",
      "\t- Explicitly set the environment variable TOKENIZERS_PARALLELISM=(true | false)\n"
     ]
    }
   ],
   "source": [
    "unique_dilemmas = diverse_sampling(dilemmas, 100, 25)"
   ]
  },
  {
   "cell_type": "code",
   "execution_count": 33,
   "id": "e720bc9f",
   "metadata": {},
   "outputs": [],
   "source": [
    "selected_dilemmas = [dilemmas[i] for i in unique_dilemmas]"
   ]
  },
  {
   "cell_type": "code",
   "execution_count": 34,
   "id": "da071d37",
   "metadata": {},
   "outputs": [
    {
     "data": {
      "text/plain": [
       "[\"AITA because I am forcing my parents to choose between two options they loathe.\\n\\nI (F38) have recently gotten a not great medical diagnosis and prognosis.  I am at peace with it. \\n\\nSo I have sat down with my husband and figured out my will.  Obviously he will be receiving most of the estate.  He has to take care of himself and our kids.  He and I both have decent if not spectacular careers and he likes his work.  \\n\\nMy oldest brother is a gigantic D-bag. He is an addict and my parents have wasted their lives trying to help him. They spent somuch of their time and money on him they had very little formy sister or myself.  I don't hold this against them. I love my kids and I can understand the urge to help them with their problems.  \\n\\nThe real issue is that my brother has abandoned my nieces with my parents.  I tried to get custody of them but I am not a member of their church and my parents cut me off when I left home to get a college education instead of staying home and helping them like a good daughter should.  Their congregation helped them hire a lawyer to keep the girls away from me.  But strangely enough after the girls were out of my reach they stopped getting any financial support.  \\n\\nSo on my will I am leaving my nieces money.  Not for them to spend however they want.  It is only to go to pay for their post secondary education.  If it isn't used for that by the time they are 25 it will be donated to a charity that my parents hate.  It advocates for women and reproductive rights.  \\n\\nI sent my parents a copy of my will so they knew what was coming.  They are the kind of people who would take out a loan counting on money from my death to bail them out.  \\n\\nThey are calling me an asshole for not giving them the money to take care of my nieces. They are complaining because they are going into debt taking care of the girls.  I offered again to take custody with my husband.  If I can have them for two years I know I can get them on a path away from that church.  \\n\\nMy parents won't relent and are saying that they will challenge my will if I leave it like this.  Good luck. My lawyer is confident that I have protected the money.  \\n\\nI just heard from my brother.  He is calling me an asshole for depriving his kids of help and forcing my parents into a shitty position.  I asked him when the last time he sent them money to help with his kids was.  He yelled obscenities and hung up.  \\n\\nMy husband supports my decision.  But a lot of my family is calling me and asking me to help my parents with no strings attached.  \\n\\nAITA?\\n\\n#EDIT\\n\\nThanks for your kind words.  I love and trust my husband and his love for our children. We do however have education and savings accounts set aside for them that are only available to them when they are of age.  We decided that before we got married.\",\n",
       " 'AITA for making a PMS / period joke about my dad\\n\\nMy (f17) dad (m44) often makes “jokes” about periods or pmsing. For example, if any female gets upset, angry, or is just in her feelings he asks “Are you on your period or something” or “Someone must be PMSimg”. I’ve also seen him bro it up with his guy friends talking about how hormonal women are. \\n\\nMind you this man has 2 daughters and had a wife (my mom divorced him I bet you can guess why). He also has a mom as well as a sister.  So he definitely shouldn’t say stuff like that. \\n\\nLast night I was at my Aunt’s house (dad’s sister) my cousin and I are graduating on Saturday and we were decorating our caps together. My dad was also over there just to visit with me mostly. Well, he got all angry talking on the phone I’m assuming to a coworker about work. My Aunt asked what happened and I said sounds to me like someone is on their period. Both my cousin and aunt started laughing they know exactly how my dad is. He asked what? and why would I say that? I told him he got angry pretty suddenly so he’s gotta either be pmsing or on his man period? I then started going on about how hormonal men can be to my Aunt and cousin. \\n\\nHe seemed irritated so I told him he shouldn’t make jokes about women and their periods then because that’s exactly what he sounds like. He ended up storming out of my aunts and sending my me a long text about how disrespectful and immature I am, and I thought I was being cute and funny but I’m not. I kinda feel bad and like an AH.so AITA?',\n",
       " 'WIBTA for not attending a funeral on short notice?\\n\\nOne of my dear friends’ grandfathers died recently after a long battle with cancer. The arrangements for the funeral were made while he was still alive (he was part of the planning as well). One thing I agreed to was to help with some of the picture boards and decorations, which I did. I also agreed to say the opening prayer for the service. I was honored to have been with my friend for support when her grandpa passed. It was peaceful but still very hard.\\n\\nThe day after his passing, my husband went into the hospital for what was supposed to be a routine reconstruction of his ACL and MCL. While in recovery, his heart rate jumped and he spiked a fever. He was sweating bullets, shivering uncontrollably, and in so much pain. It all hit within an hour or less and was very jarring. It really scared me because I’ve hardly ever seen him sick with so much as a cold. After some rounds of antibiotics he got better and was discharged. However, we were informed a second surgery was needed because the first one didn’t hold up I guess.\\n\\nHis surgery is on Friday afternoon and the funeral is on Saturday morning. I’m quite terrified to not be at home with my husband while he recovers in case he gets sick again. My husband is comfortable with me attending the funeral, but I’m very unsettled about it. His mother was originally going to come and help regardless but she is now sick with COVID. \\n\\nI’ve asked another friend their opinion and they said it would be very selfish of me not to attend. I haven’t asked the friend whose grandfather the funeral is for yet. WIBTA for telling my friend that I won’t attend the funeral on this short of notice?',\n",
       " 'WIBTA if i confronted my brother about wearing my clothes and make up?\\n\\nOk, sooooo weird situation for you guys. Yeasterday I (20f) caught my brother in my room wearing some of my clothes and a full face of makeup with wipes at the ready it looked like. Luckly he didnt see me so i just went into the backyard for a bit as to not embaress him. \\n\\nNow to be clear, in no way do i think this is a sexual thing for my brother. Hes always been a feminine person and he has confided in me before that hes questioned hes sexuality and gender. \\n\\nWIBTA if i confronted and spoke to him about it? I really dont want to embaress him but if he does want to explore that side i would prefer he ask to borrow clothes and makeup, especially the makeup, that shit expensive lol. All the same I would ask of my sisters aswell, when they want to use my stuff. and maybe i can take him shopping to get his own clothes and makeup if he would prefer that. My main concern rn tho is that i want to make this whole thing less embaressing as possible for him because i know he will get in his head about it. So WIBTA?\\n\\nEdit: Ive taken some advice and kind of assembled a little pack. Im not sure ill give it to him right away or if ill let him tell me first but i want to have it on hand when if/when he tells me. Just some basics, like diffrent coloured nail polish even muted tones so he can work up to more bold colours when hes comfortable. I was able to doordash some makeup supplies that should be good for a beginner. Eyeliner, mascara, eye shadow, lip gloss. Basiclly all the stuff it would be unhygenic to borrow. I also have some old clothes that would fit him great along with some actual new clothes that i ordered but a few were a bit to big on me. It was recently hes birthday so i went a bit overboard lol. Ive also cleared out a draw in my room where it can all go. Its just ready when hes ready for now.  \\n\\nAs for deciding if i will talk with him directly or wait for him to tell me, im still on the fence. If i do my rough plan would be to invite him to watch a show when everyones out, so theres background noise for him and hes more comfortable. Maybe paint my own nails and just gentely see if he would also like his done. If he goes for that maybe gently tell him (after the nails are dry, i dont want him to feel trapped) i saw him in my room and think he has good choice in fashion and that if he would like i have some clothes he can have that i think would suit him and some \"spare\" makeup since we really shouldnt share eyeliner or lipstick and stuff lol. Very rough draft to the plan but any suggestions on it?',\n",
       " 'AITA for telling my girlfriend her car accident was her fault and that her driving could be better\\n\\nI (28M) have always told my girlfriend (26F) that she needs to be a better driver. She can drive but she is overly cautious, takes longer than needed to look around when parked, stops completely for a good few seconds at stop signs, keeps checking her speedometer and braking the moment she is 1mph more than the limit etc.\\n\\nYesterday she crashed the car, and claims a semi suddenly swerved into her lane as she was passing it. She lost control and hit the barrier. Luckily it was not too bad and the car is drive-able and fixable.\\n\\nWhen she explained what happened, I told her, I knew that would happen someday and she argued saying that it \"wasn\\'t her fault\". I told her a single vehicle collision is always your fault and that if she had not over corrected, and slowed down gently she would not have lost control or even if she had hit the truck, then it would have been their fault.\\n\\nThe truck did not stop.\\n\\nEDIT: Seems like I am the AH, I will apologize. I really meant to say in terms of insurance. Obviously I know the truck initiated it by swerving. Usually unless an accident is really serious, police do not bother finding the other driver and if insurance does not have that info they consider you at fault in terms of deductibles and premiums.',\n",
       " \"WIBTA for leaving a shift early?\\n\\nI've been working at my retail job for 4 years, part time hours. I always try to be flexible with scheduling, I've come in on days off to help out, and I don't usually take a lot of time off.\\n\\nI recently also joined a community theater group, and I was scheudled to work today. I haven't worked Fridays in about 8 weeks. I also have dress rehersal tonight.\\n\\nI tried to get coverage, none of my coworkers could/would do it. I asked the manager if I could leave early to minimize how late I would be to rehearsal, since there are already two people to close, which is all that's typically scheduled for the last hour. Apparently the new guy has been having some issues with closing, so the manager said no. The manager usually leaves earlier then the rest of the staff.\\n\\nWIBTA if I asked my co-workers if they minded if I left early?\",\n",
       " \"AITA for wanting my tenants to pay for the huge water bill due to lawn sprinklers?\\n\\nOur tenants have been living there for a year now, and they've always made payments on time. A week ago the water company sent them a $5000 bill along with a notice that they had been using abnormally large amounts of water for the past 3 months. Edit: The water bill is in their name and the company bills once every two months.\\n\\nWhen I got there I was surprised to see a circle of tiny lawn sprinklers squirting in the lawn. I didn't even realize our property was installed with lawn sprinklers. I've previously lived there for years and have never turned them on. But apparently they were turned on somehow and have been left like that for months. I didn't know how to turn them off, so I just hired a plumber to shut off the valve to the sprinklers. Edit: I paid for the plumber.\\n\\nIn our lease, it is specified that they will pay for utilities and water. But the tenant said they don't know how it was turned on and that they just didn't notice the sprinklers going off the in the yard for months during the rainy season. Now they want us to foot the bill, because they say it's our fault that they were never informed of the sprinklers' existence. But I know they must have turned it on somehow while living there because I've lived there for ages without anything happening. I don't understand how they couldn't notice lawn sprinklers going off for months without telling us or doing anything. The water company is unwilling to lower the bill, and I think they should pay it, although I might be willing to pay part of it as a symbol of good faith. They told me that their finances are very tight. They are a three college friends in their 20s with no dependents working as very highly paid engineers at Microsoft, so I know they can pay it off when their paycheck arrives. AITA?\",\n",
       " 'AITA for not helping a newly promoted manager learn their job?\\n\\nAnother location of the same store I work at recently denied a promotion to the candidate I put forward stating he was unqualified.  Their new manager doesn’t stop calling me to ask me questions. \\n\\nI work at a membership club store and have been managing their Service Deli for some time.  I have a reputation for producing managers over my tenure there. We are an hour outside of a major city so we only have two locations of this very popular store here.  We often interchange employees and managers from store to store because it’s a smaller city. \\n\\nI convinced my assistant to apply for my same position at the store across town which he did.  He is incredible at his job and had 100% earned it in my opinion. Long story short he was denied the promotion and it was given to a person with zero experience in the area, as part of a program to rapidly develop new store managers. Keep in mind this person has never tried this job, worked in the area, nothing.  they are 100% new to this. The candidate I put forward was told “the position was given to a candidate more suited for the position with more experience.”  Even though he was qualified and had been training for this same job for three years.\\n\\nNow that it’s all said and done, this new “experienced and better suited” manager is panicking and slowly drowning in this very jntense job. She calls me CONSTANTLY, at least 4-6 times a day.\\n\\n“How do I generate this report?”\\n“How do I set up this equipment?”\\n“What’s the procedure for this?”\\n\\nIt got to a point that I grew very frustrated and honestly very annoyed.  My assistant wouldn’t be asking me these simple things, how is this person more qualified?\\n\\nI finally answered a question for this person but followed it with:\\n\\n“You know, I see you’re very busy, but so am I.  Your managers had some grand plan on putting you here with the reasoning that you’re more qualified.  You need to be that qualified person, or they need to help you be that.  I can’t keep doing all this extra that I’m not getting paid for. They need to help you.”\\n\\nI got pulled in the office by MY store manager to talk about it. “It’s not professional, it’s not yadda yadda yadda.”\\n\\nOur company has a very detailed disciplinary system and you can only be disciplined for very specific actions as described in our CBA.  This situation was not outlined anywhere he could see so he basically said I was being rude and unhelpful.  But that was it.  They can’t force me to help and they can’t do anything about me refusing to. I made it clear THEY promoted this person, THEY can deal with their learning BS.\\n\\nAm I the asshole?',\n",
       " 'AITA for lying to my homophobic grandparents to get a free education?\\n\\nI (23) just completed my degree this year.  My grandparents paid for my education the same as they did for all of their children and other grandchildren. Except for my cousin. She is ten years older than me and my grandparents cut off her funding after she came out as bisexual.  \\n\\nShe managed to complete her degree by taking out loans. But she still had to pay for three years of university on her own.  I saw how much it sucked for her to miss out on stuff because of her student debt.  \\n\\nI knew when I was 13 that I was gay.  I also knew what would happen to me with my family the minute I came out.  So I didn\\'t.  I concentrated on school.  I kept to myself.  I\\'m an introvert so it was relatively simple.  \\n\\nI am not going to lie. I wasn\\'t celibate during university. But I also didn\\'t advertise my sexuality.  Friends of my family and one of my cousins was attending the same school at the same time.  \\n\\nMy family did recently find out that I am gay.  I was outed to them by someone I trusted. But it is to late for them to screw me over.  I have my diploma and I live in a different city.  \\n\\nBut strangely enough I am getting shit on from both sides.  My family all think that I am an asshole for lying to my grandparents to \"steal\" an education.  And some of my friends think I was wrong not to be out and allow them to think I was as homophobic as they are. \\n\\nMy lesbian cousin is the only person from my family who the nks I did the right thing.  She says if she had it to do over she would like to \"those decrepit homophobes\". Her words not mine.  \\n\\nMy grandparents won\\'t talk to me.  My dad sent me an email saying that since I lied I should pay them back the money.  Not going to happen. \\n\\nI feel bad for lying but I feel great about my start in life.  \\n\\nAITA?',\n",
       " 'AITA for not allowing my dad to talk about what he wants on his birthday?\\n\\nThrowaway and on mobile. \\n\\nOK, so I (24F) love my dad, but he\\'s a real downer. His favorite topics to talk about are the issues with capitalism, the climate crisis and corrupt politician. He just loves to complain about the world in general. I\\'ve talked to him about it before and asked if he could stop, but that\\'s just how he is I guess. \\n\\nRecently, it was his birthday. My mom had organized a party and a lot of the extended family was there. It was the first time in a long time that we all got together so we were all excited for it. \\n\\nWell, we\\'re sitting down to eat a delicious meal my mom cooked, and my dad speaks up and says something along the lines of \"have you heard about that corrupt politician who did x?\" \\n\\nBefore anyone can say anything, I speak up and say \"speaking of that...\" and tell a loosely connected, funny anecdote from work. Everyone laughs, and continues talking about random things. \\n\\nDuring the entire dinner, whenever my dad starts speaking up about something depressing, I interrupt or steer the conversation away. \\n\\nAfter the dinner, when everyone\\'s gone home, my dad tells me he knows what I was doing and that I\\'m an AH. I say no one wants to hear that depressing stuff during a celebration, but he maintains that it\\'s normal dinner conversation. \\n\\nMy mom understands why I did what I did, but thinks it was an ah move to do it during his birthday dinner when we were supposed to celebrate him. I don\\'t think it being your birthday justifies making everyone else uncomfortable, but I can see her point. So reddit, aita?\\n\\nETA, other relatives have complained about him being a downer and ruining parties before, particularly my cousins and his sister. So I know I\\'m not the only one who is bothered by it.\\n\\nETA 2: it\\'s not the topics themselves that are the problem. I can enjoy discussing politics, the climate or finance too. It\\'s that my dad will just rant about how all politicians are corrupt and how the world is getting worse in every single way. If you say anything positive within any of those topics, he\\'ll be like \"that\\'s nice\" and then list ten ways in which the world is bad.',\n",
       " 'AITA for telling my mother to \"turn that shit off and focus on me\" because I was in pain?\\n\\nYou guys need a bit of background info to understand the situation:\\nI (f 15) got my cancer removed three days ago. The surgeons had to remove three of my ribs in order to do that (3rd, 4th and 5th). They put a net on the second rib which goes down to the sixth so that I have a bit more support on the left side of my body. However when I move a lot, like turning my upper body or standing up, that net sometimes pulls my ribs together which puts me in immense pain.\\nMy mother (f 43) is currently with me in the hospital because she takes care of me together with the nurses. She\\'s very christian and prays the rosary every evening at a certain time.\\n\\nNow the situation starts.\\nI had to go to the toilet, since I can\\'t walk or fully stand yet they bring a roll in toilet for me. I tried getting onto it but the net started cramping my ribs together, this made me gasp out in pain and I immediately sat back down on my hospital bed. My vision was blurry and breathing gave me a sharp pain to my lung and it burned, so I tried to breathe as little as possible. Since I barely got any air into my lungs at that moment I just tried saying \"pain meds\" over and over, but she had her headphones on and was listening to her rosary, so I was concerned she couldn\\'t hear me which made me panic a lot. \\nA few minutes pass and I had laid back down on the hospital bed in a position where the cramping isn\\'t that bad and I can breathe, while a nurse was trying to figure out what pain medication to give me (i had just moved from the intensive care unit to a normal station).\\nI was trying to collect my thoughts and focus on the pain, but I could hear her rosary through her headphones which made me unable to focus and got me more into a mode of panic.\\nAfter I had received my pain medication I told her \"turn that shit off and focus on me when I am in pain\", because I was concerned she couldn\\'t hear me, it made me panic and I felt like she wasn\\'t giving her full attention to me.\\nThis is where i might was the asshole.\\n\\nShe went on to big rant and basically told me this: \"I don\\'t ever want to hear that come out of your mouth again. You do not talk about the rosary or anything christian like that! I was just trying to calm my nerves while you were in pain, I also worry. You do not get to tell me what I should and should not listen to!\"\\n\\nI couldn\\'t even tell her why I said that because I was on the verge of crying again and trying to focus on my breathing so the pain doesn\\'t get worse. \\nI know she\\'s a strongly christian woman, but I myself don\\'t believe in god, I\\'m a science nerd (even though she raised me christian and we go to church every week). So I know this hurt her feelings a lot, but I also didn\\'t know what she was listening to when I said that. I just wanted to express how upset I was that she didn\\'t fully focus on me.\\n\\nI feel bad for what I said so I wanted to ask if I am the asshole in the situation?',\n",
       " \"WIBTA for not visiting my father in prison because it might affect my career prospects\\n\\nMy father is currently serving time in prison for a crime he committed, and I have been struggling with the decision of whether or not to visit him. I have a public facing career in a field where people need to see me as somebody they can trust.\\n\\nOn one hand, I feel guilty for not visiting him and providing support during this difficult time, but on the other hand, I am concerned that being seen visiting him might harm my reputation and career opportunities. I have weighed the pros and cons and have ultimately decided not to visit him in order to protect my career.\\n\\nNow, I'm wondering if I'm the asshole in this situation, or if I am justified in my decision to prioritize my career over visiting my father in prison.\",\n",
       " 'AITA for telling my coworker she doesn’t need to be adopted.\\n\\nSo my coworker (26f) lost her adoptive dad six years ago and live with her adoptive mom. Let’s call my coworker Pam (not her real name) Pam has been working with me for a few months now and it’s really clear that she doesn’t know how to think on her own. Her mom still packs her lunch and she drives her to work when it rains. Now Pam does not have any sort of disability or delays. She is very much able to do everything on her own but has been coddled her whole life. Now her mother has gotten a job offer in another country. Pam has mad it clear she doesn’t want to move and will be staying here if one of her older siblings adopt her. \\n\\nShe had 3 older siblings (45,42,37). Pam is the youngest and was adopted from another country at the age of 3.   \\n\\nI told her that it’s so sweet that she will be living with a sibling, but I asked her what she meant by adopting her since she is 26 and the legal age is 21. She says that she needs to be adopted to stay because who’s going to take care of her since her mom is leaving. I asked her to explain… this woman doesn’t pay any bills. She has no idea how to cook for herself or live on her own. I asked her if there’s a reason why she can’t live on her own. She told me that it was too hard and it’s better if someone just takes responsibility for her. I told her that the only way they can “adopt her” is if she releases her rights to her siblings and the court would have to determine if she is incapable to be on her own. She told me “that’s fine I don’t want to be responsible to be on my own.” I asked why she has a job then, and she basically told me she works to fund her shopping lifestyle. She has the latest phone, gets the newest purses, always comes to work with a $7 coffee, and has really nice clothes. I asked why she doesn’t just budget her money better so she can live on her own. She looked at me like I was crazy… I flat out told her that her siblings would not be smart for adopting her because there’s no reason to be adopted. This made her mad and she reported me to HR. I now have to write an apology memo and submit it to her by Tuesday. Now I’m thinking I should have stayed out of it, but this girl has no idea how the world works. Am I the Asshole\\n\\nEdit- Pam started the conversation and we always have these kinds of talks and even if we disagree we move on. She is one to talk about everything at work. She does more talking than work. This is just the first time HR got involved.',\n",
       " 'WIBTA for charging late cancellations for a babysitting job?\\n\\nI (F26) have been babysitting for a long time, but for the family I’m asking about here for 3 years. The parents both have a job that requires very early morning hours, they are sports coaches and work with a lot of people still in school. I get there before 6am and help their kids get up and get ready for school.\\n\\nFairly regularly they will tell me to come 30 minutes later than usual, often they don’t tell me until they wake up and see they’ve had a student cancel. This means I don’t see that until I’ve also woken up. I understand that’s inevitable in their line of work. Sometimes, they completely cancel if they’ve had enough cancellations, and I also don’t see that until I wake up. Today I was in my car heading there when they canceled.\\n\\nI’m thinking of asking them to pay half what I would’ve made or at least for an hour of my time when they completely cancel last minute. I know they can’t control their students, but I try to budget for the money I expect to get and I also can’t keep waking up at 5am and lose sleep just to be cancelled on. I think it’s particularly frustrating when I’m on the way or about to get in my car. I know they used to have cancellation fees for their students as well, but I’m not sure if they still do.',\n",
       " \"AITA for not wanting my daughter to have an expensive hobby?\\n\\nI (39m) have 3 kids (11f is relevant to this story) with my wife (38f). \\n\\nMy wife sews for a hobby and my 11 year old daughter started to get into it with my wife. The problem is that sewing can get quite expensive, seeing that eventually my daughter will want her own sewing equipment including a machine rather than using my wife's. \\n\\nI pulled my wife aside last night and asked if she could please nip this hobby in the bud. She got upset but I explained that we do not have the money for her to have her own materials. My wife said that while we might not have money to buy our daughter a brand new machine thats of decent quality, we do have money to buy her her own fabric every once in awhile, and that our daughter is welcome to use any of my wife's equipment. I also brought up that sewing can be dangerous with the needle. My wife said that it's no more dangerous than playing outside. This devolved into an argument and I just need some outside input. AITA?\",\n",
       " 'WIBTA if I went to my neighbours house to let them know that there Childs behaviour in our home is unacceptable and if she wants to continue playing with my kids she needs to learn to have some respect.\\n\\nHonestly at a loss here. My son (5) recently started playing with the neighbours kids. The problem is these kids are monsters. I mean I know kids are kids and my kids are no where near perfect but I have honestly never seen such behaviour. There are two girls age 5 and 9 and they are the most disrespectful children I have ever met. This I can ignore as I don’t usually let them come in the house as I have two smaller kids inside and they insist on either trying to yank my 6 month old out of my wife’s hand smash on all my lizard tanks and pick up and carry my 2 year old around who absolutely hates being carried. But now down to the part that is really frustrating me. Since hanging out with these girls my 5 year old has starting treating my wife the same way these girls treat there grandma and mom. No respect, straight up ignoring her, being rude and just a general sense that he doesn’t have to listen to anything she says. I’m at the point where I don’t want him hanging around with them any more but there mother and grandmother quite often send them out and tell them to come play with my kids.\\n\\nSo here’s where I’m wondering WIBTA if I went over to have a conversation with the mom and grandma about the kids not being aloud to come over and play anymore because there kids do not listen to anything we ask, there rude and disrespectful and it is now rubbing off on my kids?\\n\\nThanks I’m advance!\\n\\nEdit:\\n\\nThank you all so much for the advice. I have read each and every response I just had to stop replying as I had to get to work for a few hours and sort some things out. \\n\\nMy wife and I will not be going over there to talk to them unless the kids don’t get the memo after we stop letting out kids out to play with them. I let the girls know today that they are not welcome to just come in to our back yard uninvited and if they do they will be sent home. As for disciplining my son he’s generally a really good kid and so I don’t believe that harsh punishment is necessary we have sat him down after school and had a talk with him about how his behaviour is being affected but the girls next door and he seams to understand why we are doing what we are doing. He is however grounded from going out to play with those girls for a week and if after that week his behaviour has improved we will revisit the idea of supervised visits with them and see where it goes. Thanks for taking the time to weigh in and let me know your thoughts!\\n\\nCheers 🥂',\n",
       " 'AITA for letting my drunk ex husband in my house?\\n\\nMyself (29f) and my ex of 11 years (34m) separated (mostly) amicably last year. We have a son (9). I started seeing my bf (36m) early this year. \\n\\nSitch: recently my ex was very intoxicated and called me at about 4:30am. This is the time he typically went to work so I thought maybe something was wrong with his car etc. He was very intoxicated and in a bad place mentally, so I lent my ear. \\n\\nHe ended up deciding he wanted to see me and it was a great idea to drive the 3 min drive to my house. Despite my absolute refusal and pleads, he drove drunk to my house. Knowing my ex, I let him in quietly, he crawled into my bed and he passed out within 10 min after some blubbering. I did not lay with him. I sat on the couch. \\n\\nMy son was sleeping. I live in a very small 2bdrm suite. We both had school and work in the morning. I was furious about the whole situation but was trying to do the best for my kid above everything ie. Not have them see a drunken scene with their dad. I left for work and he eventually woke up and left. \\n\\nI told my bf as soon as I saw him after work that day. He was very upset that I let him in the house and this ultimately led to us (me and new bf) breaking up. He thinks I should have called him a cab (which I honestly didn’t think about and yes, would have been a good option although my ex likely would have refused) or just refused him entry. He thinks I disrespected him and I’m the asshole. \\n\\nBackground:\\nMy ex and I really wanted to remain supportive of eachother and have a friendship, and my bf knew and was accepting of that initially. \\nThere were other boundary issues with my ex since the breakup that I was always upfront and honest with my bf about that contributed to this being a big deal. \\n\\nI just need to know if I’m in the wrong here. AITA?\\n\\n** EDIT FOR INFO**\\nI did contact my ex the next day and told him it was absolutely not okay to put myself, our child in that position. \\nBy boundary issues, I meant my ex crossed lines, I set and enforced boundaries based on my feelings and that of the new (ex) bf. Ie. He slapped my ass, and would joke about us hooking up. I explicitly told him these kind of comments and actions were not okay and stopped putting myself in situations where I was around him alone. This type of situation had never occurred before. My ex is not an angry/hostile/abusive person. Just a sad dude who isn’t over me. Bf knew he wasn’t over me.',\n",
       " \"AITA for messing with my dad's Christmas lights.\\n\\nMy dad likes to play jokes on people and if you complain then he says you are being a baby and have no sense of humor.  \\n\\nMy dad also hates to read instructions. \\n\\nLast Christmas o got him a set of computer controlled Christmas lights.  They are really cool.  You can control each individual led.  And you can set patterns on them. You can make your tree twinkle or look like a candy cane. It is a neat system. I installed the app for the lights on my dad's phone and showed him how to use them. \\n\\nOne other thing you can do is make it look like one of the lights is broken. All the other lights work perfectly but you can pick one and make it look like it is shorting out. It flickers, goes out,comes back on. Randomly.  And you can cycle through all the lights.  \\n\\nIt is driving my dad crazy.  He has unstrung them from the tree three times now. He lays them out and tries to see which light it is. But when he unplugs them they revert to a default state and just cycle through the colors.  \\n\\nMy mom noticed that the lights only bugger up when I am around.  So she asked me what I was doing.  I admitted the truth.  She laughed and asked me to show her how to do it so my dad didn't figure out that I was the one messing with him. \\n\\nMy husband thinks that I'm being petty and kind of a jerk to my dad.  But as a victim of my father's jokes for over five years now he also does not want me to stop.  \\n\\nI feel a little bad about it but also justified after a life of putting up with him joking about my thin skin.  \\n\\nAITA?\",\n",
       " 'AITA for Not Wanting My Son to Do a \"Fake\" Gender Reveal in Support of a Trans Classmate?\\n\\nMy son is in 5th grade and one of his classmates recently came out as transgender (MtF). Good for her, I\\'m all for people being who they are. Now, his teacher, in an effort to be supportive, is planning a \"gender reveal\" themed party for the class. The idea is that any kid who wants to can \"reveal\" their chosen gender, not just the transgender student. Meaning, the boys declare as boys and the girls (and the trans student declare as girls).  I think this is a dumb idea, but that\\'s not a hill I\\'m going to die on.\\n\\nHere is the problem -- my son and his female friend both want to do gender reveals as the opposite gender for \"fun\". They\\'re not transgender, they\\'re not questioning their identities, they just think it\\'s a cool party trick. My wife says it\\'s harmless and making a big deal is transphobic and to let it go. I\\'m struggling though. I can\\'t help but think that doing a \"fake\" reveal could be incredibly disrespectful to the transgender student and her family. It also has me thinking that the whole thing is inappropriate.\\n\\nMy wife is adamant that I shouldn\\'t talk to the school about it or pressure my son to reconsider. She thinks I\\'m making a big deal out of nothing and if my kid is actual curious, I could be shutting him down.  But I\\'m worried that it\\'s actually a very big deal for the transgender student and her family. The parents of the trans kid are very involved in the school and that also makes things socially hard for us.  Am I the asshole for wanting to intervene anyway?  \\n\\n\\nEdited to clarify my wife\\'s position.',\n",
       " \"AITA for wanting to test baby products before my child uses them rather than defaulting to the most expensive hypoallergic option?\\n\\nI am (33M) having a baby with my (33F) wife in a month or two and we recently had a disagreement about whether it's okay to use normal baby products for our son or if he must use the hypoallergenic option (think, Eucedrin) or if we can buy smaller, normal products and test them using a Q tip on his skin to see how he reacts. I am of the view that it's responsible to see if he has sensitive skin before buying the most expensive, most difficult to obtain product (which he might be allergic to anyways) and do this carefully and that it won't harm him to do so in a careful, limited manner in order to save money on the baby products we buy for him. We aren't rich. \\n\\nShe's treating me like I've suggested putting his hand into a fire to see if it burns. She literally used those words. She, and her family agree that I am being ridiculously cavalier about my son's health and that if I really cared about him, I would of course only use the expensive option until he were much older.  As backstory, her family has had extensive issues with products causing hives and skin conditions, so I completely understand the caution, while my family has had zero issues as far as I know of. \\n\\nBut that's why I wanted to take a more rigorous approach: use a small amount of a single product, apply gently to a small area like his leg or arm and just wait and see if there's any reaction. The whole idea would be to know if there's anything we should know about, rather than just assuming he's going to be cursed with sensitive skin genes.   \\n\\n\\nBut now, my wife, her mom and sister all think I'm an asshole, and hey, maybe I am, but I genuinely tried to take a considerate approach to this because I do care about my son and want him to be happy and healthy, but I also don't want to treat him like he's made of porcelain like I see so many shitty parents do for no reason at all. \",\n",
       " 'AITA for asking my fiancé to open his own bank account?\\n\\n3 years ago, my fiancé and I decided to merge bank accounts. Together, it was decided that he would be added to mine since more than half of the current bills were coming out of that account. He has zero desire to want to budget, pay bills, or do any sort of financial planning, and so, the entire role has fallen on my shoulders.\\n\\nI often try to talk to him, and get shot down every time. He’ll say things like he just doesn’t understand the budget, or that he trusts me to make sure the bills are paid. However, when o have to tell him we can’t afford a purchase right now, he explodes. He gets angry saying that he doesn’t understand where all of our money goes, and that we should make more than enough to have some extra. I should add that between the 2 of us we bring in a paycheck every week. I update an excel spreadsheet everyday, and on paydays, I plug in our pay along with the bills coming out that week. Then I print off that spreadsheet and tape it to the closet door in our bedroom. This was something he asked me to do to help him better visualize where things are at.\\n\\nHe makes really difficult to say no, and I’m really tired of walking on those eggshells. At the start of this month, I tried to show him how much we spent on different things (groceries, fun money, gas, pets, health, subscriptions, etc), and asked him to please help me figure out where we could cut back because prices have gone up and we overspent.\\n\\nImmediately he became defensive and said “I’m not the one who spends the money” Then he claimed ignorance, stating that he doesn’t even know how to log into our bank account. I was really upset, and just started crying and felt even more ridiculous. After a while, we both calmed down a bit, and he asked me why it was so important to me. I told him that we both work way too hard to not know where our money is going, and that we are not in a place to have our cake and eat it too. I told him that I know what my financial goals look like, but that he never discusses his with me so I have no idea what that looks like and how to merge those ideas. \\n\\nThen he told me that I always approach him at the wrong time and that I should have picked a better time. At that point, I suggested that he should open his own account. I suggested that we decide what he should pay each month towards bills, but that I’m sick of carrying this alone. He said that if he got his own account that he wasn’t going to pay sh!t. \\n\\nThis is honestly the one and only thing we’ve fought about over the years. I have 2 kids (one graduating in May, the other 13), that I need to make sure are provided for. I don’t need his paycheck to provide for my kids or to pay the bills to be honest, but I do feel as though he should hold some accountability in our finances and not just leave it all on me. So, AITA for asking him to get his own account?',\n",
       " 'AITA for moving to California\\n\\nI (19f) have always had an adventurous, wild, spontaneous spirit. I take many trips whether that be for hiking, surfing, camping or concerts. Last year I canceled my across country move from Virginia to Oregon because both my dad and grandma got sick at the same time and I didn’t want to leave if something happened. During the last year I started college online and took over a full time position at my job. Back in May I started to feel suffocated in my hometown and started to look at jobs and apartments in both the Pacific Northwest and California to maybe move to in the next year. Fast forward to June I started to see a guy (M26)  who was a seasonal biologist in my hometown and he inspired me to also start looking for seasonal jobs. My major is in Professional writing with a minor in Sustainability and Conservation. I’ve always known I wanted to work for U.S Fish and Wildlife, The National Park Service, or The Nature Conservancy. \\nMe and that guy did not last long but the inspiration he left behind did. I started applying to jobs all over and ended up getting one in California and now I’m leaving in 5 days on very short notice (3 weeks). One of my coworkers (M27) who I’m very close with got extremely angry with me when I got the job and started to become passive aggressive with me. I talked to him about it and he told me I was selfish for leaving all my work behind for him and the rest of our coworkers to do. He also said that our boss hired me for a reason and that I was leaving her to do everything alone now. He also called me dumb and delusional for leaving because I got inspired by a guy. I told him that I always knew I needed experience because of my minor and because of the kinds of jobs I want after I graduate. I’m still leaving in 5 days, but my question is am I selfish for leaving and an asshole for leaving them with my leftover work?',\n",
       " \"WIBTA if i contact my client's boyfriend and other friends over defaulted payments?\\n\\n[deleted]\",\n",
       " 'AITA “cheating” to get a promotion?\\n\\nI put the “cheating” in quotes because I don’t think it’s cheating but my colleagues disagree. I’m in my 30s and everyone involved are between 30-50. \\n\\nAbout 6 months ago, our unit VP announced his retirement by the end of the year so the company went into search mode. We recently found out our manager will be promoted into the VP position so now his position needs to be filled. Which brings us to my current situation.\\n\\nI’m single with no kids so I have no other responsibilities except to myself. I really want this position because it’s a visible position and a great stepping stone to my career (as seen by my manager’s promotion) and it’ll almost double my pay. Once we found out about our manager’s promotion, I started to take on extra projects and taking work home. I leave work at my normal hours then work from home until 9 or 10 pm, even on the weekends. All of those extra hours have allowed me to take on harder projects that other people turned down and complete more than anyone else. My manager and the VP have noticed and complimented me on my hustle. My colleagues also noticed my increased production. Last week a work friend asked me how I’m able to do all of those projects in 8 hrs and I told her about my nights and weekends. \\n\\nWord got around and this week during our weekly conference call, my colleagues told me to cut it out. They accused me of cheating because I’m putting in the amount of hours they can’t so I’m skewing the production numbers. I refused and don’t think it’s cheating at all and argued they can put in the same amount of hours. Some said they can’t because of family time and others refuse to work hours they won’t get paid for (we’re all on salary). We spent most of the meeting arguing about it.\\n\\nAm I cheating? AITA?\\n\\nEdit: I didn’t add it to the post because of character limits. My colleagues and I are all supervisors. I have a mentor who’s a VP in a different unit and he’s advising me on the promotion process and steps I need to take. He also told me what to expect if I get promoted so I’m going into this fully informed. Basically my manager worked about 50-60 hrs a week because it was he’s always on call. I can go into more details but it’ll just bore you. Feel free to ask and I’ll update if I see the same questions repeated.\\n\\nEdit 2: This has been brought up many times. I won’t get promoted just because I hustled for a month or two. Management looks over my entire career and time at the company. However, my mentor told me to think of it as having an important project coming up and what will I do to complete it. He said my VP and Manager don’t expect me to keep up the production but are looking to see who is climbing for the open position. He goes on to say with everything being equal (skills, knowledge, etc) there is little chance for a person who religiously work only 40 hrs to be promoted to a position that requires 50-60 hrs. Personally I view the double in pay more than compensate for the increasing hrs.\\n\\nEdit 3: There has been questions about my coworkers and the ones who are most against my extra work. The one “leading the charge” and making the most noise is a lady in her 50s. She’s been here the longest, longer than even our recently promoted manager. We’ve always had a cordial working relationship but she’s been vicious as of late.\\n\\nWe’re all supervisors and are on salary. I know some places require sign in sheets for salary positions but we don’t have such constraint. I do know they audit our computer usage to see how much or little we work.\\n\\nMy colleagues and I all submitted our application and CV for the position. There are other applications from other business units within the company as this is a highly desirable job. \\n\\nThanks for reading my post and giving me your opinions. I spent the night reading through every one of them. I’ll post an update of my status once I find out in a couple of weeks if anyone is still interested.',\n",
       " 'AITA for wanting to pick the restaurant my family and I ate at for my birthday?\\n\\nThrowaway account. On mobile, so there may be weird formatting issues.\\n\\nSo my (F28) dad has a tradition for birthdays for my brother (M25) and I where every year he picks us up a dessert of our choosing from our local bakery, takes out to eat “wherever we want,” and then we go do an activity like bowling or movies or whatever else we pick. I know I’m very lucky to have a dad that does that even after we’re adults and have moved out of the house.\\n\\nThe only thing is, my brother is an extremely picky eater, so since we were kids I’ve sort of always gotten stuck only choosing places to eat where he’ll actually eat. My brother will pretty much only go out to eat at steakhouses or burger joints. So every year for my birthday since we were kids, that’s where I’ve “chosen” to go because he won’t go anywhere else. Or I’ve “chosen” to eat vanilla cupcakes because he won’t eat the coffee cake I like.\\n\\nThis year, when my dad asked me where I’d like to eat, I told him there was this new Indian place I’d heard about that I really wanted to try. He asked if I could pick somewhere else because my brother won’t eat Indian food. I told him I was kind of tired of eating cheeseburgers for my birthday just because my brother is picky, and asked if my dad and I could have dinner together, and then pick my brother up to go out afterwords. He accused me of being selfish, so I sort of just dropped the point and stopped texting him about it.\\n\\nAm I being an asshole? I know it’s not that deep to go eat burgers or whatever, but I do kind of feel like it’s not fair that I’ve had to center birthday activities around my brother’s preferences my whole life. I don’t know though, I might be being super immature. WIBTA if I insisted on doing what I actually want, or should I just suck it up and drop it and go eat what my brother likes?',\n",
       " \"AITA for feeding my Muslim colleague pork\\n\\nI(25f) had a new colleague (mid 20s..?) come in last month. I didn't interact with her much since she's from another department but she's in the same office as us so we share a pantry.\\n\\nSo I was heating up my lunch in the pantry yesterday, it was pork dumplings and she was sitting at the table. I had some small talk with her and offered my pork dumplings. And while she was eating she asked what it was and i said pork dumpling. She spitted it out and was really angry about it saying i should've known she was Muslim and can't eat pork. I apologize but she just left the pantry.\\n\\nThe thing is I only know she's Arab and she was like an European looking Arab with blue eyes and blonde hair and she wasn't wearing any religious item to indicate she was Muslim. And this morning I received a letter from HR for religious harressment?\\n\\nI mean on one point I could see why it's disrespectful and I could be really ignorant but on another hand she's a grown adult and she should've asked before hand if she had a dietary restriction.\",\n",
       " 'AITA for not backing up my husband when he grounded our daughter?\\n\\nBackground: our daughter (10) has a condition known as ARFID - avoidant restrictive food intake disorder. She also has anxiety and ADHD and is a high maintenance child. She is in therapy and on meds, but the food issue has not gotten better. She has panic attacks when you ask her to eat something new. (And before someone says not to feed her and she will eventually eat...that doesn\\'t work. She will just not eat all day. This is an actual psychiatric disorder.) \\n\\nMy husband made a deal with her recently. If she tries any food he asks her to for 2 weeks, she can get a new kitten. This is a bet that he won\\'t lose, her anxiety and fear over food is too great. But she did try a few new foods. But then one will trigger her anxiety and she will panic and then have to start over. I am fine with this, even though I had no input into the deal. The furthest she made it was 2.5 days and then he asked her to try oatmeal, which she did, but then spit it out and he wouldn\\'t let it count if she didn\\'t swallow it. She couldn\\'t bring herself to take another bite. I was iffy about that, but it was his deal with her so his rules. \\n\\nToday he asked her to try a peanut which she has tried before and hates. She freaked out because she already knows she can\\'t stand the texture and was afraid she would puke. Instead of starting over, today he threatened to ground her. She was already in panic mode and melted down. I was upstairs WFH, and she runs up to me in tears. I hadn\\'t heard all of what happened downstairs, so thought she must have yelled at her dad or been rude. She said no, it was just that she wouldn\\'t try the peanut. I don\\'t remember exactly what I said, but basically I didn\\'t think grounding was fair in this case if her side of the story was accurate. Well, this pissed my hubby off, and even though he confirmed that it was only because of her refusal, he started yelling at me for not backing him up, because we have to \"be a team.\" I don\\'t feel like him unilaterally deciding she is grounded is a team to begin with. I don\\'t think I should have to back him up when I disagree with him - I feel I should stick up for my daughter. I don\\'t agree with grounding/yelling about the food issues, because it never works, only making the situation worse. It\\'s going to make it a negative experience in her mind and she will never like any food that she\\'s made to try that way. \\n\\nSo, AITA for agreeing with my daughter that her dad wasn\\'t being fair? She is still grounded at this point, I didn\\'t undo it. If it makes a difference, he did agree after our argument that I made valid points, but thinks I should\\'ve agreed with him in front of her and then discussed it with him later. (Which wouldn\\'t have made a difference, he wouldn\\'t have reversed it because then she wouldn\\'t respect him for going back on his word.) Of course, him yelling at me for not backing him up was also done in front of our daughter.',\n",
       " 'AITA (an \"arrogant asshole\" at that) for explaining to a fellow parent why I spent extra for Mexican cokes versus regular cokes for my son\\'s end of school party?\\n\\nHi all, I am not quite sure how to begin this post so I\\'ll just dive right in and edit later. \\n\\nI don\\'t typically let my children drink soda but when we do have it as a special treat we opt for Mexican bottled coke which is available here but not widely so.  I think the reasons for this are quite obvious, one Mexican coke is not part of the coke corporation, rather and independent brand who better supports workers rights (though far from perfect, I admit). Secondly they use real sugar, as opposed to HFCS (high fructose corn syrup) and while real sugar is not \"good\" for you, HFCS has been compared with nuclear waste as far its negative effects on a human body. Thirdly, as someone who took chemistry in college, glass is an inert substance, plastic and aluminum are far from inert and interact with the human body and absolutely cause cancer. \\n\\nI participated in (edited--I did not host) an end of school party for my 7 year old today and went out and bought a case of Mexican coke for the party (as well as water of course). Unfortunately, a few of the kids got a kick out of breaking the bottles out in the street as cars were passing by. Obviously they were wrong but it did not warrant the words one of the other parents hoisted at me. \\n\\nAt first she asked why I would give seven year olds glass. I explained all of the above and said I never would have envisioned them smashing bottles. She said my reasoning made me an arrogant asshole and I need to just host a f****** kids party, not turn everything into a statement.  I said I was sorry but I think I was in the right and then she screamed that my child was the one leading throwing the bottles and how could I be so stupid. I was not aware of this but it did turn out to be true (I had a very long conversation with my child about how they can never do this again for any number of reasons). \\n\\nI\\'m pretty shaken by the encounter and my partner  said that if it were up to them, they would have opted for Kool-Aid and just gotten over the \"plastic thing.\" \\n\\nAITA?',\n",
       " 'AITA for making a “petty” post that hurt my nephew?\\n\\nMy (29f) nephew (21m) fathered a baby, L (1m) last year. Everyone in the family knew this would end up being a disaster but all were supportive and some were even excited. L was born and lived with both of his parents until about May of this year, when L’s mom was very depressed and ended up going inpatient for a week, and both her and my nephew signed over custody to my sister (42f). \\n\\nSince then my sister and her husband have been taking care of L full time, emotionally, physically, and financially. My nephew and L’s birth mother continue to be in a volatile on again off again relationship, being financially supported by my sister and her husband. They moved to another state in July on a whim, don’t send any money for L or even ask to video chat with him.\\n\\nMy sister asked my husband and I to be L’s godparents and we accepted. We don’t have kids of our own and have sent packages and money to help support L.\\n\\nOctober was L’s 1st birthday. I got a plane ticket to go to celebrate (as we live in a different state). My sister offered my nephew a plane ticket to come to his son’s birthday. At first he said yes, that he wanted a ticket and wanted to return home. Two weeks before the birthday he changed his mind, so neither of his birth parents went to the birthday. To note this was not a conflict with work or money: the birth mother had weekends off, low bills, and makes decent money. My nephew was not working and was offered a plane ticket. They decided not to come. \\n\\nBoth of them are serial Facebook posters, trying to portray a life that is vastly different than reality. On the birthday celebration day, they both made their respective posts on FB about his birthday, how smart, sweet, perfect he was. I also posted some pictures from the party and posted “Celebrating little man’s first birthday with those who love him most.” My nephew liked the post, then deleted me off FB and started texting his mom angrily all night about my post because it implied that HE didn’t love his son since be wasn’t there. My niece made a similarly worded post and he did the same to her. My sister got angry with us saying that we made the posts purposefully looking to get a ride out of him. I informed her that my post didn’t Specifically exclude those that weren’t there as not loving him, and that I wasn’t responsible for how he interpreted + felt about anything I posted. If he took offense to that, that is due to his shitty decisions that have led to this point. My mom and grandma also think I should apologize but I don’t see why?',\n",
       " \"WIBTA if i told my friend that she was annoying ?\\n\\nI(13f) is friend whit a girl (13f) for 11 years. \\n\\ni really like she's like a sister to me.But since laste years she is starting to be a pick me girl. She like Kpop and do everything to look like some idoles that she like. She always speak with a super acute voice. She have a crush on  boy who is in my class and she doing some weord  rules for her girlfriends \\n\\n1. dont speak to him\\n2. dont talk about him with someone else than her\\n3. dont touch him\\n4. dont look at him\\n5. dont think about him\\n6. dont stay near him\\n\\nshe is doing this all day long. I am scared that if i tell her this she will not speak with me anymore.\\n\\nEnglish is not my first language so i nom its not perfect\",\n",
       " 'AITA for not wanting to hang out with my girlfriends leather family?\\n\\nMy girlfriend and I have been dating for almost two years. I’ve met what she calls her “leather family” about five times now. About as frequently as I see some of my own chosen family and more frequently than I see my own family, tbh. \\n\\nShe tells me that they saved her from unsafe BDSM situations and accept her for who she is. So it’s important I get along with them. They are like chosen family to her. I get that. But each time I hang out with them I get creepy vibes from them. Supposedly they are all queer and trans, but I feel myself explaining things about misogyny, consent, and power I shouldn’t have to explain. They are also all much much older than her (we are in our 20s and they are mostly in their 50s.) They all have sex with one another at kink parties. And get mad at me (and her) for me not going to these meet ups or parties. I’ve tried to politely say they aren’t my type. Then my girlfriend calls me “Princess” for having “too high of standards.” \\n\\nThey also talk too much about blood, piercings, and violence for me to withstand time around them. I wish I wasn’t this sensitive. I’m trying not to be. But one just kept talking about the blood/pus issues he had after top surgery at the bar. My girlfriend mentioned at one get together that we will be trying to get married and get pregnant. At this get together, people in the leather family suggested that she use her ex (who is a cis guy in the leather family) to donate sperm. When I said no, I’m uncomfortable. They then offered the sperm of two other men in the leather family. I once again said I was uncomfortable. My girlfriend doesn’t see the problem. She thinks they are being helpful and I don’t accept her as she is. \\n\\nFor context, I go to my girlfriends bio family house. I plan vacations with them and I try my best to get along with them. I am friends with her friends outside of this leather family, but lately she has isolated herself from all of those people. This all escalated when this holiday season I didn’t want to go to her leather families Thanksgiving. She isn’t talking to me right now. I feel like a terrible boyfriend. AITA?',\n",
       " 'WIBTA if I pretended to be a ghost?\\n\\nOk so this was not the intention when I did it.\\n\\nMy sister suddenly passed away a couple weeks ago. To make a long story short, drama has ensued. \\n\\nI was the one to gather my sister\\'s belongings. There was not much.\\n\\n My mother and sister were never close. Barely spoke in the last 2 years.\\n\\nIn her possessions is a statue. A mother daughter one. My mother collects these statues. She does not know I have it. Considering my sister\\'s life style the past couple years, it says something that she chose to carry this with her. She was 45. \\n\\nI wanted to get it back to my mom, but didn\\'t want a show, or any drama. I just wanted her to have it. \\n\\nSo when she was using the bathroom I placed it on top of the hutch where she keeps them. She\\'s pretty anal, she\\'s going to notice it soon. \\n\\nIt just occurred to me, that my mother, being in a state of mourning still, as its only been a little over 2 weeks, might have a \"omg you\\'ll never get this\" moment. \"The statue i gave your sister appeared on my hutch\" I can hear it now. She\\'s a smart woman, but we can empathize how that could make her feel.\\n\\nI just intended to get it to her without giving it to her. I didn\\'t think it through. \\n\\nWIBTA if i told her the truth if she is comforted by it appearing?',\n",
       " 'AITA For calling the Cops on my College Roomate??\\n\\nI (18F) and my roommate (18F) have had a difficult time living together. She constantly kicks me out of the dorm to have sex with guys from tinder and at one point kicked me out at 2am to fuck and tried to bribe my friends to \"babysit\" me when im a grown ass woman. Then proceeded to not speak to me for the next couple days until we had a conversation with the RA. She would have other people check my toothbrush by touching it to see if it was wet to make sure I was brushing my teeth and would check my shampoo and body wash to make sure I was showering. She constantly yells at me and degrades me and refuses to call me by my name and only calls me \"roomate\". She constantly tells me and the people around me to tell me to be quiet (I have ADHD) and sometimes maybe i talk more then the average person and to silence me she throws pillows at me which i do not appreciate. She emotionally manipulates me, breaks every roommate agreement, and isolates me from my friends. I\\'m paying roughly $4400 a semester to live in the high quality honors dorms and have been reduced to sleeping on a bean bag in my neighbors room. I have consistently tried to speak to her woman to woman and every she dismisses me, ignores me, or promises to change and doesn\\'t. \\n\\nNow to the current issue. Recently while I was with friends she called me and said I was not allowed in the room. I am a pretty shy person and did not feel safe at this point so I called campus police and to escort me into my OWN DAMN ROOM so I could grab the rest of my stuff and move it into my neighbors room. My neighbors are the sweetest people and have let me stay here for the last 3 and at this point everyone is a bit overwhelmed with such a small space. We tried to speak to the RA and nothing came of it, we put in a complaint to the dean of students and have heard nothing, and this is starting to affect my mental health as well as my neighbors and my acedemics which are very important because I need to maintain a certain GPA to stay in these dorms and keep my honors scholarship. \\n\\nAm I The Asshole for Calling the Police on my Roomate?',\n",
       " 'WIBTA if I wrote the neighbors a letter offering to buy their property?\\n\\nWe moved into our current house two years ago.  In the time that we\\'ve lived here, the house next to us has sat empty.  It\\'s obvious from the condition of the house and the lot that it\\'s been empty for much longer than two years.  It\\'s not completely abandoned though because whoever owns it pays a company to mow the law in the summer.\\n\\nWe love the area we live in and we love our house.  One of our only complaints is that our lot is kind of small.  I would love it if we could buy the property next to us, knock down the house and garage, and triple the size of our lot.  It would be a bit of a stretch, but we could afford to do so if we wanted.  I did a public tax record search with the county and have a name and address for the property owner next door.  I brought up my spouse the idea of sending the owner a letter basically just saying \"Hey, we live next door to your property at \\'address\\', if you\\'re ever interested in selling it please get in touch with it, we\\'d be interested in buying it.\"  No pressure, just the kind of letter realtors sometimes stick in your mailbox.  My spouse thinks it would be completely inappropriate and creepy.  Is there something wrong with what I want to do?',\n",
       " 'AITA for not wanting to buy MIL a new bed for our guest bedroom\\n\\nMy MIL stays with us far more frequently than I would like.  She recently requested that we purchase a new bed for our guest bedroom because the current bed we have (a newer pillow-top King size mattress) is too soft for her liking.  When we pushed back a little she said she would be willing to pay for one but she doesn\\'t have any money so I worry that if she was to buy one it would be the cheapest mattress possible.  Other guests that have stayed with us have commented on how comfortable the bed is and when I sleep in that room (if kids join is in bed in the middle of the night or husband is snoring) I think it\\'s wonderful.  \\n\\nMy husband frequently feels \"in the middle\" between his mom\\'s numerous requests and my lack of supporting those said requests.  I don\\'t want to but him in a bad spot but I just can\\'t wrap my head around getting a brand new King mattress for this reason.',\n",
       " 'AITA for suggesting my SO cover the electricity costs for leaving a space heater running for a whole week?\\n\\nWe split the rent, utilities, food, etc. SO turns on the space heater at full power an hour before leaving for an early flight and forgets to turn it off. 8 days later, we come home to a sweltering apartment that fortunately didn\\'t burn down in our absence. I say \"Hey, that was dumb, but shit happens. Let\\'s move on. Though I\\'d appreciate it if you cover the electricity cost for the time we were away.\" \\n\\nSO does not agree. Tension ensues.',\n",
       " 'AITA for saying no to extra uninvited people to my Christmas party?\\n\\nHello everyone, would love some insight to if I’m the asshole in this situation.\\nA few weeks ago, I created a Facebook event invite to invite a few friends and their significant others to my apartment to have a small gathering before Christmas in my apartment. I should mention I have a one bedroom. I invited my two female friends (Amanda and Christy) and their SO’s (Josh and Kyle), as well as my boyfriend (totaling 6 including me.) I wanted to make Christmas cookies, a charcuterie board, and do a small gift exchange. \\n\\nA few days before my party, my friend Amanda told her two friends about my party and they said they wanted to come. I told her okay, that’s fine. (Even though I didn’t know them too well and was a little weary about 8 people in a small space and had to buy more food.) The night before the party, Amanda’s husband, Josh, announces to his three guy friends that I am having a party and now they want to join. \\nI am not close with these three guy friends, and a small couples event has turned into an 11 people party which I just don’t have the space for. One of the guys who is coming has been particularly disrespectful to Josh’s wife Amanda in the past and I didn’t like that. I told them no, I don’t have the space or extra money to accommodate 3 more people. \\n\\nJosh kept pushing it, and I told him no. He asks why can’t we just have a party at his house (his house is particularly dirty and usually they go into his computer room and play video games all night.) He announces he’s not coming, that his friends basically hate me now, and it’s “messed up of me to do this.” \\nI have been apologizing and even tried to change my plan so we could all just go out to a bar so everyone could go and be included. Josh told me “good, because you’ll have to apologize to my friends when we’re out since theyll be there.” He ruined the night, he refused to talk to me. \\nHe sat in a corner and played Pokémon go all night. \\n\\nSince this happened, my friendship of five years with Amanda has been ruined. She insists we are okay, but Josh continues to talk badly about me. I have been avoiding them. AITA in this situation?',\n",
       " 'WIBTA for respecting my families cremation wishes?\\n\\n\\nMy family has always said I’m the reliable one. I’ve had four members express to me what they will want when they pass and they have the proper documentation to put me in charge of this.\\n\\nThey all want cremation and have provided me with what they want done with ashes. I fully intend to honor each one as I think fulfilling someone’s after death wishes is important.\\n\\nHowever, it has come to my attention that the other side of my family doesn’t believe in cremation. \\nI’ve been told that it’s wrong, they need to put the in the ground, ashes to ashes dust to dust, immoral/not Biblical, important to have somewhere to honor them, and just ugly and sad.\\n\\nIt’s been suggested that since they won’t know after they pass I can just bury them. I view this as very disrespectful to their memory. \\n\\nI guess since I wasn’t raised against cremation I don’t understand. I’ve tried to see the viewpoint but they just want to speed up with ashes to ashes dust to dust process. Eventually the two outcomes intersect and the end result is the same as bodies decompose in the ground.\\n\\nWIBTA for honoring their wishes to be cremated even though it would upset other living family?',\n",
       " 'WIBTA if I skip my MIL’s mother’s day picnic\\n\\n[deleted]',\n",
       " \"WIBTA if I refuse to go on vacations with my family?\\n\\nMy family (Parents + 2 brothers) always took me on vacations with them. This year I turned 18, so I am no longer forced to go on vacations with them but I still feel like I am...\\n\\nI like my family, but I genuinely hate going on vacations, and entire concept of vacations. I see it as huge inconvenience, waste of money... I have not enjoyed any vacations in the slightest. Although I hate school, I prefer going to school over going on vacations, you get the idea how much I hate going on them.\\n\\nIt's the worst period of time of the year for me, and I hate it. I constantly have to control myself not to explode on my family whenever we are on vacations. My parents go to places that I am completely, utterly uninterested in. Also they love doing stuff that I hate like going on long walks, which extremally tire me and put me in bad mood.\\n\\nMy family wants me to come with them because they want to spend time with me but I mentally, physically cannot stand it. Last summer I was almost on my breaking point. The house we rented was way too hot, had shit ventilation and I was basically going insane. \\n\\nJust to clarify my family knows I absolutely hate going on vacations, but they still want to take me to them. Also, I know that for some vacations may be a luxury, but for me  staying in comfort of my house is way better form of relaxation.\",\n",
       " 'WIBTA for not wanting to pay the gas for an extra 164 miles?\\n\\nMe (21m) and my partner (19f) have the arrangement that while she’s in college, I’m paying for her bills (car payment, food, insurance, etc) am I’m the asshole for saying, that I’m not paying for the gas so she can take her friend 84 miles one way for her friend to get a piercing? I was never asked, I was told this was happening and all I said was, I’m not paying the gas? Am i the asshole?',\n",
       " 'AITA for telling my girlfriend she needs to change her hair color?\\n\\nOn the fence with this one. My(26) GF(24) of 3 years is wonderful. She\\'s punky, outgoing, gorgeous and has a unique personal style. I love her to death. Every bit of her. And this is about her hair. Don\\'t get me wrong I have always loved her hair in every color and she used to dye it once every few weeks to new colors and such. When she takes care of it, its what they call \"Unicorn\" (?) hair. It\\'s rainbow essentially. It\\'s cool and her style and she\\'s like a living Ramona Flowers. \\n\\nNow onto the issue. She hasnt kept up with it in over a year. Her regular hair is brown and has grown a lot so she has two tone hair now *ontop* of what\\'s faded. The rest of her hair is swampy and green and orange and lots of faded colors showing through yellow hair and while I don\\'t know much about hair, it looks like it\\'s going to break off if she so much as brushes it the wrong way. It\\'s fluffy and just looks, for lack of a better term, bad. Honestly though it looks very bad. \\n\\nPersonally I dont truly care. It doesn\\'t bug me. I know she used to care a lot about her hair so idk when or why she got apathetic about it as she does keep up other personal care habits like getting her nails done monthly and getting new tattoos.\\n\\nThe issue is since dropping out of school this last semester she\\'s been looking for work and a few of the ideas she has had are working in makeup stores (? \\\\*only question cause Idk if thats what they\\'re officially called) to be a floor artist (?). She\\'s selt taught but has wanted to go into makeup for a while. She has an interview next week and has been asking about what to wear.. I gave her my input (business casual black clothing) and did comment on her hair at the time that she may want to either go back to her regular color or go get a haircut or new dye job to show off her style. Will note firstly said in a positive light since I know it can be a sensitive topic.  \\n\\nShe asked what I meant and it got into a whole thing with her keep badgering me to tell her what I meant and how I thouhgt of her hair. Way I see it, beauty industry is going to judge how their employees look regarding beauty (not like things you can\\'t change, I mean like hair, makeup, nails and stuff) and that her hair since being neglected for months needs to be refreshed cause it looks really unhealthy and dirty and she immediately shot me down and said I was being mysognitstic and trying to \\'change her\\' to my own preferences. She undoubtedly told her friends and now they all think I\\'m a controlling asshole too. \\n\\nAITA here',\n",
       " 'AITA for using my lay-in time to play games\\n\\nSaturday is my wife’s day to lay in. She’ll be in bed until 9-10.  In days gone by (before kids) she’d sleep until lunchtime.\\n\\nSunday is my lay-in day. Unlike my wife, I’m not a sleeper. If I’m awake, I get up. A lay-in for me is like 8. I’ve rarely ever been one to sleep late.\\n\\nInstead of sleeping, I’ll use that “me-time” to play games for a bit, with my reasoning being how I choose to use my time is mine.  My wife - jokingly - says if I’m up then I could spend that time more productively.\\n\\nTo be clear: this isn’t a genuine big deal, more like casual joking. At no point has this ever been an argument. What it does do is take the shine off of that cheeky game time, like it’s a low key jab at what I’m doing and I then start to feel like I don’t want to play anymore.\\n\\nAITA for using my lay-in time as a non-sleeper for non-sleeping activities?',\n",
       " 'AITA for telling my friend that she doesn’t have a real disability?\\n\\nFor context I am a disabled wheelchair user. I have multiple conditions that cause me issues with balance, sleep, pain & breathing. I’ve lived with these conditions my whole life, however my life is very full. I love to travel & adventure and do just as much as other people, but I rely heavily on aids.\\n\\nOne of my close friends has started to have hypos (low blood sugar) within the past year, she’s only had three, but she feels very unwell when they happen, she gets cold and very dizzy, she starts trembling and sweating etc… It’s scary for her which I understand and sympathise with.\\n\\nDiabetes and other conditions have been ruled out. Doctors are fairly confident that the hypos have been caused by her drinking habits, doctors have advised her to cut back and she’s lied to them saying she has. Last week she had another hypo as she told the doctors she’d cut back on drinking they have given a medication to help.\\n\\nToday she wrote a Facebook post announcing she is fighting a disability and that she needs support from her friends & family to get through it. I ignored the post finding it a little over dramatic, but there was no need to comment so I didn’t. Within an hour or so she messaged me asking why I didn’t comment on her post, I told her that I didn’t feel the need to as we’d spoken privately about her doctors appointment and the medication. \\n\\nMy friend asked if she could come over as she was feeling low so I said sure. She came over with his husband, we were having a nice evening playing some cards and chatting when she bought up the hypos again, I was listening and being supportive when she said “I know what it’s like to be disabled like you now” I just lost my crap. I told her that she has no idea what it’s like to be disabled because she doesn’t have a real disability. It turned into a huge argument until eventually she left with her husband. \\n\\nAfter she left I started to feel bad about what I said, I know she’s struggling with this, but to compare it to my disability felt really hurtful. \\n\\nAITA?\\n\\nETA - “Low blood sugar, also called hypoglycaemia or a \"hypo\", is where the level of sugar (glucose) in your blood drops too low.”\\n\\nEdit to fix autocorrect.\\n\\nETA 2 - There are a lot of comments that the disability my friend has is alcoholism, to be clear she doesn’t believe she has any alcohol dependency or issues, when she refers to herself as disabled she is referencing the hypoglycaemia as a disability. Also she has had extensive testing and no other symptoms than 3 hypoglycaemic episodes in 12 months. The doctors are very confident that if she reduces drinking the episodes will stop, I know this because I’ve been to the majority of her appointments with her.',\n",
       " 'AITA for asking my daughter to remove her earrings?\\n\\nMy (42F) daughter (21F) moved out of the house a little over a year ago but still comes over every Sunday for dinner. The week before last, I noticed that she had gotten her ears pierced but I didn’t say anything about it as I wasn’t quite sure what to say. \\n\\nI’ll be honest, I felt very disappointed as our religion says to not have any piercings at all and by going against that she is going against the rules of our house. \\n\\nSo this Sunday, before she came over for dinner I asked her if she could please remove her earrings. She said she couldn’t, the hole would grow over and she wouldn’t have the piercings any longer. I replied that I only wanted her to take them out for dinner, she could put them back in later. She said that she wouldn’t be able to put them back in if they were out for that long. So I decided to just invite her over anyways, and texted her to just come have dinner then. \\n\\nShe said she would be over in about 20 minutes but about a half hour later she texted and said she wasn’t really hungry anyways so she wasn’t going to come.\\nShe has been very distant for the past few days, answering my texts with one-word answers and not replying to me when I call. I do feel justified as she shouldn’t be going against our religion if she wants to come to the house but my friend says I shouldn’t alienate her as that might turn her all the way against her family. AITA?',\n",
       " 'AITA for smoking weed when kids are walking home from school?\\n\\nThrowaway account\\n\\nI (31F) own a home that’s around 500 feet down the road from an elementary school. I live in a state where recreational marijuana use is legal, and I like to smoke a joint after work because it helps with my anxiety and chronic pain. Some days the times when I’m outside smoking coincide with the school letting out. I smoke on my porch, which is about 25 feet from the sidewalk where parents and their kids pass by on their way home from school. \\n\\nEarlier today I was smoking around the time school ended. A woman walking towards the school stopped on the sidewalk in front of my house and said “Excuse me, you really shouldn’t be smoking out here because children are going to be walking here soon”. I responded that I was allowed to smoke on my own property. She seemed to get annoyed and repeated that the school kids were going to be walking by soon and also called me selfish for “endangering them”. She then continued walking towards the school. \\n\\nI finished smoking before any kids walked past my house, but there have been a few times in the past when I’ve still been outside smoking when kids are walking home. My porch is a good distance from the sidewalk, but the smoke doesn’t completely dissipate so now I’m wondering if I am an AH for smoking while kids are nearby.',\n",
       " 'AITA for refusing my mom access to Disney+?\\n\\nI (26F) changed the password for my Disney+ account and refuse to give it to my mom. I share it with a couple friends and I’m a huge Disney fan. \\n\\nA few years ago, I was diagnosed with Sensory Processing Disorder. It’s pretty much like it sounds, I have trouble processing sensory information, and get overstimulated to the point I can’t focus on anything for a while. Part of it is when watching a movie or a tv show, I need the subtitles on to help me follow the story and stay in tune to what’s going on. \\n\\nWhenever my mom watches tv, she says she doesn’t like subtitles on because it distracts her from the show. Granted whenever we are watching tv she is also playing games on her iPad and smoking and talking on the phone. \\n\\nLately, whenever she wants to watch something on Disney+, she uses my account and either turns off the subtitles herself or asks me to do it if we are  watching something together (which I feel is rude because I literally can’t understand what’s going on without them).  I’ve asked her countless times to put them back on when she’s done, or create her own profile so we can have our preferences set, yet she refuses to do either. \\n\\nFinally I’ve had enough and changed the password because I get annoyed every time I put on a movie or a show, I have to change the settings again on my own account. I pay for it I shouldn’t keep having to go back redo it. Now she’s throwing a tantrum and saying it’s not a big deal and she wanted to watch the rest of the Santa Clause show. I feel she doesn’t respect me and she doesn’t pay me to use it. AITA?',\n",
       " \"WIBTA if I asked for my daughter and best friend's son to be placed in different classrooms?\\n\\nMy daughter (R, 6) and my best friend's son (A, 6) have been through daycare and first year of school together. Next year they will move up to the next grade and there will be a reshuffling of kids into different classes. I know my BF has asked our kids be placed in the same class.\\n\\nR and A have grown up together and always been close. However, when BF separated from her partner a few years ago, A started acting out, and has been very rough towards R, but also dependent on her. He cries if he gets to school and she's not there. R complains about A, but still seems to be friends with him, mostly because he won't leave her alone. The teacher acknowledges what is happening but aside from suggesting that R plays with other friends, and seats them separately in the classroom, doesn't appear to intervene much. BF is in a bit of denial about the situation. She will force him to apologise when she observes the behaviour, but doesn't see that there is a bigger problem than each isolated incident.\\n\\nI would like to request they be placed in different classes for next year. My concern is that BF will raise a fuss, and may find out I have requested this, and will hate me for it. Would it be an AH move to do this without talking to her first? Should I mention it or hope that she doesn't find out?\",\n",
       " 'AITA for not helping my sister and telling her she herself ruined her life?\\n\\nMy (F26) sister Ella (F24) was a teen mom. My parents were devastated when she told them she is pregnant at 15. Icing on the cake was she did not know who the father is. \\n\\nMy parents did not have much money to support her and baby. Ella begged to keep the baby. After many arguments, our parents agreed to support her.  Mom had to quit her job to take care of the baby and all this drained their savings. Ella could not go to college and had to work at a restaurant to support her and her baby Claire.  \\n\\nDue to this, they could not support me. I worked really hard to get a partial scholarship and took out loans to cover the rest. I worked to support myself through school. Luckily I got a good job right after and lives independently. \\n\\nLast week Ella called me crying asking if she could move in with me. My parents were kicking her and Claire out because she got pregnant again and would not tell anyone who the father is. I told her no. \\n\\nShe kept begging saying how I had a job and a home. How she cannot support herself and her two kids on the restaurant job. She kept pushing through without listening to me.\\n\\nI told her I would not support her. I have my own loans to pay off and expenses to manage. That she should have thought of it before she made them. That she ruined her own life. \\n\\nShe called me a cold selfish b_word for not caring about them . \\n\\nAITA?',\n",
       " 'WIBTA for maintaining that its not fair I get the same amount as my cousin\\'s in my granddad\\'s Will?\\n\\nFor context, my granddad amended his Will after my (F31) dad died seven years ago. He did this in case he (my grandad) died before my grandmother because all the money would go to her and she doesn’t have a Will (and has been in a care facility with dementia since not long after my dad passed). So when my grandmother dies, because she doesn\\'t have a Will, the default inheritance laws would split the estate three ways—between my two uncles and then me as the only living child of my dad.\\n\\nWell, my granddad died in June and I got his Will in the mail and was... upset.\\n\\nMy granddad wanted to make sure all the grandkids were treated equally,  so his new Will splits 80% of the estate between my two uncles, then 15% between the grandkids, and the last 5% to the great grandkids. So…  97% of the estate is being split between my two uncles and their children/grandchildren.\\n\\nI understand that when the Will was written, the reality was my dad was dead and I would be get  significantly more than my cousins…. and my grandad didn\\'t feel like that was fair to my cousins. But I told my uncle on the phone that if he and his brother were in a car accident together next week, the Will still dictates that their shares be split between their living issue….  So all the cousins except for me would get a piece of that 80%.\\n\\nMy one uncle kept emphasizing to me that my granddad did it so that all the grandkids were treated equally. I don’t feel like it is, though, as I\\'m the only one singled out. I told him I was upset and it didn\\'t feel very fair, but he just kept saying my grandad wanted the grandkids to benefit the same.\\n\\nI am upset that my cousins are entitled to their father’s share but my dad isn’t represented at all and I told my uncle that. I can’t hide that I’m upset about this and it makes me feel like an asshole to bring up because I\\'m essentially arguing I\\'m entitled to more money than my cousins. I don\\'t want to ruin my relationships with my family so the Will isn\\'t something I\\'m willing to fight. But, I really can\\'t imagine ever feeling like this is fair and I\\'m a little worried I\\'ll resent my cousins and uncles.\\n\\nI did get some money when my dad died, but I don\\'t think that should count because its not like my uncles don\\'t plan on leaving their kids money when they die, I just got mine \"early\" because my dad died when I was 22 not 52 or 62. (Also what I got from my dad is not even in the same ballpark as what I would be getting if my dad was still represented in the Will.)\\n\\nWIBTA if I refuse to hide that I don\\'t think this is fair, like my uncle keeps insisting it is?\\n\\n&#x200B;\\n\\nEdit: thank you to everyone who has replied and shared their opinions but I think it\\'s in my best interest to stop reading and replying as I\\'m still grieving my granddad and this is bringing up some upsetting emotions regarding my dad\\'s death. I love my granddad and like I said, I don\\'t want to contest anything. I\\'m grateful to be included in the Will.',\n",
       " 'WIBTA for siding with my mother about a vacation? [29F/34M]\\n\\nFor some context, my husband grew up quite well off and has seen a lot of the world during his childhood and early adulthood. My family could barely even afford a day at the zoo once a year. \\n\\nMy mother 50F who is disabled and on benefits recently won £10k and wants to go on a once in a lifetime holiday with me and my sister next summer.\\n\\nMy husband is the sole earner as I am a student and disabled, so my future earning potential is also quite low. He makes around £120k per year, sometimes more with bonuses. We have just over £100k savings which we put around £2k into every month. \\n\\nThe vacations my mother wants to do is a cruise that will go to a few countries in Europe lasting 10 days, and is likely to cost around £2500 all inclusive.\\n\\nMy husband says this is too expensive and has asked that I talk her into doing something smaller and more affordable. I tried, but she is absolutely set on a cruise as it’s always been her dream. I understand that it’s a huge amount of money for one trip, but as I explained, this is the first and probably only time my mother will ever travel. It’s a once in a lifetime thing for her and she won’t go without me. I feel as though it’s worth it to go all out so my mother gets to see at least some of the world. \\n\\nHe is arguing that this will take up our entire vacation budget, and means he won’t get to travel next year. I don’t understand why we can’t just dip into our savings this one time and still do our usual trip together. We can afford it, it just seems as though he doesn’t want to spend the money.\\n\\nWIBTA for pressing this further and insisting I do what my mother wants?',\n",
       " \"WIBTA For reporting my roommate for academic misconduct?\\n\\nI am a student at a reasonably respected university. My roommate is also a student at this university and has been having a sexual relationship with their professor/supervisor (Roommate: otherwise single, early 20's. Professor: married with kids, 40's?).\\n\\nThe relationship between them has been going on for multiple months now. However I have just come to learn that several rules were bent for my roommate by the professor throughout their time studying under them... No penalties for late submissions, last minute extensions always granted etc.\\n\\nI have also come to learn that they have been awarded a scholarship worth over $100,000 USD to complete a PhD project with this professor as supervisor again. The scholarship includes a yearly living stipend, course fees paid for, and several trips overseas to 'exotic locations' covered to conduct their research at. Naturally, the professor would be going along for these trips too. I am reasonably confident my roommate did not get this scholarship fully of their own merit; The professor likely had a part in them getting it.\\n\\nI have reasonably concrete proof that something awry is going on.\\n\\nWIBTA for reporting this to the university and sharing the proof with the Uni.\\n\\nThe likely results of me reporting this, if believed and acted upon by the university are: my roommate having their masters degree stripped from them. The professor losing their job. The professors' family becoming aware of the affair happening. My roommate losing the scholarship and probably being unable to ever further their education again.\\n\\n&#x200B;\\n\\nThanking you in advance, Redditors.\\n\\n&#x200B;\\n\\n&#x200B;\\n\\nEdit for info:\\n\\nMy motivation for reporting this is that I see it as unjust. I very much dislike the fact that by having this relationship my roommate is getting an easier time of things... Academically that is. Probably when you account for having to be constantly walking on eggshells, I imagine it to be a lot worse.\\n\\nI have absolutely nothing to gain by reporting this, I am not a candidate for this scholarship. I study something completely different in another department.\\n\\nAs for the scholarship. There are only a certain number of them available it pains me that another candidate may have missed out on it because of this relationship.\",\n",
       " \"AITA for kicking my sisters friends daughter off my Crunchyroll account?\\n\\nSo for some context, I used to work in a fast food joint with my sister, Anne and her friend, Betty. Anne was manager and Betty was assistant manager. Working along side with them, I also became friends with Betty. Anne and Betty have been working together for about 14 years and they're inseparable.\\n\\nBetty told me about her daughter liking anime and having to go on websites to watch animes that weren't on Netflix, so I offered to let her use my Crunchyroll account, because I have premium. \\n\\nA few months later, Anne and I were arguing. It was just a simple argument. We're sisters, we're bound to argue. Anne, being pregnant and extremely hormonal overreacted about the whole thing and even went so far as to transfer me to another store. If we werent as low staffed, i wouldnt be surprised if she had fired me.\\n\\nAnyway, Betty saw that we were arguing and stopped talking to me and had nothing to do with me. Because of this, I changed my Crunchyroll password, so her daughter couldn't use it. Why should I give her something that I pay for when Betty won't have anything to do with me.\\n\\nBetty's daughter ended up getting upset that I changed the password and instead of Betty simply messaging me and asking about it, she blocked me on everything and bitched to my sister about it, who then went off at me for it. Betty has money, if it's that important to her daughter, she can fucking pay for it.\\n\\nSince then I've found a new job and quit.\\n\\nSo, am I the asshole?\",\n",
       " 'Repent Your Assholery as we say Goodbye to Awards on Reddit\\n\\nSo Reddit did a thing. No, [not the API thing](https://en.wikipedia.org/wiki/2023_Reddit_API_controversy), another thing. They\\'re officially \"[Evolving awarding on Reddit](https://www.reddit.com/r/modnews/comments/14ytp8b/evolving_awarding_on_reddit/).\" AKA: killing coins and awards on September 12th. What does that mean for you? Well, we’re lucky enough to have vibrant community awards, many of which are used by you to award your favorite posts and comments. Each time you’ve bequeathed a [Poop Knife, a Diamond in the Poo, a Golden Throne](https://www.reddit.com/r/AmItheAsshole/wiki/awardarchive), or any of our other glorious custom awards to another user, as well as indulging the display of a beautiful asshole-flavored icon, the mod team has been tithed some coins to bestow via special mod awards. With awards now disappearing, *including retroactively*, that means we have **several hundred** of these special awards to give away, and not much time left to do it.  \\n\\nWe were thinking about fun ways to make a difference, and when it came down to it, we realized that a good way to memorialize the loss of our awards and subreddit history, is to remember that [just like Reddit’s admins](https://www.reddit.com/r/AskHistorians/comments/14dd0ae/askhistorians_will_remain_in_limited_operation/), *we\\'re all the Asshole sometimes*. So, here is what we propose: \\n\\n**Tell us in the comments about a time** ***you*** **were the asshole. Keep it short, simple, and** [**non-violent**](https://www.reddit.com/r/AmItheAsshole/wiki/faq#wiki_what_types_of_posts_are_covered_by_rule_5.3F)**.** \\n\\nWhile supplies last, we’ll crown your glorious repentance with a special Golden Asshole award created by the amazing u/bvbblegvmbitch just for this sendoff award thread.\\n\\nUnfortunately, you won\\'t be able to see it on your comment after awards go away on September 12th. But hey, you will get a month of premium! And maybe you can [buy your avatar something nice](https://media0.giphy.com/media/19Ik3PuuqoFnhTTfEi/giphy.gif). ([/s](https://media3.giphy.com/media/xk5vxDNaIhvzpWQzdT/giphy.gif)) \\n\\n \\n\\n[Behold: The Prestigious Golden Asshole Award ](https://preview.redd.it/s6s39f2k94db1.png?width=128&format=png&auto=webp&s=fbb632b6ecb7ff591ef7412ecc881eb08dcff629)\\n\\nPS: Did you know that Reddit is [bringing back r/place](https://www.reddit.com/r/reddit/comments/154qutf/rplace_is_back_again/)? Wouldn’t it be fun to see our shiny new Golden Asshole award front and center, for the whole world to admire and enjoy? Food for thought. \\n\\n[Our r/place](https://new.reddit.com/r/place/?screenmode=fullscreen&cx=56&cy=-6&px=121)\\n\\nEdit: These are amazing! There are still several hundred more awards to bequeath, but there\\'s also several hundred reports to review. So, keep \\'em coming!!',\n",
       " 'AITA For wanting jewelry for my birthday from my SO?\\n\\nI (23F) have been dating my boyfriend (24M) for a little under a year and my birthday is coming up next month. When he asked what I want for my birthday, I mentioned that I would like some jewelry. He was a little taken back by it, because I think he is picturing some really expensive piece. \\n\\nI have received jewelry in the past from past significant others, so I do not feel like this is a big ask. Again, I am not asking for a $10,000 engagement ring, just something nice to wear. I just feel like at this age, getting someone you are dating a nice piece of jewelry, especially when it is something that is wanted, is not a big deal. We are coming up on our one year in November, and I am just wondering if that was too big of an ask for my birthday. AITA?',\n",
       " \"AITA: did not want bad coffee as a gift\\n\\nMy friend went to a foreign country outside of the United States in Europe and came back with gifts. \\nMy friend knew I like coffee so he got me coffee that I know I won't drink.  It's a dark roast and there's no roast by date, which means it's not fresh. \\n\\nI gently put it back in the bag and politely told them why I don't drink that kind of coffee. \\n\\nHim and his friends said I was being ungrateful and rude and that I shouldn't have thrown the coffee in the bag,  which I didn't.  \\n\\nTL/DR\\nAITA for not accepting a gift I wouldn't use?\",\n",
       " \"AITA for telling my cousin she is no longer allowed to hold my baby?\\n\\nFor context I (f22) had my baby when I was 20. She was born 2 months early and had major breathing issues when she was born. I had told everyone they are not to kiss my daughter but I don't care if they hold her. This cousin-we will call Carol- kept kissing my baby behind my back and she had caught a couple bugs from this. The final straw came when Carol was saying goodbye to everyone in the house and kissed my daughter while I was holding her in my arms. \\n\\n&#x200B;\\n\\nMe: I have told you not to kiss her. Multiple times. \\n\\nCarol: Well I just did. \\n\\n&#x200B;\\n\\nI spoke with my husband (M22) and we both agreed that she would no longer be allowed to hold her. Ever since when she comes around she ignores my daughter. \\n\\n\\nEdit: My husbands family and even some on my side think I'm just being an asshole and need to lighten up and every one has been harassing me to change my standing on this. \\n&#x200B;\\n\\n&#x200B;\\n\\nMore context: Carol is my husbands cousin. She has disagreed with us since we got engaged but we didn't care cause she stayed with a guy who kept cheating on her anyways.\",\n",
       " 'AITA for not giving my embryo to my ex husband and his wife?\\n\\nSo my ex husband and I got divorced six years ago. Before that we had gotten married pretty young and were trying for a baby. After a year of nothing we were convinced I was infertile. I then went to a fertility clinic and got tested and found out I was perfectly fine. It was confusing since male infertility wasn’t even in our thoughts. He got tested and that’s when we found out he has a zoospermia meaning he has no sperm. We were shocked and upset and it was hard on us. \\n\\nHe ended up getting a microTESE surgery where they take sperm directly from the penis and we ended up getting five sperms. The doctor said it was a miracle. Three were viable and made into embryos with my egg and we implanted two. One implanted and we had our son. Things were fine after that. We did end up separating and divorcing amicably. I had more kids with my husband. He got remarried recently.\\n\\n\\nHis wife is really kind and nice and gets along with our son well. I didn’t know if they had plans to adopt or have a donor or what to have a family together. I thought my ex was clear on that he couldn’t have any more biological kids considering the test we had done was a one time thing typically. In December they invited me over for a dinner which I thought was nice. It was a catered five star meal, I was wondering why they were being so kind, thought maybe because of the holidays coming up. Turns out they were planning to ask me if I could “adopt” over the embryo we have to them as they desperately want to have a biological child together. \\n\\n\\nI explained that I didn’t feel comfortable having another biological child with my ex husband considering I’m remarried. Also I wouldn’t feel ok with MY biological child being inserted into her and having her be pregnant and birth the baby. I don’t feel a connection to an embryo but I do my living breathing newborn. I just can’t imagine that dynamic. They said that it’s not just mine but also my husbands and it’s his only chance to have another biological child and he deserves to have the chance to experience a pregnant with his wife again. I told them I understand but that I was standing firm in my no. They both cried and I left. I told my husband and he agrees with me and says they should adopt or use a donor or even adopt another embryo someone has up for adoption. \\n\\n\\nI thought the matter was settled but turns out it’s not. They told mutual people we both know who are now in my business messaging and calling me wanting to tell me their two cents on what I should do. Most are telling me I would be a savior to help them have a baby and that it’s not just mine and that if it was the opposite way with me being infertile and us having one shared embryo left that I would want to use it. It’s making me feel guilty so many people are telling me I’m being selfish or immature. What should I do?',\n",
       " 'WIBTA if I reported someone for disclosing confidential information that wasn’t suppose to be released?\\n\\nLong story short, my (26f) bf (30m) is in the hospital and has been there for over a week. He and I both told the doctor and nurse that something specific can’t be discussed with his mom. We asked for it to be put in his chart. They assured me it wouldn’t be discussed with her. A few days ago I reminded them again. The nurses switch every day and he’s had about 8 different nurses on his team. Yesterday his mom texted me questioning me about the information one of the nurses spoke to her about. I’m guessing it wasn’t communicated to one of them and they told his mom this confidential information. We’re not sure which specific nurse it was, just that it was one of the nurses. \\n\\nWe’re upset this information, that was suppose to be confidential, was released even though we reminded the staff several times not to discuss it with his mom, so I was considering reporting it to the doctor or social worker for that unit, but mistakes happen and all the nurses were nice so I don’t want anyone to get in trouble.. WIBTA if I reported this incident?',\n",
       " 'AITA for telling my SIL it’s suspicious that her inborn has green eyes while her and my brother has hazel eyes?\\n\\nMy 20G I’m autistic so i don’t get social clues that easily also i’m majoring in biology.\\n\\nYesterday we had a family gathering after mu brother got his first inborn and everyone seemed happy and giving their congratulations.\\n\\n\\n\\nWhen i saw the baby and his green eyes i couldn’t hold the thought about how can he have a green eyes while his parents has hazel-brownish eyes.\\n\\n\\nAnd i told my SIL it’s abit suspicious that her inborn has green eyes while hers and my brother has hazel eyes and she said that she asked the doctor and he said that it’s normal for the inborn to have a lighter eyes and it will get darker as he grows.\\n\\n\\nI said that’s weird because as far as I remember from my biology classes that happens when one of the parents has lighter and the other darker eyes.\\n\\n\\nAnd i asked her if she’s sure that nothing happened after her nightshift job ( her work time alternate each month) \\n\\nShe suddenly said she doesn’t feel well and i want to sleep and asked us if we could leave\\n\\n\\nAnd then i left with my mom and she called me AH for hurting her feelings and i have no degree in medicine and their doctor knows better than me.',\n",
       " \"AITA for wanting my nan to bring a baby gate to Christmas for her dog\\n\\nMy fiancée (f24) and I (m23) are hosting Christmas at our place this year for my parents and grandparents. \\n\\nWe have a little cat (about 1.5 years old) and my nan has a Cockerpoo. We have told nan that she can bring the dog to Christmas so he isn't left alone all day and we are going to do some trial runs prior to Christmas to see how he gets on with my cat who is slightly timid. My nan keeps insisting that he is good with cats but we feel that she doesn't really take into consideration that my cat may not be too receptive to her dog. \\n\\nI asked her if she still had her old baby gate from when she first got him and if so whether she could bring it with her on Christmas day so that her dog could roam free in our open plan living/kitchen area (where we will be spending the day) rather than the dog being kept on the lead all day. The idea was that my cat then has the rest of the house where she can rest if she doesn't want to be around the dog. We feel that it is her house and should feel comfortable. My nan feels that it is unfair on her dog that I want to keep him in the living area and said that if her dog isn't going to feel welcome then she might not come. \\n\\nWe feel that we are welcoming him but we are not willing to compromise my cat's comfort over the dog having more room for an afternoon. I don't want my cat to feel uncomfortable in her own house. I want it to be that it is my cats prerogative whether she comes into the living area to socialise or not and that she has a place to escape to if she doesn't want to. I feel that my nan is being a bit ungrateful that we are cooking her a massive meal and letting her bring the dog to our house and I don't want to have to feel like her dog is priority\\n\\nSo AITA?\",\n",
       " \"WIBTA for reporting a noise complaint against my upstairs neighbors\\n\\nI (24m) live below this couple that has two dogs who are constantly running around. I can already hear their every footstep, but when their dogs are running amok for whatever reason, it sounds like they're holding an insane tap-dancing class. It's not a real problem at night, but during the day when I'm trying to do work or relax, it gets extremely irritating. \\n\\nI checked the leasing agreement and everything and there doesn't seem to be any policy against noisiness. Also, I don't know how I would even approach my leasing agent about this. My lease is up next May. Should I just wait it out or should I say something to the leasing agent?\",\n",
       " 'AITA: for stealing a four year olds turtle?\\n\\n(throwaway account) \\ni (23 F) have had pet turtles for as long as i can remember. our family raised them since i was around 6 and now we have generations of turtles. 4 years ago 3 new turtles were born, which i had named fred, george and ginny. \\n\\nat a family gathering around 2 weeks ago, we had all my aunts and uncles over, our cousins and their kids. \\none of the kids (4 M) mentioned that he really liked animals. so i was introducing him to my cat, dog and lastly to fred, george and ginny. \\nas i was introducing him to the turtles, his mom (my cousin) mentioned that he also had three turtles that he brutally murdered by leaving them in a drawer and forgetting about them for days. i awkwardly laughed until my dad came in and saw how mesmerized the little murderer was with the turtles and decided to yank ginny out of her peaceful habitat and into the hands of the murderer. \\n\\ni had tried to give him looks signaling to him not to do it but the murderer was so happy and his parents kept thanking my dad, so i was put in a tight spot. as they were leaving i saw ginny in a small ass jar, in the murderous and unforgiving hands of the child. \\n\\naround a week later we had another family gathering this time at the little murders’ familys house. \\ni saw poor little ginny in the same ass jar when i went to grab a glass of water from the kitchen🫙 the jar looked like it hadn’t been cleaned since ginny was kidnapped. \\nat the end of the gathering i decided it was go time. i stuffed the jar in my bag (it was THAT small, but for context ginny is also small, but it still was too small and she had no room to move) and shortly we went back home. \\n\\n2 days later, my dad gets a call from my cousin, explaining to us that her (murderous) son had been crying non stop looking for his turtle and asking if we had seen her, low key implying that we had taken her back. she said it in an very accusatory tone. \\nmy dad was chill at first but her perseverance progressively made him angrier and more defensive not knowing that i in fact did take ginny back. \\nit blew out of proportion and now my family and my cousin are not on speaking terms. it got so bad to the point that even her mom (my aunt aka my dads sister) isn’t even talking to her own brother. \\n( to be fair , i didnt think it would be that deep )\\n\\nwas my turtle worth destroying family connections?\\nam i the asshole for stealing a four year olds turtle? \\nthank you',\n",
       " \"AITA for throwing away my gf's foie gras?\\n\\nI'm (F23) American but my gf (F26) is French, we live in America.\\nI noticed that my gf had gotten some foie gras, which in my opinion is completely barbaric and should be illegal. I brought up to me gf that she shouldn't eat it because of the cruelty of foie gras production, but she told me that it was hypocritical of me to tell her that because it's not any different to eating meat (which is totally insane, I agree that animals farmed for meat usually aren't treated too well, but it's nothing like sticking a tube down a duck's throat and force feeding them) and that foie gras is part of her French culture so I shouldn't judge. I didn't want to start a big fight or anything so I didn't press the issue any further. \\n\\nA few hours later I remembered about the foie gras and thought about how horrible it is, and I don't want my gf to eat something that's made by literally torturing animals, so I decided to throw it away. When she noticed it was gone she got really upset at me and said she was excited to eat it and it cost a lot of money, now I feel kind of bad.\",\n",
       " \"AITA for demanding that my husband pays half of the takeaway food we order?\\n\\nMy husband (40M) and I (35F) have very different jobs. Basically, I make double than what he does and he argues that I should pay for takeaway food, especially because I am the wife and it is my role to cook. Therefore, if I cannot cook, then I should make up for it by paying for takeaways, since he already shares the split bill for food groceries (and rent). To give you a little bit of context, I have just taken on a new role at the start of this month, as a head of department, with 6 new members of staff and a lot of loose ends to tie from previous leadership. We both wake up at 4.30am and while he gets home at around 3.30 pm, I find myself arriving around 5.30pm on a light day. \\n\\nHis job involves food processing and while it is a laborious process, when he leaves his workplace, that’s the end of the day for him, whereas I come home and continue working from home (including weekends) until around 9pm, when I just pass out as I am too tired. For him, home time means 90% being on his phone/laptop watching videos and playing games, making coffees and smoking his cigarettes. I am not going to lie and say he never helps – he does clean the bathroom and hoovers occasionally (once a month) and does the dishes (not without complaining though).\\n\\nNow it has come to the point where a few months ago, while he had one too many drinks, he told everyone at the table that he was ‘investing all his money in my a*s’. This is when I started downloading every single receipt for grocery, phone bills, rent, Uber drives, takeaways, holiday accommodations, plane tickets, etc. all paid by me. His argument is that some of those trips were things that I wanted to do or see (which is why I never reproached anything to him); however, the fishing trip that he wanted so much also came out of my own pocket and I never asked him a dime for it.\\n\\nLast month, as we were mostly on holiday, he only contributed with around $200 towards monthly expenses with rent, food and bills, which again, I did not complain about, as I knew that he wasn’t paid for most of that month. But now, once he is working, he is refusing to give me anything that is beyond rent, bills and groceries, stating that I am the woman of the house and it is my job to do the cooking. I told him that I am spread thin these days until everything is more streamlined with everything at work, and that maybe he could cook every now and then or heat some ready-made food (microwave or oven), but he asked me what was the point of him getting married if he was going to do the cooking himself?\\n\\nSo, AITA for wanting the bills to be shared equally, if both of us are eating? Also, not one single time when I asked him about ordering, did he mention the fact that I would have to pay for all of it. In certain instances, he was even the one asking me to order food.\\n\\nEDIT: Having read the post that was shared here earlier, I noticed a few differences though. They were both going 50-50 for everything, including holidays, plane tickets, etc. I paid this summer alone around $3000 of my own money, and he didn't contribute with anything - I didn't even ask him to. Also, 90% of the clothes and shoes he has, I buy them for him, which I don't think was the situation where the wife had to max out her credit cards. I only pointed out the half split when he started keeping the money to himself, rather than contributing to shared things (only because I thought I was being taken advantage of). Whenever he has some money, he will spend it on some fishing gear (which he already has plenty of) or other gadgets. I, on the other hand, put money into a savings account which will go towards a house for us, whenever there will be enough for a deposit. I am not trying to play the victim card, but rather to understand if it should be me paying for the takeaways to compensate for the fact that I don't have time to cook.\\n\\nEdit #2: For those wondering why we have separate finances, it is because whenever he had access to some money, he just spent it on boilies, twisters, baits,etc. (Trust issues - red flags - I know). Also, for those wondering why I am still with him or what I get out of this marriage, it's simple - I love him. I suggested counselling, but he laughed in my face, saying I'm crazy and he doesn't need someone else to tell him what to do, when he already knows what he wants. I will suggest the 1/3-2/3 split for all shared bills though. Not sure what to do about holidays and other expenses though... I feel that he will still expect me to pay for those, so we'll need to sit down and have a long conversation about expectations.\\n\\nEdit#3 - and hopefully the last one. Having spoken to him, we decided that moving forward, he will pay 1/3 of everything shared and I would pay the rest, but he will have to cook around three times a week during the week (I cook during weekends anyway). As for the rest, I think he is reconsidering his views about gender roles, as I've shown him what everyone has been saying here. Thank you kindly, especially to those who took their time to give me suggestions and say something helpful.\",\n",
       " 'AITA for not wanting to tell my husband what I discuss in therapy?\\n\\nI just started therapy and it’s been really good so far. It’s only been a handful of sessions. Yesterday, after my appointment, my husband demanded to know if I had discussed him or our marriage to the therapist. He wanted to know what I had told him. \\n\\nI became really upset. This was suppose to be my time to get help and I don’t want to feel he is trying to control this too.  Yes, he is a big reason I am going to therapy and he knows it. He also knows once I eventually start talking about him and our marriage, it may destroy us. \\n\\nIt feels like he took this one bright spot in my life and is trying to manipulate it to suit him. \\n\\nAnd no, I didn’t tell him anything. First, nothing to tell yet and second this isn’t about him.',\n",
       " 'AITA Boyfriend wants to flip the mattress because his side has sunken in, I don\\'t want to because my side hasn\\'t sunken in\\n\\nMy boyfriend weighs more than me (80-90 lbs by his guestimation, but he hasn\\'t weighed himself in forever[his words])  He has a very physically demanding job and has a lot of muscle.\\n\\nHis side of the mattress (a king size) is sagging and he wants to flip the mattress so he can have my side, the side that isn\\'t sagging.\\n\\nThe mattress was a gift from my parents to me for Christmas last year (the mattress is less than a year old)\\n\\nI don\\'t want to flip it because \\n\\na) It\\'s been less than a year since we\\'ve had it\\n\\nb) I don\\'t want to sleep on the sagging side and have my non-sagging side ruined\\n\\nThe mattress is the type where it\\'s supposed to have the top on top throughout the life of the mattress so to flip it we would be moving the end where our feet are to where our heads currently are.\\n\\nHe suggested we post here and see what the general consensus is, and we\\'ll check back in a few hours because we don\\'t want this to be a big thing\\n\\n**Edit:  We decided to take a shot every time someone suggested we break up over this minor issue and we\\'re currently at 3.**\\n\\nOne person said I should break up with him because he\\'s selfish for wanting me to be uncomfortable while I sleep because of a problem he created, one person said he should break up with me because I don\\'t want him to be comfortable while he sleeps, another person said I should just change my boyfriend for a different one\\n\\nAnyways after doing a little research, we saw we\\'re supposed to flip the mattress once every few months to maintain the health of the mattress\\n\\nI grew up being told to flip a mattress once a year, not sure if this changed with the improvements on mattresses, or if it\\'s just new info science decided.  Or maybe I was just taught wrong ¯\\\\\\\\\\\\_(ツ)_/¯\\n\\nThe mattress was an \"as is\" sale from Ikea, it was still in the plastic but because it was \"as is\" it can\\'t be returned or exchanged for any reason.  My parents got a significant deal on it because of this and the bf and I were both super excited for it because it would have otherwise been out of their price range.  \\n\\nI did research on the firmness because I worry about that kind of thing, I did ask bf for his opinion and he was present for this research but he said whatever I chose he would be fine with because he didn\\'t care about soft vs firm.\\n\\nWe will be flipping it for now, and if I notice a significant difference we will flip it back and look into getting a mattress topper or some other solution for the problem\\n\\nThank you everyone for your input!',\n",
       " \"AITA for throwing out my boyfriend's medication\\n\\nNeither my boyfriend (25M) or I (25F) are medical professionals or in anything related to healthcare. He found an old, unfinished bottle of antibiotics which were prescribed to him by his doctor a few months ago. He is no longer sick- it was not a very serious illness and he recovered fine. He does not currently have symptoms of any other illness. Without consulting his doctor, he decided that it would be a good idea to just finish taking the rest of the antibiotics now because why not, it'll be preventative of other illness.  \\n\\n\\nI think this is stupid. Based on what I've read/heard about antibiotics best practice, you should always finish your full prescription even if you start to feel better within the prescribed timeline. The reason for this, as I understand, is because while you might feel better you might still have some lingering stuff going on. Not doing so is bad because it can allow the disease to grow resistant to the antibiotics. \\n\\nSo to me, my boyfriend has already committed one error by not finishing these in the first place. And now he is just making it worse by taking antibiotics he has 0 need for now.\\n\\nHe insists he should take them. A day or two after we argued about whether he should finish the antibiotics or not-  I saw them in the bathroom. I threw them out since I think he's just misusing medicine at this point and only harm will come of it. He was angry when he discovered the antibiotics were missing.\\n\\nI think I might be TA because it's not my medication, it's his and it is probably not actually a big deal. One human being an idiot about medication will not create the next superbug, so throwing it out was maybe an overstep on my part.  \\nAITA for throwing out his medication?\",\n",
       " \"WIBTA if I report my work collegue?\\n\\nHi all, second time poster, helped me the 1st time, figured why not try it again. Also, English is not my first language.\\n\\nSo, I (27F) work in the male dominated industry, the company I work for has a lot of extra activities for employees, like sports. \\n\\nI was lucky to work from home for the past year since I have kinda bad anxiety around people I don't know and I'm absolutely terrified of being touched by strangers (like nervous stomach type), but I really love playing sports so I'm regular in the gym and on some of the sports activities company offers. Also, worth of mentioning that some of my good friends work in the same company and attend same events and activities and I'm absolutely sticking with them.\\n\\nThe issue starts where some of the colleagues started contacting me through the company channels in the work time, usually asking me about which sports I played and where (I figured that they're just making friends since we're colleagues after all and I WFH), but I was so wrong since some of those colleagues started writing semi-sexual messages at first and I was giving them the benefit of the doubt since they're married with small kids or engaged so I mostly ignored them or stated that their behavior is disgusting (not US, so the culture is very familly oriented). Even my friends and I condemned his sexual comments multiple times during the activities, especially because he's like 10-15 years older then us.\\n\\nSo, during one of the games, that colleague had a medical issue and since I usually bring the first aid with me and know how to treat wounds, I ran up to him to try and help him (would do that to anyone). During that time he made few sexual comments and connotations which made me disgusted and friends and I called him out for that.\\n\\nMain issue is that a colleague sent a mail to all of the employees praising me for helping him during the sports game. If I may say that email was full of sexual conotations and it made me disgusted to the core, concerning the nature of the messages I received from that person and his previos behavior. I'm not sure what triggered him to behave that way or to do so, but he went out of his way to do this in front of the whole company. Even my friends reached out to point out how sly and sexual it was. I spent the rest of the day crying and deeply disturbed. So WIBTA if I report him to the HR? This is not his first offense so he may be fired, he has a small child and i think his wife is SAHM, so I'm doubting myself a lot.\",\n",
       " 'AITA for refusing to return a rehomed cat I adopted?\\n\\nHello Reddit.\\n\\nFive months ago I (27f) took in a cat, Mina (5f). Mina belonged to my younger sisters friend, who I’ll call H, who was moving to another city/state with her boyfriend. They weren’t able to take Mina with them, and H needed to rehome Mina.\\n\\nI have a cat, Atlas (7m) who is very chill so I offered to take in Mina. H was very grateful, and Mina was very anxious when I first got her, but she’s since come out of her shell and bonded with both me, Atlas, and my girlfriend. She’s turned into a lap kitty and is gradually becoming more social (she used to hide from guests/strangers when we had people over).\\n\\nH recently announced she and her BF have broken up and she’s moved back to town. She’s currently living with her mom while she looks for an apartment. H contacted me and asked for Mina back since it’s “been only a few months.”\\n\\nI told her no, since everyone has grown attached to her and invested a lot of time and money into her transition into our lives. To me, “rehomed” means “up for adoption;” there’s no changing your mind in 5 months. Mina now sleeps in bed with us and we’ve been trying to harness train her to go on walks with Atlas. We’ve also taken her to our vet, bought new water bowls, cat beds, more cat trees etc for her. And if anyone has introduced two adult cats to each other you *know* how difficult it can be. It took two months before Mina and Atlas could be in the same room for extended periods, but now they’ll sleep near each other and groom one another.\\n\\nH was obviously not happy with my response. She said she had Mina for years while we only had her a couple months, and that she’ll pay me back/buy all the stuff we got for Mina. I told her it’s not just about the cost, but also our attachment to her and vice versa. I don’t think it would be fair to put Mina through another stressful transition right after she got used to her new home/family. (We’re not a long-term boarding facility!)\\n\\nH is angry and has even vaugely insinuated going court, which I 100% do not believe she can/will do. But she’s also been talking s*** to my sister, who is now also upset with me and is giving me the silent treatment, and I’m now the bad guy to them and who knows how many other people H has told.\\n\\nI won’t be giving Mina back; but I’m starting to feel like an ahole and “cat thief” as H has said.\\n\\nEDIT: thanks everyone for the kind words! It’s made me feel a lot better. And no, there was no agreement that H could take Mina back; this was strictly a rehoming situation, not a foster.\\n\\nJust to clear up some confusion I’ve seen in the comments:\\nMina = Cat | \\nH = person (my sisters friend/Mina’s previous owner)',\n",
       " \"WIBTA if I tell my friend with down syndrome that her crush won't like her back?\\n\\nI (17F) have a friend (18F) who has down syndrome, let's call her noel. \\n\\nso noel has a crush on my other friend (18M) who i've been friends with for 13 years. let's call him ethan. he doesn't have down syndrome. noel has asked me to give her ethan's number multiple times but i have replied saying that i forgot his number, which is true.\\n\\nethan has expressed many times that he isn't interested in dating or going on a date with noel, but he also feels bad for her. i keep telling ethan that he shouldn't get himself into a relationship with her because it would end up bad on both him and noel's side.\\n\\nethan has told me that he is interested in a different girl. he doesn't know what to do and i'm soon going to ask him if i should tell noel that he doesn't want to date her.\\n\\nnoel has told ethan that she likes him and has started telling all of her friends. i don't want her to feel sad about getting rejected because i believe this is her first love interest. (side note, she still talks about how her dog passed away 6 years ago and remembers sad things for a really long time)\\n\\nso WIBTA?\",\n",
       " 'AITA because I didn’t want to split the bill evenly\\n\\nMy group of friends and I (7 girls in total) are spending the weekend together. Yesterday we went to a winery, and I am not a big fan of wine, while others in the group love it. Because of this, I only ordered 2 glasses of wine. Other girls in the group ordered multiple Grolsches (1L) and bottles of wine, wine flights and multiple glasses. We also shared some appetizers. Before the bill came I said that I didn’t want to pay for all of their wine since I only had my 2 glasses. When the bill came, my friend told everyone they owed $75. I reminded her again that I didn’t want to pay for all of the wine they ordered and she said in a condescending tone, “Oh, I didn’t know we were like that. It’s weird to not split the bill, but okay.” \\n\\nI’ll admit that I’m sensitive to rejection and shame, but the others at the table could tell how awkward this was and that she was truly annoyed. While they went to the outside bar, I stayed in the main building for a bit just to collect myself so that it wouldn’t turn into a scene. However, when we got home she brought it up again passively saying, “Yeah, since (my name) doesn’t want to pay the bill.” This is where I stood up for myself and asked why it bothered her so much that I didn’t want to pay for drinks that I didn’t even have and she basically said that she just thinks it’s weird to go out with a group and not split the bill evenly. She’s saying all of this in a tone that is clearly talking down to me. I told her that it’s fine that she feels that way, but it’s not fine to make me feel badly about it and to shame me in front of other people about it. She kept telling me that she thinks it’s weird and that I “do this all the time”, but we have gone out to eat 3 days in a row now where I had no problem splitting the bill evenly because everyone shared everything/most things those nights. She then asks another girl in the group “I think it’s weird, don’t you?” To which that girl said “yeah it is.” \\n\\nThis made me feel alienated and embarrassed and I started to get emotional. I know that I’m an emotional person, which I carry a lot of shame because I tend to be around people who are the complete opposite. I get that people have different opinions and etiquette, but I disagree with shaming people because you don’t agree with them. \\n\\nSome context; I grew up in a 4 person family living in a one bedroom apartment and on food stamps for a while. I also work in healthcare and make the least amount of money while all my friends have corporate jobs where they make much more than I do. \\n\\nSo, am I the asshole for speaking up about not wanting to pay for all of my friends’ wine at the winery when I only had 2 glasses?\\n\\nEDIT TO ADD INFO: The winery had it posted on their menu: “ONLY ONE CHECK PER TABLE”.',\n",
       " 'AITA for telling my boyfriend that he wouldn’t be the person I called if I had an emergency?\\n\\nI (28f) and my boyfriend (26m) have been together for 2 and a half years, living together for 2 years. A couple of days ago we got into argument because I told him that he wouldn’t be the person I called if I had an emergency. \\n\\n   A little background on why I said this. He used to be the person I called if I had an emergency but every single time I have called him he has let me down. I called him when I found out I needed surgery on my knee and asked if he could take me and pick me up. He told me that work was more important.  When I went into anaphylactic shock I called him and again work was more important and my boss and one of my coworkers left work to take me to the hospital and stayed with me the whole time. When my brother passed away I called him for emotional support and all he said was that sucks. Lastly this summer by back window on my car literally exploded when I was driving with my daughter, I called him and he said he didn’t know what I expected him to do and hung up the phone. I called my boss again who came and helped me. \\n\\n   When I told him this he said it was mean and hurtful and asked me how he isn’t there for me. I told him all the things I mentioned above. He then asked me how I’ve ever helped him when he had an emergency.  I brought up giving him a place to live when he almost became homeless, dropping everything when he got into a car accident and driving around to get him the parts he needed to fix his car, giving him my old car to drive after another car accident ( he also got into an accident in my old car), giving him my old iPhone when he dropped his into a lake and couldn’t afford to get a new one and giving him money when he doesn’t have enough to cover his bills. I’m also the one who pays for all the house hold needs like bills, food and anything else that’s needed. I also do 95% of the cleaning and all of the cooking. \\n\\n   After telling him all this he said that me not texting him in the morning is the same thing as him not showing up for me in emergency situations and that his job is more important that I am to him. We’ve barely talked since the fight and are sleeping in different beds. \\nSo AITA for telling him that he’s not the person I would call anymore if I need help?\\n\\nEdit or add: so this got more comments than I thought it would in a short amount of time. I thought I would maybe get like 10 max. I do have a skewed view on what a “good” relationship should be since my only other serious relationships where extremely abusive. So my view point for a long time was well if he’s not screaming at me and hitting me it’s not a bad relationship. \\n   Im leaving the country in about a week for a vacation and my plan is to have him full move out while I’m gone.  I don’t think after this I will try to be in another relationship for a while and work on building up my view of myself and being kinder to myself.\\n\\nEdit #2: a lot of people are asking why I stayed so long. It’s not like he’s Satan. I recently had to move out of my old home cuz the HOA was legit insane. He moved all the big stuff and boxes by himself to the new house. He fixed the roof when it had water damage. He does contribute just not enough. He also treats my daughter amazingly. None of our fights have ever been in front of her or anywhere that she can hear. He takes her fishing ( which I know to most wouldn’t seem like a lot but she loves fishing more than anything). He is just not emotionally or financially supportive to me which is big issue. I wish him literally all the best in life. I think he has a lot more growing to do than I do and we are creating an unhealthy cycle of feeding of each other and not getting what we need individually out of this relationship.',\n",
       " 'WIBTA for outing a social connection in a sexual situation?\\n\\nMy husband (32m) and I (29f) have recently opened our relationship. Long story short, we love, support, and trust, each other; but, we both want to see other men sexually. This is completely fine and not the problem. \\nHusband matched with an old friend of mine from High school. I haven’t seen or heard from them in years so we’re not friends anymore, it’s just been a natural disconnect. Friend doesn’t know the man he connected with is married to me, just that he’s in an open relationship. \\nI think my husband should tell Friend the social connection before they meet up, he disagrees. Wibta for outing this secret to Friend? Does Friend need to know given the purely sexual future encounter?',\n",
       " 'WIBTA if I didn\\'t help out my former friend after they \"canceled\" me?\\n\\nWhen I first started as a Creative, my friends and I started a shared universe for published media. This was a serious venture and we had raised cash for it. My best friend was part of this group. We shared everything.\\n\\nThen came a guy I\\'ll call the Pied Piper. He joined our space with a whole heap of sob stories that everyone else in the group ate up like it was the last dinner they\\'d ever have. Soon he was trying to change the project. Not tiny changes. It was an entire rebranding around the Pied Piper’s personal struggles, but in fictionalized form. He would be the hero, of course.\\n\\nI don\\'t know how everyone else bought what he was selling, but everyone loved him. Especially BFF.\\n\\nWhen I finally had enough and said I wasn\\'t comfortable with Pied Piper’s proposals -- it changed the entire tone of the media we were looking to release and alienate researched and targeted markets -- they all turned on me. Any criticism was now seen as hate toward the Pied Piper\\'s discriminated-against group. That was completely asinine as I used to be somewhat of an activist. Didn’t matter.\\n\\nMy “friends” turned on me in way I can only later describe like getting in a car accident: One second my life was fine with maybe some trouble ahead, and the next second the car (my life) was T-boned from the side and I was flying off a cliff.\\n\\nThe fall out was bad and my family’s hardware store were contacted by \"concerned anonymous people\" to tell them what kind of horrible Nazi I suddenly was. I know that was BFF’s doing.\\n\\nI cut ties completely with the group even though I was part of the legal Corp. Over the years I went pro on my own: But this has affected me greatly. I no longer consider myself an activist. I only work under pen names, sometimes of a different gender. I have no professional internet footprint. I require my publishers do not show my picture.\\n\\nI learned how quickly your own name can become a liability.\\n\\nFast forward to yesterday: I got an email from my old BFF. I guess she eventually moved in with the Pied Piper and started a relationship. Now he\\'s cheating on her and verbally/emotionally abusive, and she needs shelter + and a safe place, and funds to undo some changes she made to fit his lifestyle, which will be incredibly costly. It\\'s a train wreck.\\n\\nI’m torn. She was under the sway of a predator, but she also did her best to destroy me, and now she\\'s asking for help and money years later? WTF. Is she clueless or that desperate?\\n\\nBut… I have a dream career. I have two employees. I can\\'t risk everything I\\'ve built up. Maybe she\\'ll go back to the Pied Piper and decide I\\'m a bigot again. I dunno.\\n\\nIt feels so clear on paper that I shouldn\\'t reach back, but inside I\\'m still twisted up. Would I be the asshole if I was like, “Not my circus, not my monkeys”?',\n",
       " \"AITA? My guy's screen savers make me cringe.\\n\\nHi Reddit. Sorry for garbage formatting, on mobile, etc. A mild NSFW incoming.\\n\\nI have a smol situation. I (35f) have a bf(40m) who is a self-professed old man weeb. \\n\\nHe games all the time, and his computer setup is one of those massive, multi-screen warstations. Tbh is a really impressive setup, and the graphics are top-tier. He loves to bask in the glory that are his graphics cards.\\n\\nHis computer is right in the middle of the living room, and the first thing you see when you walk in the front door.\\n\\n\\nWhat is not top-tier is his choice in screensavers IMO. He really loves the animated ones, and his most-favorites are ULTRA MEGA LEWD.\\n\\nEX: one that comes to mind is a from-the-front upskirt of a popular Princess game character. Completely topless, but has a pair of underwear that look like they were painted on, and they are absolutely destroyed. It's animated so that her chest heaves, all in super high def. She is one of many.\\n\\nI find it weird to have the hyperse*ualized panting women sitting in the front room with me while I watch TV. I've tried explaining that these pictures make me uncomfortable. I don't even care if he has sexy images of women on his computer, as long as they are... tasteful? Semi-appropriate?\\n\\nHe says that he doesn't care, it's just what he likes, and that he doesn't think it's creepy or weird at all. \\n\\nAITA..?\",\n",
       " 'AITA for saying it’s my wife’s fault that my slacks didn’t get packed for my work trip?\\n\\nHi, first time poster. My wife (30F) and I (31M) have been married for about 7 years now. I decided to go on a last minute work trip which caused me to have to book flights, hotel, etc. late at night and then fly out the next day. I needed new work slacks for the trip since I’ve primarily been working from home in my current company, so we had to make a late night run to the local Walmart to get a few pairs. We also got some button up shirts. When we got home I had some stuff to finish up with the planning so I asked my wife to wash my new clothes so that my shirts weren’t so wrinkly. I handed her the shirts to wash separately and put the pants in the dirty laundry. \\n\\nWhile they washed she packed my suitcase and then added the shirts when they were done. When it came time to leave, I verified everything was packed by asking her if she packed my pants. She said yes.\\n\\nCue to late the next night when I arrive at my hotel and my slacks aren’t in there—only my brown khakis and gray khakis. I called her pretty upset asking where my slacks were. She got defensive and told me she thought she packed all my clothes (I had laid them out on the bed besides the stuff to be washed) and told me they should be in there. I made her check the laundry room to be sure and she looked around the whole house before finding them in our bedroom laundry basket unwashed. \\n\\nI repeated a few times how I was frustrated that she hadn’t packed them but had told me that she did. She said she didn’t realize by “pants” I meant my slacks and that she was busy trying to do other stuff and just had a memory of packing some pants with all the other things I had laid out. She also said it was unreasonable for me to be upset with her when they are my pants and she didn’t think she was expected to do a whole second load of laundry at midnight.\\n\\nIn the end she attempted to make me feel better by saying that it would be okay and my work would understand that sometimes things get a bit hectic with packing and traveling last minute (and I can buy more in the evening hopefully). I feel kind of bad cause I could tell she was frustrated with me for blaming her, but in my defense I did ask her if she had packed everything.\\n\\nEdit/Update: I accept that IATA and have apologized to my wife. She responded graciously and told me she knows a lot of it was just my stress from traveling and worrying about work. We are good now and I promised to do better in the future. Thanks to everyone who engaged with me civilly in the comments. I showed my wife the post and she wants to say that she is a little surprised at how angry everyone else was (she says she was frustrated but knew it’s not a pattern), especially some individual messages that some very angry people decided to send me.\\n\\nTL;DR my wife forgot to pack my slacks for a work trip and I was frustrated with her over the phone so we argued. AITA?',\n",
       " 'WIBTA for being white and wearing braids\\n\\nSo I (17f) have very curly hair and my aunt for years have been doing my hair in protective hairstyles (she’s a hairdresser who’s colored) I stopped allowing her to do my hair after being called racist in school. Ever since than my hairs health has decided so much. It’s no longer beautiful. I wanna help my hair. Would it be wrong of me to do braids like my aunt use to do?',\n",
       " 'AITA for not wanting to look like the ugly duckling any longer?\\n\\nI (20f) am not conventionally pretty. I know that. I have crooked teeth which I couldn\\'t afford to have fixed. I don\\'t have curves, and I\\'m severely flat chested. When I was in high school, I\\'ve already grown to accept that I\\'m not attractive. I felt how extremely unattractive I am when I was was walking with this pretty friend of mine and she\\'d always get approached for her number while I was pretty much ignored. I never wanted to text any of them anyway, but that was still a very clear sign that I am indeed unattractive. \\n\\nRecently (thanks to my love for Kpop), I\\'ve really been into make up. Obviously, I don\\'t have money to pay for expensive brands but I\\'ll make do of what I can afford in our local brands. I started using make up on a daily basis whenever I\\'d go to school and do my part-time job and for the first time in my life, I started getting compliments for my looks. Call me shallow, but it really boosted my confidence. It made it easier for me to make friends with other people.\\n\\nNow onto the situation, I was already getting ready for a relative\\'s birthday celebration and naturally, I wanted to look nice. It was the first time in my life that I wouldn\\'t look like the ugly duckling in our group photo with my cousins. I was excited!\\n\\nBut, my excitement was ruined when my mother made a comment while I was getting ready. There\\'s no accurate English translation to the word she said but basically, she asked me not to be \"too pretty\" or else my cousin Jenny will get insecure.\\n\\nBut here\\'s the thing, Jenny (21f) is conventionally pretty. She is so pretty, she even joined a pageant in her teens. But, I also knew how insecure she could get at times. She would often bad mouth a few of our other cousins to me just because they wear more expensive clothes than her. In a way, I know that my mother\\'s word wouldn\\'t be far from the truth since Jenny doesn\\'t really like it when someone else \"one upped\" her.\\n\\nI personally don\\'t care about what she would feel. Honestly, I just really don\\'t want to stand out in the picture for all the wrong reasons. But what really bothers me is how my mother is prioritizing my cousin\\'s insecurities over mine.\\n\\nAll my life, I\\'ve always been insecure of how I would look beside my cousins. I\\'ll always be the one who\\'s wearing old and unfashionable clothes while they all wear new and branded ones. I never said a thing about that since I don\\'t want my parents to feel bad about our socio-economic status. But, still, It really made me feel self conscious whenever I would sit next to them. \\n\\nNowadays, I don\\'t have to feel the same way again because I know how to carry myself by finding clothes from secondhand stores and of course by wearing (light and natural looking) make up. I now have the confidence to lbe next to them but apparently, my mother doesn\\'t like that.\\n\\nI didn\\'t end up attending my relative\\'s birthday because of it, but that\\'s not what this post is for.\\n\\nAita for not wanting to look like the ugly duckling any longer?',\n",
       " 'AITA for feeling weird about accepting an heirloom diamond that my fiancé gave to his first wife?\\n\\nMy fiancé was married before me and had a ring custom made for his first wife with a family diamond. When they divorced, he got the diamond back. Now that we are getting married he wants to use the same diamond in my ring, and I feel extremely uncomfortable. I understand it’s a family heirloom and I want to be excited and happy that he wants me to wear it. Thinking about the fact that it was his ex-wife’s first makes me feel odd. He thinks I’m being unreasonable. Am I the asshole?',\n",
       " 'AITA for refusing to change my wedding date for my sister\\'s surprise pregnancy?\\n\\nI\\'m finding myself in a bit of a family drama and I\\'m not sure if I\\'m the one at fault here.\\n\\nI\\'m a 26F, and I\\'ve been engaged to my partner (27M) for over a year. We\\'ve been meticulously planning our dream wedding, which is scheduled for later this year. It\\'s been stressful, but we\\'re both super excited.\\n\\nNow, onto the issue at hand. My younger sister \"Emily\" (24F) announced last week that she\\'s pregnant. It was a surprise, but our family is supportive and we\\'re all happy for her. The problem? Her due date is just a few days before my wedding.\\n\\nEmily asked me to move my wedding date so she could comfortably attend and enjoy the day. She fears she\\'ll either be heavily pregnant or just have given birth around my wedding date. I was shocked by her request. We\\'ve booked the venue, sent out invites, arranged catering and everything else. Plus, our wedding date has a special significance to us—it\\'s the anniversary of when we first met.\\n\\nI refused and told Emily that while I understand her concern, it\\'s not feasible to reschedule everything now. She didn\\'t take it well and said that I\\'m being selfish, prioritizing my wedding over her first child. My parents are trying to stay neutral, but I can tell they\\'re upset with the situation too.\\n\\nNow I\\'m getting the cold shoulder from Emily and some passive-aggressive comments from my relatives. I\\'m feeling guilty and second-guessing my decision, but also feel like I\\'m being asked to give up a lot here.\\n\\nSo, AITA for not changing my wedding date for my sister\\'s pregnancy?\\n\\nTL;DR: My sister announced her pregnancy and her due date is near my already planned wedding. She asked me to change the date, I refused. Now I\\'m being labeled as selfish. AITA?',\n",
       " 'AITA for referring to my husband as my biggest and strongest love in my wedding speech?\\n\\nI (25f) got married last week to my husband (25m) with whom I\\'ve been with since we were 18. We started off as friends but it grew into a beautiful partnership. He\\'s the most understanding and supportive person in my life and one of my biggest priorities as I am his.\\n\\nI also have this group of friends since high school, I\\'ll give fake names for the sake of the post. It\\'s Rania, Mary and Becky. Ever since I started dating my husband they\\'ve always tried to make our friendship vs my relationship into a competition on which is more important to me to which I always replied that I don\\'t like comparing and putting hierarchy on that stuff because each relationship serves a different purpose on my life. I adore my friends and they\\'ve been extremely supportive yet I\\'m not as close to them as I have been to my husband but still I think it\\'s wrong to go to their face and compare the love I have for each of them.\\n\\nOur families also have this concept of \"family always comes first\" and while our families do love each other, at some points they\\'d throw in their true perspective of how his family considers me an outsider and my family considers him an outsider and would guilt us into putting them over our partner. All in all people in our lives always tried to make our relationship an importance competition while we never put each other in that position.\\n\\nSo at our wedding reception during our speeches he called me his greatest love and I called him the most important person in my life and my greatest love. To which our families and *my* friends took great offence.\\n\\nWe\\'ve been bombarded with guilt tripping words from our families of how wrong it is for us to put each other first and consider e/o the most important person and \"tossing our families to the side\". And my friends said how harmful it is for me to lie for so long about not wanting to put hierarchy and compare the loves I have for friends/partner/family just to publicly announce how my husband is my greatest love. Maybe I am ta for putting that part in the speech because it hurt people around me and caused offense and controversy.',\n",
       " 'WIBTA if my engagement ring had my sister’s birthstone in it?\\n\\nMy partner (34M) and I (32F) have been together for 2.5 years and are planning on getting engaged soon. I don’t know when/where he’ll pop the question, but sometime in 2023. He’s been very upfront that he wants me to have as much input as possible on my engagement ring, and we’re working with a company that designs/makes custom rings. \\n\\nHere’s where my dilemma comes in: I’ve never wanted a diamond ring. (I understand the classic appeal, and diamonds are gorgeous, it’s just not for me!) Instead I want a sapphire ring. Blue is one of my favorite colors, and I have bright blue eyes. My partner also says that my eyes are what he noticed first about me and he regularly tells me how much he loves them. Whenever I imagine my wedding day, I’m wearing a sapphire ring. \\n\\nWhen we were visiting my family for the holidays, my mom asked about the ring, and I told her that we were still working on a design, but that it’d be a sapphire. My older sister (35F) overheard this and lost it. Sapphire is her birthstone, and throughout our childhoods, we always got color-coordinated stuff. Blue for her, red for me (garnet is my birthstone). Like if we got sweaters, mine would be red and hers would be blue. I’ve never really liked red, but that’s just the way it was.\\n\\nMy sister said that she couldn’t believe that I was considering a sapphire ring, when I knew it was HER birthstone. She told me I was pathetic and attention-seeking for getting a non-diamond ring, and that I should know that blue is her color. She said that everyone in the family will think it’s weird and inappropriate for my engagement ring to have her birthstone. \\n\\nFor some extra info, my sister doesn’t wear sapphire jewelry with any regularity and she got married four years ago. Her engagement ring and wedding band both have diamonds, so it’s not like I’m “stealing” sapphires or a ring idea from her. \\n\\nWIBTA for going with my original/dream ring, even if it pisses off my sister?\\n\\nTLDR: I want a sapphire engagement ring. Older sister says that because it’s her birthstone, I can’t.\\n\\nETA: Lots of people commenting/asking if my sister hates on other people having sapphire jewelry. Nope! Not that I know of. I think it’s just *my* ring that’s the problem. Also, I know that this is a minor issue and seemed like a no-brainer to me. My sister and I don’t have the best relationship, and her vehemence really got in my head a bit, hence my post.',\n",
       " \"AITA for bringing flowers to my aunt's grave even though it's forbidden?\\n\\nMy whole extended family on my Dad's side are Orthodox Jews. My Dad left Judaism and got married to my Mom and they became Jewish Christians. Almost his whole family went no contact because of that, except for my aunt. We talked a lot even though we lived far and one of the things we talked about when I got older was gardening. Gardenias were her favorite flowers and I'd always email her photos of the gardenia bushes outside my house. She was the only one from my Dad's side of the family who called when my Dad passed away. \\n\\nFor Orthodox Jews, they don't put up a tombstone for a year and then have an unveiling ceremony that the family attends. When my aunt died her children and other family basically forbade my brother and I from joining in mourning rituals and completely ignored us during the funeral and prayer services. They wouldn't even count my brother for the prayer quorom and chose to use a random person they called instead. \\n\\nFor the unveiling, I decided to bring some cuttings from my gardenia bushes to lay on the grave and do a small prayer after the ceremony. When I showed up with the flowers no one said anything, and after the ceremony was done and everyone drifted away I put them over the grave and said a small prayer for her. Over comes my uncle who has said maybe 20 words to me my whole life and he picks them up and tosses them and starts shooing me away from the grave. I went to pick them up and suddenly both of his sons were there and trying to intimidate me. \\n\\nMy brother got involved and then suddenly a person I don't know (I think she's my cousin) was physically pushing me away and telling me to leave. I got my flowers which were ruined and my brother and I left. The problem is that now my brother is mad at me and says that I was purposefully shit stirring and being disrespectful. I don't see why I can't honor my aunt in a way that's meaningful to me, in a way that's special for us and the specific relationship we had.\\n\\nI want to go back to the grave before we leave and lay some flowers and mourn in our own way, and my brother says this is disrespectful and won't drive me. I don't drive, so he'd be my only ride. AITA?\",\n",
       " 'AITA for speaking a language just to shut my sister’s bf up?\\n\\nI’m (22M) into learning languages, it is a hobby I have, I can speak four languages by now and learning a fifth. So recently some friends and family gathered to watch a Football match at the World Cup, Spain vs Germany, my sister’s bf and my bf also joined to watch the match.\\n\\nAs the match was getting more interesting, we started talking about some players from both countries and I mentioned some like: Mario Götze, Thomas Müller, Leon Goretza, Manuel Neuer, Lukas Klostermann etc. At this point I was speaking Spanish and wasn’t pronouncing the names “correctly” as if it was German because that’s nonsense, I mean I was speaking Spanish, and pronouncing names in another languages is just weird, so I just pronounce it as a Spanish speaking person would do it and in a way that it makes sense in the language since some German phonetics don’t exist In Spanish. I do this with other languages too, If I’m speaking French and I have to say an English name or place I say it as it makes sense in the language even if I know the “correct” way. My favourite is when I have to say “Wocestershire sauce” in a foreign language, it sounds funny.\\n\\nSo as I stated above, my sister’s BF was there too and he started “correcting me” to show me how to pronounce the player’s names  correctly (he got them all wrong), I didn’t say anything the first few times because I was just enjoying the match, but then he became so annoying correcting me at every German word I said. He didn’t know I speak German, I speak 4 languages but I don’t usually go telling everyone, so as I was tired of his behavior, I told him:\\n\\n*Ich hatte keine Ahnung dass Du Deutsch sprichst, Velleicht Können Wir einmal üben damit Du mir helfen Kannst, meine Aussprache zu verbessen.* Which means: *I had no idea you speak German, maybe we get to practice once so you help me improve my pronunciation.* I know my German isn’t perfect but I certainly know way more than him.\\n\\nHe didn’t get a word because he doesn’t speak the language and my sister looked at me pissed, so our other friends started laughing at him and he seemed really pissed, my BF (who was also tired of his attitude and comes from Austria btw) started speaking German to me and we exchanged some words. The match ended and everyone left, he also left but my sister was mad at me for humiliating him and she told me that he was mad because I should’ve told him I speak German so he wouldn’t have looked like a loser.\\n\\nI swear, I didn’t do it to humiliate him, I was just tired of his attitude and wanted him to stop and I thought it was the only way (it worked) but I’m also refusing to apologise as my sister wants me to because he is the one who started this was him.',\n",
       " 'AITA for changing my adoptive son\\'s name and telling off his birth family\\n\\n*names are changed for anonymity of course*\\nMy husband and I  took in his cousin Sues newborn due to her and her partner Johns addiction issues. \\nIts not a decision I regret. This beautiful boy is the light of my life but it was a major life change for us. Especially me as I was the one who gave up my job and my social life to be basically locked up isolated during covid with a baby. It was supposed to be temporary while they went to rehab. They never went to rehab nor complied with any of the safety plan set up by  CPS. From 2 months on they have not seen the baby nor supported him in any way. Johns family has not been involved either as they also refused to abide by the safetyplan or any of the CPS recommendations.\\nNow 2 years later my husband and I have full legal custody and CPS has closed the file. We have put forth a petition to change the baby\\'s name. At birth john and sue named the boy Steven to \"honor\" John\\'s brother who died of an overdose (while partying with John and Sue who was PREGNANT and getting high) \\nMy husband and I have never ever referred to the baby by that name. We always called him Davey (his middle name) after Sue and my husband\\'s grandfather.\\nSo instead of being Steven David Jones we are changing it to David Owen Smith. Owen is after my father who absolutely adores him and accepted him as grandson from day one.\\nSo here\\'s where I might have ventured to asshole. My husband thinks I went too far but I feel they pushed me to the end.\\nJohn\\'s family found out and blew up my social media and messaging.(not husbands just mine) Telling me that I have no right to change the name or honour my father because I\\'m nothing more than a babysitter and I\\'m not the real mother. I was called a babythief amongst more vile accusations. So I snapped and  responded back that MY son\\'s names will honour good men that he could proudly emulate not like their junkie relative who was a shitstain on the world defrauding the govt for benefits and stealing from anyone he could and contributed nothing to life or society and his only accomplishment is that he odeed before he went to prison. Harsh.yes. but I still don\\'t feel like I\\'m the asshole.\\n\\n*edit for clarity*\\n\\nI did not change the name on my own. My husband was very involved in the decision as were our 2  daughters who helped name their baby brother. The name reflects our cohesion as a family We are ALL Smith\\'s. And my girls came up with the idea of using Pippys name because it shows he wasn\\'t just adopted by my husband and I but by an entire family',\n",
       " 'AITA for calling my stepmother my favorite parent?\\n\\n[removed]',\n",
       " 'WIBTA if I told my uncle he has a daughter that he doesn\\'t know about?\\n\\nFirst things first, my family all gets along with each other, we all talk and communicate, and there is no bad blood.\\n\\nSo I (33m) sent my DNA into [ancestry.com](https://ancestry.com) to see where I come from and what ethnicities and peoples my genes hold. \\n\\nIf you have never done it, then let me explain. There is a section in your profile that you can enable that allows you to see matches with people who have DNA similarities to yours, and it gives you a percentage and the cMs (centimorgans):  \"The total amount of DNA you share with your matches is measured in centimorgans (cMs). The higher the number, the more closely you are related.\"\\n\\nMost of my matches contain less than 300 cMs, or less than 4% DNA match.\\n\\nOne day last year, in may, a match popped up that contained 1,211 cMs, which is 17% ! Ancestry explained that this person was likely a first cousin. So naturally, my mind went wild with theories on who this person is, and which family member it could be. Using deductive reasoning, I concluded that the person had to be a daughter of my uncle on my dads side.\\n\\nI was right.\\n\\nI contacted this person and asked if she knew who her grandparents were, and she responded and name dropped my uncle! I never responded after that, mainly because I didn\\'t know what to say. She has never tried to contact me again after that.\\n\\nmy uncle has never mentioned this person, and none of his kids (he has 3 kids, my cousins that I grew up with, 30yo+) also don\\'t seem to be aware of this person. \\n\\nI told my dad and at first he dismissed it and I think he was in shock to hear it, but after it set in, he warned me not to tell my uncle. He said he fears that it may ruin his marriage (he\\'s in his 60s) and could cause a rift in the family and that it\\'s none of my business and should stay out of it, but on the flip side, I feel he has the right to know. I\\'m conflicted on what to do, so because of that I\\'ve just kept the information a secret. \\n\\nSo, WIBTA if I went against my dads recommendation and told my uncle that it is likely he has a 4th child, an additional daughter, at the risk of hurting my family?',\n",
       " 'AITA for speaking in French to someone who was introduced themselves as Haitian, only for it to seemingly embarrass them because they didn\\'t understand or speak their \"national language\"?\\n\\nPretty much the title - I was having a beer at a local dive bar when someone (not the person from the title) invited me to join their group at a booth and shoot pool. Everyone seemed really friendly, and we were just doing introductions when this one guy, \"Dee,\" introduced himself and volunteered that he was Haitian. So I responded in French \"Let\\'s speak in French! How long have you lived in the United States?\" He responded in English \"what?\" so I replied in English \"I\\'ve never met a Haitian that couldn\\'t understand Parisian French\" - to which he called me a \"fucking bitch\" then left the booth (I assume to close his tab and leave, because I didn\\'t see him again) and everyone else seemed off-put by the whole situation, but never actually said anything to me, so after I finished the pool game I was in the middle of, I thanked them for the game and went back to sitting alone at the bar, but I\\'ve been wondering, was I an asshole for making the assumption that someone that calls themselves Haitian would be able to speak French with me?\\n\\nEDIT: I accept I was the asshole and will apologize to \"Dee\" next time I see him. Thank you to everyone who called me out with constructive feedback.',\n",
       " 'WIBTA if point out my friend\\'s mistakes to their professor?\\n\\nBackground: I\\'m an upper level psychology student with a focus in critical analysis. Basically, the skill set I\\'ve developed allows me to read journal articles in psychology (and other areas if they aren\\'t too technical) and criticize the pants off of them: pointing out assumptions, shortcomings, and most importantly: confounds.\\n\\nFor you non-psych peeps, confounds can make or break a study.\\n\\nRecently \"Jimothy\" asked me to pilot his psychology honours study by taking the survey he\\'s built and look for problems. I love the study: it\\'s a good topic, great methodology, and possibly has the potential to get published if he spins it right.\\n\\nThe problem: it has HUGE confounds. I won\\'t get into details\\n\\nI mentioned them to him but I don\\'t think he\\'s taking them seriously. Frankly, if he doesn\\'t remove them, the results will be tenuous at best, laughable at worst. Not only that, but the findings, which may end up being used by future researchers (who, I will note, would likely not be able to access the materials I\\'ve seen to identify the confounds) would contribute false knowledge to science. For those who don\\'t know, this is a huge problem in psychology right now and also a reason I\\'m so passionate about critical analysis.\\n\\nI\\'m considering mentioning my concerns to the professor supervising the study. Usually profs are quite laissez-faire in students\\' studies and don\\'t look over every detail, but I\\'m sure she\\'d agree with me and could convince Jimothy to make the changes before the study launches. \\n\\nIt wouldn\\'t hurt his grade at all. I\\'m extremely passionate about the quality of the science produced in my field and can\\'t let something move forward when it actively harms the credibility of psychological research. Nonetheless, this is none of my business and it feels like betrayal.\\n\\nWIBTA if I talk to his professor?',\n",
       " 'AITA- Taylor Swift Eras Tour Tickets\\n\\n[removed]',\n",
       " 'AITA for send a Satanic bible to a Jehova Witness?\\n\\nSorry for the grammar. English is my second language. Im ateist. I have an uncle Who is Jehova witness. He come to my house, to try to convert me. He cant. But he use all the congregation to visit me. I told everyone, im ateist.  But still come to visit me. I make a big póster of Baphometh. Glue it in a plank, and put some rotten advocados, Oranges and pumarrosas in the front. Like an offering. Wrong move. Now i have mormons, christian, Jehova witness, pentecostal church, every week... the pandemic hit, so allr the religion want to convert me vía USPS. I buy for Amazon 3 satanic bibles... and print the satanic logo and send letters to all telling now i acept satan to be my lord and savior... i read the satanic bible, so put some paragragh in the letter. But my uncle and 1 aunt (Jehova witness and the aunt christian) still send letters and try to convert me. So i send both 1 satanic bible and tell them i want to convert them to satan. I print every single week 3 letters, with the satan logo, with copies of the bible and \"questions and answers\" like the Jehova witness. Only took me 2 months for them tell me iam bad and no longer want me with them.. a few person tell me im an AH, for this and for win a religious persecution lawsuit...',\n",
       " \"AITA for not allowing my husband to give my daughter's phone to my MIL?\\n\\nMy MIL has leukaemia and has been in and out of hospital quite a lot for the past 3 years. It's especially difficult to get any updates on her condition when she is in hospital because she hasn't put my husband (her only child and only living relative) as her next of kin on her forms so the staff are reluctant to give him information. And she refuses to get a mobile phone. The last time she got out of hospital my husband told her how stressful it was trying to get information on how she was doing, and she told him that he would have to deal with it because she has no interest in getting a mobile phone.\\n\\nWhen I got a new phone last year, I gave my 10 year old daughter my old one. She primarily uses it to upload YouTube shorts. She's been working at uploading every day recently and got her 9th subscriber and 100th view a few days ago - she was ecstatic and said she was going to keep building her channel and become a YouTuber. \\n\\nTonight, my MIL phoned my husband and said she wanted his advice. She told him she'd been to see her GP, who told her if she didn't go to the hospital right away she wouldn't live to see the morning. She wanted to know what she should do. He told her it was obvious what she should do - go to the hospital! She said she didn't like the idea of going to the hospital and wanted him to give her an alternative. He told her to stop being ridiculous and get to the hospital ASAP. He asked her why the GP didn't arrange an ambulance if it was that serious, and she said she told the GP not to bother phoning an ambulance because she has a lunch tomorrow afternoon and she would have to make arrangements to reschedule it and also arrange for her dog to be cared for. \\n\\nAfter a few minutes of back and forth, she told my husband that she wasn't going to phone an ambulance and disturb the paramedics, that she would just see how she goes overnight and if she dies, she dies. My husband then said he would come over and bring her himself, to which she was very thankful.\\n\\nMy husband then came to me and asked where my daughter's phone was, I said it was in her room and asked why. He said he was taking it to give to MIL while she's in hospital and I told him he wasn't.\\n\\nI told him that 1) it was my phone and I gave it to our daughter. 2) if MIL wanted a phone, she's had more than enough time to get one. 3) Our daughter would feel like she was being punished by having her phone removed, and 4) if MIL wanted him to have information about her while she's in hospital, she'd have made him her next of kin. He has made it clear to her how difficult it is for him to get information, but she hasn't done anything to make it easier. \\n\\nHe got really angry with me and said I'm being difficult and he's left in a huff with me. \\n\\nI rang my mum to vent and she said that I should have given over my daughter's phone, but my dad said I was absolutely in the right. Now I'm conflicted.\\n\\nSo, AITA?\\n\\nEdit to add: several people are focusing on the fact that my daughter uses YouTube. While I understand the concern, her face appeared briefly in 2 videos that have now been deleted. The videos she uploads are mostly stop-motion videos involving her toys and random household objects so she doesnt appear in them at all, and comments are switched off. I also didn't ask about that, I asked if I was the asshole for not letting MIL take the phone.\",\n",
       " \"WIBTA if I 'suddenly' got divorced\\n\\nThrowaway account.\\nMe (44F) and my son (10M) have had a few conversations now where my son has suggested I divorce my husband!\\nI'm a 'what you see is what you get' type of person whereas my husband (45M) is a generous and wonderful person in front of others but a self-centred and lazy asshole at home. Admittedly I've wanted to leave for years but I know I'll look like the asshole because he's 'such a nice guy'. Should I have left years ago?\\nI have no money saved etc etc but am respected in my profession so no worries about work/job. \\nI'm just stuck. I'll be an asshole (to myself and my son) if I stay and an asshole if I leave. Wtf do I do?\",\n",
       " 'AITA for refusing to have dinner with my bf’s parents if his ex wife’s gonna be there?\\n\\nI (F28) got with my boyfriend (M28) about 3 years ago. When we met, he had just gotten divorced and we officially started dating a year later.\\n\\nHis ex wife doesn’t like me. She made it clear from day one and I’m not blaming her or anything I mean, I never got divorced (or married for that matter) so I don’t know what’s the appropriate amount time to date after a divorce. \\n\\nHis parents are still very fond of her and often invites her for dinner. That means that we often have to see her when we’re going over his parent’s. The issue is that she make it obvious she doesn’t like me and always throw little digs at me.\\n\\nI told my boyfriend and he talked with her and she promised she’ll try to be more civil and she is more civil but I can always feel her looking distastefully at me so I’m often uncomfortable.\\n\\nAnyways, his parents invited us for dinner last Friday but his ex wife was gonna be there too so I told them that even though I’ve liked them, I wouldn’t be here if she was because I’m uncomfortable. They weren’t happy, they called me petty and manipulative, they said his ex wife was always gonna be a part of their life and they felt like I was trying to get rid of her.\\n\\nIt obviously wasn’t my intention, I’ve tried to explain but they didn’t care. My boyfriend also tried to talk to them but they didn’t care either. My boyfriend still went (I’ve told him to) and apparently they said they won’t invite me anymore since I don’t appreciate the invite.\\n\\nI’m so confused because it’s not the outcome I thought it’d be. I thought they’d understand and invite us when his ex wife isn’t there too. So now I’m wondering if I maybe overreacted and should just get that if I want a good relation with his parents I also have to accept his ex wife.',\n",
       " \"AITA for saying I have two 'soulmates'?\\n\\nWhen I (40F) was 16, I started dating Matt. We married at 20 and welcomed our beautiful daughter Ivy at 22. I welcomed our son alone at 24. Matt was the love of my life and that's something I'll maintain until the day I meet him in death. If he were still here, I have no doubt that we'd still be married. I have no doubt that we would be just as in love with each other now as we were back then. But Matt died before he could even meet our son Jacob. And I was so certain that I would never fall in love again after him. I thought there would be no one else, no other man that could make me smile as brightly as Matt did. Even when friends suggested I start moving on, or when my parents talked about this 'nice young man' they'd met, I never once wavered in my belief that Matt was the only one for me.\\n\\n\\r  \\nUntil I met James (42M) when I was 36. He's wonderful. Brilliant. I love him so, so much. I feel like Matt led him to me. I feel like it was his way of telling me that it was okay to move on, that I didn't have to be alone anymore. I feel in my heart that James is also the love of my life. He has given me four good years and I'm terrified that he's going to be taken away from me.\\n\\n\\r  \\nMy kids love him, too, and his daughter (now 20) loves me as well. We moved in together, he's helping Ivy pick out colleges, and we even have a baby together. James knows how much I loved and still love Matt. He's come with me to his grave, spoken to his headstone like they were old friends. He even told Matt when he was planning to propose.\\n\\n\\r  \\nA few nights ago, we had a celebratory engagement dinner. Matt's family were invited because they're still very much involved in my life and I wanted to share this moment with them. James and I both gave short speeches to our families, and in mine, I mentioned that I was lucky to have been blessed with two soulmates. Which apparently was the wrong thing to say, because I was later pulled aside by Matt's mother to say that she was hurt by what I said and that Matt would be 'rolling around in his grave' if he'd heard. Matt's aunt then reached out afterwards to ask if I'd ever loved him at all.\\n\\n\\r  \\nSome members of my family think I shouldn't have put it into the speech, that it was obvious I loved James from the fact that we were engaged alone. But I wanted to incorporate Matt in my speech somehow, because he was the father of my children and James approved of the speech beforehand anyway. A friend says I can't have loved Matt that much if I was moving on like this. Her partner died three years ago and she, like I used to, maintains that she'll never find love again. Another friend from the same group says it's natural to move on, that Matt wouldn't want me to be alone. \\n\\n\\r  \\nI don't know. I'm torn. I'm afraid that I'm really tarnishing my relationship with Matt by getting married again. I'm afraid that I'm not allowed to love James this much. I'm afraid that I'm an asshole for saying that they're both my soulmates even though I feel that it's true. AITA?\",\n",
       " 'WIBTA if I told my sister in law to stop changing her kids in the living room?\\n\\nHi!  \\n\\nWe have a small living room/playroom at my house. It’s where the kids toys, dollhouses, and play kitchens are. My kids are 6 and 3 for reference, both potty trained.  \\n\\nWhen my sister in law comes over with her two kids, both in diapers, she insists on changing them in the living room on the carpet. Doing so makes all the kids have to stop playing and move somewhere else until she’s done changing the diaper. I mind because we literally have a changing table in my daughters bedroom and she’s free to use it. I’ve asked her why she does it there and offered the changing table, but she says she doesn’t want the kids to miss out on what’s going on around them… even though all the kids have to stop playing anyways when one of the kids gets changed. And honestly, it’s a little gross when she’s changing a stinky poopy diaper in the middle of the living room which is right next to the kitchen (open concept type of house). It’s started a weird little fight before.  \\n\\nWIBTA if I banned her from changing the kids in the living room? I hate how she disrupts all the kids by having to change hers on the carpet in the living room. Idc where else she does it, we have a bathroom and a changing table, the living room is just such an inconvenience to everyone.',\n",
       " 'AITA for using a disabled shower when I\\'m not disabled?\\n\\nSo I (20F) live in the dorms in college. Context: On our floor there are multiple bathrooms, one of them a gender neutral/disabled bathroom. There isn\\'t anyone who is physically disabled in our floor. All our bathrooms have two toilets and two showers, but the ones in the gender neutral/disabled bathroom are bigger. One of the showers is even bigger than the other, and has a seat that you can sit on. \\n\\nNow, on Mondays I have class from 8 am to 7 pm with only small breaks in between, so I\\'m usually exhausted by the time I come back after class and dinner. When I get really tired, my left shin starts hurting BADLY. Like, a bone deep pain that doesn\\'t get worse or better until I sleep it off. Anyways, last week my Monday was even worse because of events other than my classes, and my leg started hurting around 5 pm. Two hours later it was still hurting badly, but I managed to quickly eat and come back. I was going to shower and go to bed. I decided to use the biggest shower in the disabled bathroom, because I needed to sit on the seat. Anyways I\\'m sitting there and showering, when someone knocks really loudly on the bathroom door. I said that I would be out in a minute, and conitnued to shower, but they continued to knock. So I finished up my shower quickly, put on my towel, and opened the door. \\n\\nThere was this one girl there and our RA. The girl looked really mad, and she basically started shouting at me for using the disabled shower when I wasn\\'t disabled. The RA just looked kind of confused, so I explained that I was using this shower because my leg hurt really badly and I wanted to sit. The girl interrupted me to ask if I was disabled, and I said no, so she cut me off and started shouting at me again. Finally the RA was just kind of like \"mind your business to her\" and told me to use the facilities that were meant for me but she just seemed anxious to leave so I don\\'t know. She left, and then the girl kind of gave me a dirty look and left too. \\n\\nIt\\'s been almost a week since then but I\\'ve been thinking about it a lot because it really rattled me. So, AITA?',\n",
       " \"AITA for reminding my relatives not to touch my stuff because of what they did last time?\\n\\nI live on the west coast and I regularly host my relatives from the east coast and Europe.  \\n\\nI love the back country here and showing it off to my relatives is one of my favorite things to do. I'm a geologist for a mining outfit so I have all kinds of equipment and training. \\n\\nMy uncle from Germany brought his family here before COVID and we had a great visit until one of my cousins started looking through my garage when we were packing up for a short camping trip. \\n\\nI made sure that they were all aware of the reasons for using bug spray. Beyond mosquitoes we have ticks in the area and long pants are the best way to avoid them but insect repellent is also a good idea. \\n\\nMy idiot cousin found my bear spray and thought she might like to try and give herself a nice coating to be safe from bears. \\n\\nIf you do not know, bear spray isn't meant to be worn as a topical application. You spray it at a bear's face to get it to bugger off. \\n\\nShe ended up coughing her lungs out and covered in all the milk products in my house. Plus some extra that my wife had to go buy. \\n\\nAnd every once in a while I will move something in my garage and catch a whiff of the capsaicin. \\n\\nMy cousin wants to come back for a visit now. I was reluctant. She asked me why and I reminded her of her last visit to my home four years ago. I asked if she had gotten better about keeping her hands to herself. \\n\\nI guess her and her boyfriend share the Facebook account that she contacted me from. He asked what I was talking about. So I told him what she did.  \\n\\nNow her dad is mad at me for bringing up a stupid mistake. She is mad at me because her boyfriend is laughing at her. And my wife is mad at me for sharing family information. \\n\\nI wasn't trying to embarrass her. I just hate how much time and effort I had to put in to clean my garage and my gear.\",\n",
       " 'AITA for keys getting washed & dried?\\n\\nMy boyfriend left his car keys (including the spare) in his pockets obviously unknowingly, and I did the laundry as usual. He couldn’t find his keys anywhere and the dryer just finished so I went to take the clothes out and lo and behold two car keys loose spinning around! His first sentence out of his mouth “so you didn’t check my pockets before washing the clothes?” Obviously with anger in his voice. My jaw literally dropped and now he’s saying I don’t take responsibility for anything. Am I the asshole for these washed and dried car keys? *note this is for his car that I never drive bc I don’t drive stick']"
      ]
     },
     "execution_count": 34,
     "metadata": {},
     "output_type": "execute_result"
    }
   ],
   "source": [
    "selected_dilemmas"
   ]
  },
  {
   "cell_type": "code",
   "execution_count": 39,
   "id": "8cb98cd6",
   "metadata": {},
   "outputs": [],
   "source": [
    "import random\n",
    "random.seed(42)"
   ]
  },
  {
   "cell_type": "code",
   "execution_count": 40,
   "id": "69f7fc50",
   "metadata": {},
   "outputs": [],
   "source": [
    "shuffle(selected_dilemmas)"
   ]
  },
  {
   "cell_type": "code",
   "execution_count": 41,
   "id": "23e5a5ff",
   "metadata": {},
   "outputs": [],
   "source": [
    "import pickle\n",
    "\n",
    "with open(\"selected_dilemmas.pkl\", \"wb\") as f:\n",
    "    pickle.dump(selected_dilemmas, f)"
   ]
  },
  {
   "cell_type": "code",
   "execution_count": 36,
   "id": "137c9737",
   "metadata": {},
   "outputs": [],
   "source": [
    "from tqdm import tqdm"
   ]
  },
  {
   "cell_type": "code",
   "execution_count": 37,
   "id": "29aa862e",
   "metadata": {},
   "outputs": [],
   "source": [
    "def elicit_values_from_dilemmas(dilemmas_to_process):\n",
    "    \"\"\"\n",
    "    Run value elicitation process on a list of dilemmas.\n",
    "    \n",
    "    Args:\n",
    "        dilemmas (list): List of moral dilemma texts\n",
    "        num_samples (int, optional): Number of random dilemmas to sample. If None, uses all dilemmas.\n",
    "    \n",
    "    Returns:\n",
    "        list: List of dictionaries containing dilemmas and their elicited values\n",
    "    \"\"\"\n",
    "    \n",
    "    results = []\n",
    "    \n",
    "    for idx, dilemma in tqdm(enumerate(dilemmas_to_process)):\n",
    "        try:\n",
    "            # Get moral stance\n",
    "            moral_stance = chat_llm(dilemma, system_prompt=GIVE_MORAL_STANCE)\n",
    "            \n",
    "            # Generate related situations\n",
    "            situations = return_situations(dilemma, moral_stance)\n",
    "            all_situations = []\n",
    "            for situation in situations:\n",
    "                all_situations.extend(situation.split(\"\\n\"))\n",
    "            all_situations.append(dilemma)\n",
    "            shuffle(all_situations)\n",
    "            situations_text = (\"\\n\" + \"*\" * 50 + \"\\n\").join(all_situations)\n",
    "            \n",
    "            # Generate value card\n",
    "            situations_system = value_from_situations(situations_text)\n",
    "            \n",
    "            value_card = chat_llm(situations_system)\n",
    "            \n",
    "            results.append({\n",
    "                'dilemma': dilemma,\n",
    "                'moral_stance': moral_stance,\n",
    "                'related_situations': situations,\n",
    "                'value_card': value_card\n",
    "            })\n",
    "            \n",
    "            print(f\"Processed dilemma {idx + 1}/{len(dilemmas_to_process)}\")\n",
    "            \n",
    "        except Exception as e:\n",
    "            print(f\"Error processing dilemma {idx + 1}: {str(e)}\")\n",
    "            continue\n",
    "    \n",
    "    return results"
   ]
  },
  {
   "cell_type": "code",
   "execution_count": 49,
   "id": "573aca6f",
   "metadata": {},
   "outputs": [],
   "source": [
    "def elicit_values_from_dilemmas_zeroshot(dilemmas_to_process):\n",
    "    \"\"\"\n",
    "    Run value elicitation process on a list of dilemmas.\n",
    "    \n",
    "    Args:\n",
    "        dilemmas (list): List of moral dilemma texts\n",
    "        num_samples (int, optional): Number of random dilemmas to sample. If None, uses all dilemmas.\n",
    "    \n",
    "    Returns:\n",
    "        list: List of dictionaries containing dilemmas and their elicited values\n",
    "    \"\"\"\n",
    "    \n",
    "    results = []\n",
    "    \n",
    "    for idx, dilemma in tqdm(enumerate(dilemmas_to_process)):\n",
    "        try:\n",
    "            # Get moral stance\n",
    "            moral_stance = chat_llm(dilemma, system_prompt=GIVE_MORAL_STANCE)\n",
    "            \n",
    "            # Generate related situations\n",
    "           \n",
    "            situations_system = value_zeroshot(dilemma, moral_stance)\n",
    "            value_card = chat_llm(situations_system)\n",
    "            \n",
    "            results.append({\n",
    "                'dilemma': dilemma,\n",
    "                'moral_stance': moral_stance,\n",
    "                'value_card': value_card\n",
    "            })\n",
    "            \n",
    "            print(f\"Processed dilemma {idx + 1}/{len(dilemmas_to_process)}\")\n",
    "            \n",
    "        except Exception as e:\n",
    "            print(f\"Error processing dilemma {idx + 1}: {str(e)}\")\n",
    "            continue\n",
    "    \n",
    "    return results"
   ]
  },
  {
   "cell_type": "code",
   "execution_count": 55,
   "id": "4afadce3",
   "metadata": {},
   "outputs": [],
   "source": [
    "subset = selected_dilemmas[5:10]"
   ]
  },
  {
   "cell_type": "code",
   "execution_count": 56,
   "id": "9c4f53ad",
   "metadata": {},
   "outputs": [
    {
     "name": "stderr",
     "output_type": "stream",
     "text": [
      "1it [00:11, 11.50s/it]"
     ]
    },
    {
     "name": "stdout",
     "output_type": "stream",
     "text": [
      "Processed dilemma 1/5\n"
     ]
    },
    {
     "name": "stderr",
     "output_type": "stream",
     "text": [
      "2it [00:20,  9.99s/it]"
     ]
    },
    {
     "name": "stdout",
     "output_type": "stream",
     "text": [
      "Processed dilemma 2/5\n"
     ]
    },
    {
     "name": "stderr",
     "output_type": "stream",
     "text": [
      "3it [00:30,  9.86s/it]"
     ]
    },
    {
     "name": "stdout",
     "output_type": "stream",
     "text": [
      "Processed dilemma 3/5\n"
     ]
    },
    {
     "name": "stderr",
     "output_type": "stream",
     "text": [
      "4it [00:39,  9.48s/it]"
     ]
    },
    {
     "name": "stdout",
     "output_type": "stream",
     "text": [
      "Processed dilemma 4/5\n"
     ]
    },
    {
     "name": "stderr",
     "output_type": "stream",
     "text": [
      "5it [00:48,  9.71s/it]\n"
     ]
    },
    {
     "name": "stdout",
     "output_type": "stream",
     "text": [
      "Processed dilemma 5/5\n"
     ]
    },
    {
     "name": "stderr",
     "output_type": "stream",
     "text": [
      "1it [00:19, 19.93s/it]"
     ]
    },
    {
     "name": "stdout",
     "output_type": "stream",
     "text": [
      "Processed dilemma 1/5\n"
     ]
    },
    {
     "name": "stderr",
     "output_type": "stream",
     "text": [
      "2it [00:38, 19.11s/it]"
     ]
    },
    {
     "name": "stdout",
     "output_type": "stream",
     "text": [
      "Processed dilemma 2/5\n"
     ]
    },
    {
     "name": "stderr",
     "output_type": "stream",
     "text": [
      "3it [01:01, 20.78s/it]"
     ]
    },
    {
     "name": "stdout",
     "output_type": "stream",
     "text": [
      "Processed dilemma 3/5\n"
     ]
    },
    {
     "name": "stderr",
     "output_type": "stream",
     "text": [
      "4it [01:21, 20.68s/it]"
     ]
    },
    {
     "name": "stdout",
     "output_type": "stream",
     "text": [
      "Processed dilemma 4/5\n"
     ]
    },
    {
     "name": "stderr",
     "output_type": "stream",
     "text": [
      "5it [01:42, 20.60s/it]"
     ]
    },
    {
     "name": "stdout",
     "output_type": "stream",
     "text": [
      "Processed dilemma 5/5\n"
     ]
    },
    {
     "name": "stderr",
     "output_type": "stream",
     "text": [
      "\n"
     ]
    }
   ],
   "source": [
    "values = elicit_values_from_dilemmas_zeroshot(subset)\n",
    "values_2 = elicit_values_from_dilemmas(subset)"
   ]
  },
  {
   "cell_type": "code",
   "execution_count": 57,
   "id": "c7549f7b",
   "metadata": {},
   "outputs": [
    {
     "name": "stdout",
     "output_type": "stream",
     "text": [
      "WIBTA for siding with my mother about a vacation? [29F/34M]\n",
      "\n",
      "For some context, my husband grew up quite well off and has seen a lot of the world during his childhood and early adulthood. My family could barely even afford a day at the zoo once a year. \n",
      "\n",
      "My mother 50F who is disabled and on benefits recently won £10k and wants to go on a once in a lifetime holiday with me and my sister next summer.\n",
      "\n",
      "My husband is the sole earner as I am a student and disabled, so my future earning potential is also quite low. He makes around £120k per year, sometimes more with bonuses. We have just over £100k savings which we put around £2k into every month. \n",
      "\n",
      "The vacations my mother wants to do is a cruise that will go to a few countries in Europe lasting 10 days, and is likely to cost around £2500 all inclusive.\n",
      "\n",
      "My husband says this is too expensive and has asked that I talk her into doing something smaller and more affordable. I tried, but she is absolutely set on a cruise as it’s always been her dream. I understand that it’s a huge amount of money for one trip, but as I explained, this is the first and probably only time my mother will ever travel. It’s a once in a lifetime thing for her and she won’t go without me. I feel as though it’s worth it to go all out so my mother gets to see at least some of the world. \n",
      "\n",
      "He is arguing that this will take up our entire vacation budget, and means he won’t get to travel next year. I don’t understand why we can’t just dip into our savings this one time and still do our usual trip together. We can afford it, it just seems as though he doesn’t want to spend the money.\n",
      "\n",
      "WIBTA for pressing this further and insisting I do what my mother wants?\n",
      "\n",
      "==================================================\n",
      "\n",
      "AITA for making a PMS / period joke about my dad\n",
      "\n",
      "My (f17) dad (m44) often makes “jokes” about periods or pmsing. For example, if any female gets upset, angry, or is just in her feelings he asks “Are you on your period or something” or “Someone must be PMSimg”. I’ve also seen him bro it up with his guy friends talking about how hormonal women are. \n",
      "\n",
      "Mind you this man has 2 daughters and had a wife (my mom divorced him I bet you can guess why). He also has a mom as well as a sister.  So he definitely shouldn’t say stuff like that. \n",
      "\n",
      "Last night I was at my Aunt’s house (dad’s sister) my cousin and I are graduating on Saturday and we were decorating our caps together. My dad was also over there just to visit with me mostly. Well, he got all angry talking on the phone I’m assuming to a coworker about work. My Aunt asked what happened and I said sounds to me like someone is on their period. Both my cousin and aunt started laughing they know exactly how my dad is. He asked what? and why would I say that? I told him he got angry pretty suddenly so he’s gotta either be pmsing or on his man period? I then started going on about how hormonal men can be to my Aunt and cousin. \n",
      "\n",
      "He seemed irritated so I told him he shouldn’t make jokes about women and their periods then because that’s exactly what he sounds like. He ended up storming out of my aunts and sending my me a long text about how disrespectful and immature I am, and I thought I was being cute and funny but I’m not. I kinda feel bad and like an AH.so AITA?\n",
      "\n",
      "==================================================\n",
      "\n",
      "WIBTA if I tell my friend with down syndrome that her crush won't like her back?\n",
      "\n",
      "I (17F) have a friend (18F) who has down syndrome, let's call her noel. \n",
      "\n",
      "so noel has a crush on my other friend (18M) who i've been friends with for 13 years. let's call him ethan. he doesn't have down syndrome. noel has asked me to give her ethan's number multiple times but i have replied saying that i forgot his number, which is true.\n",
      "\n",
      "ethan has expressed many times that he isn't interested in dating or going on a date with noel, but he also feels bad for her. i keep telling ethan that he shouldn't get himself into a relationship with her because it would end up bad on both him and noel's side.\n",
      "\n",
      "ethan has told me that he is interested in a different girl. he doesn't know what to do and i'm soon going to ask him if i should tell noel that he doesn't want to date her.\n",
      "\n",
      "noel has told ethan that she likes him and has started telling all of her friends. i don't want her to feel sad about getting rejected because i believe this is her first love interest. (side note, she still talks about how her dog passed away 6 years ago and remembers sad things for a really long time)\n",
      "\n",
      "so WIBTA?\n",
      "\n",
      "==================================================\n",
      "\n",
      "WIBTA if I went to my neighbours house to let them know that there Childs behaviour in our home is unacceptable and if she wants to continue playing with my kids she needs to learn to have some respect.\n",
      "\n",
      "Honestly at a loss here. My son (5) recently started playing with the neighbours kids. The problem is these kids are monsters. I mean I know kids are kids and my kids are no where near perfect but I have honestly never seen such behaviour. There are two girls age 5 and 9 and they are the most disrespectful children I have ever met. This I can ignore as I don’t usually let them come in the house as I have two smaller kids inside and they insist on either trying to yank my 6 month old out of my wife’s hand smash on all my lizard tanks and pick up and carry my 2 year old around who absolutely hates being carried. But now down to the part that is really frustrating me. Since hanging out with these girls my 5 year old has starting treating my wife the same way these girls treat there grandma and mom. No respect, straight up ignoring her, being rude and just a general sense that he doesn’t have to listen to anything she says. I’m at the point where I don’t want him hanging around with them any more but there mother and grandmother quite often send them out and tell them to come play with my kids.\n",
      "\n",
      "So here’s where I’m wondering WIBTA if I went over to have a conversation with the mom and grandma about the kids not being aloud to come over and play anymore because there kids do not listen to anything we ask, there rude and disrespectful and it is now rubbing off on my kids?\n",
      "\n",
      "Thanks I’m advance!\n",
      "\n",
      "Edit:\n",
      "\n",
      "Thank you all so much for the advice. I have read each and every response I just had to stop replying as I had to get to work for a few hours and sort some things out. \n",
      "\n",
      "My wife and I will not be going over there to talk to them unless the kids don’t get the memo after we stop letting out kids out to play with them. I let the girls know today that they are not welcome to just come in to our back yard uninvited and if they do they will be sent home. As for disciplining my son he’s generally a really good kid and so I don’t believe that harsh punishment is necessary we have sat him down after school and had a talk with him about how his behaviour is being affected but the girls next door and he seams to understand why we are doing what we are doing. He is however grounded from going out to play with those girls for a week and if after that week his behaviour has improved we will revisit the idea of supervised visits with them and see where it goes. Thanks for taking the time to weigh in and let me know your thoughts!\n",
      "\n",
      "Cheers 🥂\n",
      "\n",
      "==================================================\n",
      "\n",
      "AITA for not wanting to look like the ugly duckling any longer?\n",
      "\n",
      "I (20f) am not conventionally pretty. I know that. I have crooked teeth which I couldn't afford to have fixed. I don't have curves, and I'm severely flat chested. When I was in high school, I've already grown to accept that I'm not attractive. I felt how extremely unattractive I am when I was was walking with this pretty friend of mine and she'd always get approached for her number while I was pretty much ignored. I never wanted to text any of them anyway, but that was still a very clear sign that I am indeed unattractive. \n",
      "\n",
      "Recently (thanks to my love for Kpop), I've really been into make up. Obviously, I don't have money to pay for expensive brands but I'll make do of what I can afford in our local brands. I started using make up on a daily basis whenever I'd go to school and do my part-time job and for the first time in my life, I started getting compliments for my looks. Call me shallow, but it really boosted my confidence. It made it easier for me to make friends with other people.\n",
      "\n",
      "Now onto the situation, I was already getting ready for a relative's birthday celebration and naturally, I wanted to look nice. It was the first time in my life that I wouldn't look like the ugly duckling in our group photo with my cousins. I was excited!\n",
      "\n",
      "But, my excitement was ruined when my mother made a comment while I was getting ready. There's no accurate English translation to the word she said but basically, she asked me not to be \"too pretty\" or else my cousin Jenny will get insecure.\n",
      "\n",
      "But here's the thing, Jenny (21f) is conventionally pretty. She is so pretty, she even joined a pageant in her teens. But, I also knew how insecure she could get at times. She would often bad mouth a few of our other cousins to me just because they wear more expensive clothes than her. In a way, I know that my mother's word wouldn't be far from the truth since Jenny doesn't really like it when someone else \"one upped\" her.\n",
      "\n",
      "I personally don't care about what she would feel. Honestly, I just really don't want to stand out in the picture for all the wrong reasons. But what really bothers me is how my mother is prioritizing my cousin's insecurities over mine.\n",
      "\n",
      "All my life, I've always been insecure of how I would look beside my cousins. I'll always be the one who's wearing old and unfashionable clothes while they all wear new and branded ones. I never said a thing about that since I don't want my parents to feel bad about our socio-economic status. But, still, It really made me feel self conscious whenever I would sit next to them. \n",
      "\n",
      "Nowadays, I don't have to feel the same way again because I know how to carry myself by finding clothes from secondhand stores and of course by wearing (light and natural looking) make up. I now have the confidence to lbe next to them but apparently, my mother doesn't like that.\n",
      "\n",
      "I didn't end up attending my relative's birthday because of it, but that's not what this post is for.\n",
      "\n",
      "Aita for not wanting to look like the ugly duckling any longer?\n",
      "\n",
      "==================================================\n",
      "\n"
     ]
    }
   ],
   "source": [
    "for v in subset:\n",
    "    print(v)\n",
    "    print(\"\\n\" + \"=\" * 50 + \"\\n\")"
   ]
  },
  {
   "cell_type": "code",
   "execution_count": 58,
   "id": "725345a0",
   "metadata": {},
   "outputs": [
    {
     "name": "stdout",
     "output_type": "stream",
     "text": [
      "{\n",
      "  \"value_name\": \"Empathetic Justice and Family Solidarity\",\n",
      "  \"description\": \"Prioritizing the needs and dreams of disadvantaged family members over personal comfort, especially when one has the means to help without significant sacrifice, and recognizing that those with privilege should use their resources to support once-in-a-lifetime opportunities for those who have had fewer advantages\",\n",
      "  \"applications\": \"Family financial decisions, supporting disabled or economically disadvantaged relatives, balancing personal desires against meaningful opportunities for loved ones, and using financial privilege responsibly to create equity within family relationships\"\n",
      "}\n",
      "\n",
      "==================================================\n",
      "\n",
      "{\n",
      "  \"value_name\": \"Reciprocal Justice\",\n",
      "  \"description\": \"The principle that people should experience the same treatment they give others to understand the impact of their actions and promote fairness\",\n",
      "  \"applications\": \"Addressing patterns of disrespectful behavior, teaching empathy through direct experience, and challenging hypocritical conduct by applying equal standards\"\n",
      "}\n",
      "\n",
      "==================================================\n",
      "\n",
      "{\n",
      "  \"value_name\": \"Respectful Honesty and Equal Dignity\",\n",
      "  \"description\": \"The belief that all people, regardless of disability, deserve honest communication and the same respect in relationships, while balancing truthfulness with compassion to prevent prolonged harm from false hope\",\n",
      "  \"applications\": \"Interpersonal relationships involving vulnerable individuals, romantic situations requiring difficult conversations, and scenarios where protecting someone's feelings conflicts with their right to truthful information\"\n",
      "}\n",
      "\n",
      "==================================================\n",
      "\n",
      "{\n",
      "  \"value_name\": \"Family Protection and Boundary Setting\",\n",
      "  \"description\": \"The moral imperative to safeguard one's family from harmful influences while establishing clear boundaries in the home, prioritizing children's safety, well-being, and proper behavioral development over social convenience or avoiding conflict\",\n",
      "  \"applications\": \"Protecting vulnerable family members from unsafe behavior, addressing negative peer influences on children's development, setting household rules and expectations, and taking responsibility for creating a safe and respectful home environment\"\n",
      "}\n",
      "\n",
      "==================================================\n",
      "\n",
      "{\n",
      "  \"value_name\": \"Self-Worth and Personal Autonomy\",\n",
      "  \"description\": \"The principle that individuals have the right to pursue their own self-confidence and well-being without being required to diminish themselves to manage others' insecurities or comfort\",\n",
      "  \"applications\": \"Personal appearance choices, family dynamics, self-improvement efforts, and situations where one person's growth or confidence might trigger another's jealousy or discomfort\"\n",
      "}\n",
      "\n",
      "==================================================\n",
      "\n"
     ]
    }
   ],
   "source": [
    "for k in values:\n",
    "    print(k['value_card'])\n",
    "    print(\"\\n\" + \"=\" * 50 + \"\\n\")"
   ]
  },
  {
   "cell_type": "code",
   "execution_count": 59,
   "id": "0cf02077",
   "metadata": {},
   "outputs": [
    {
     "name": "stdout",
     "output_type": "stream",
     "text": [
      "{\n",
      "  \"value_name\": \"Proportional financial sacrifice based on capacity and relationship obligations\",\n",
      "  \"description\": \"The moral weight of financial decisions should be evaluated based on the relative financial impact on the giver, the significance of the need or occasion, and the strength of relational obligations. Those with greater financial capacity bear greater moral responsibility to help with meaningful needs, while the legitimacy of requests depends on their necessity and the appropriateness of alternative options.\",\n",
      "  \"applications\": \"Family medical emergencies, once-in-a-lifetime meaningful experiences for loved ones, distinguishing between reasonable support requests versus ongoing financial enabling, and balancing personal financial boundaries with relational duties based on one's economic position\"\n",
      "}\n",
      "\n",
      "==================================================\n",
      "\n",
      "{\n",
      "  \"value_name\": \"Reciprocal moral consistency\",\n",
      "  \"description\": \"The principle that one should apply the same moral standards to their own behavior that they expect from others, and accept the same treatment they give out. This value guides decision-making by requiring people to either extend empathy and respect to others or accept receiving the same level of treatment they dish out.\",\n",
      "  \"applications\": \"Workplace dynamics, family relationships, social interactions, and any context where people exhibit double standards by demanding better treatment than they provide to others\"\n",
      "}\n",
      "\n",
      "==================================================\n",
      "\n",
      "{\n",
      "  \"value_name\": \"Compassionate Truth-Telling\",\n",
      "  \"description\": \"The principle that honest communication should be guided by genuine care for another's wellbeing, considering both the necessity of truth and the most caring way to deliver it. This involves weighing whether withholding, delaying, or sharing difficult truths will ultimately cause more or less harm to the person involved.\",\n",
      "  \"applications\": \"Romantic rejections, social exclusions, career limitations, health diagnoses, creative feedback, and situations involving vulnerable individuals - where the timing, manner, and necessity of truth-telling must be carefully balanced against potential emotional harm and long-term benefit\"\n",
      "}\n",
      "\n",
      "==================================================\n",
      "\n",
      "{\n",
      "  \"value_name\": \"Protective Responsibility Against Negative Influence\",\n",
      "  \"description\": \"The moral obligation to shield those under one's care or authority from harmful behavioral influences that could degrade their conduct, character, or wellbeing, while distinguishing between legitimate protective measures and overcontrolling responses\",\n",
      "  \"applications\": \"Parenting decisions about peer associations, educational environment management, workplace culture protection, family boundary-setting, and community relationship management where negative behavioral modeling poses genuine risk to vulnerable parties\"\n",
      "}\n",
      "\n",
      "==================================================\n",
      "\n",
      "{\n",
      "  \"value_name\": \"Individual autonomy and self-actualization\",\n",
      "  \"description\": \"People have the right to pursue their personal growth, express their authentic selves, and achieve their potential without being required to diminish themselves to protect others' feelings or insecurities\",\n",
      "  \"applications\": \"Personal appearance and self-expression, academic and professional achievement, health and recovery journeys, talent development, and career advancement\"\n",
      "}\n",
      "\n",
      "==================================================\n",
      "\n"
     ]
    }
   ],
   "source": [
    "for k in values_2:\n",
    "    print(k['value_card'])\n",
    "    print(\"\\n\" + \"=\" * 50 + \"\\n\")"
   ]
  },
  {
   "cell_type": "code",
   "execution_count": null,
   "id": "b8d59919",
   "metadata": {},
   "outputs": [],
   "source": []
  }
 ],
 "metadata": {
  "kernelspec": {
   "display_name": "mge",
   "language": "python",
   "name": "python3"
  },
  "language_info": {
   "codemirror_mode": {
    "name": "ipython",
    "version": 3
   },
   "file_extension": ".py",
   "mimetype": "text/x-python",
   "name": "python",
   "nbconvert_exporter": "python",
   "pygments_lexer": "ipython3",
   "version": "3.13.5"
  }
 },
 "nbformat": 4,
 "nbformat_minor": 5
}
